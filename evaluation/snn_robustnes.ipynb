{
 "cells": [
  {
   "cell_type": "markdown",
   "metadata": {},
   "source": [
    "# Notebook contains summary of adversarial robustness of different model"
   ]
  },
  {
   "cell_type": "code",
   "execution_count": 1,
   "metadata": {},
   "outputs": [],
   "source": [
    "import sys\n",
    "import os\n",
    "os.environ[\"CUDA_VISIBLE_DEVICES\"]=\"1\"\n",
    "d = os.path.dirname(os.getcwd())\n",
    "sys.path.insert(0, d)"
   ]
  },
  {
   "cell_type": "code",
   "execution_count": 2,
   "metadata": {
    "scrolled": false
   },
   "outputs": [
    {
     "name": "stdout",
     "output_type": "stream",
     "text": [
      "1.7.0\n",
      "True\n"
     ]
    }
   ],
   "source": [
    "from datetime import datetime as dt\n",
    "import torch\n",
    "print(torch.__version__)\n",
    "print(torch.cuda.is_available())\n",
    "\n",
    "import torch.nn as nn\n",
    "import torch.nn.functional as F\n",
    "from torch import optim\n",
    "\n",
    "import torchvision\n",
    "from torchvision.datasets import CIFAR10\n",
    "from torchvision.transforms import transforms\n",
    "\n",
    "from torch.utils.data import DataLoader\n",
    "\n",
    "import numpy as np\n",
    "import pandas as pd\n",
    "from matplotlib import pyplot as plt\n",
    "\n",
    "from utils.attacks import fgsm, pgd\n",
    "from utils.utils import plot_images\n",
    "from models.resnet import *\n",
    "from models.wide_resnet import WideResNet, SparseWideResNet"
   ]
  },
  {
   "cell_type": "code",
   "execution_count": 3,
   "metadata": {},
   "outputs": [],
   "source": [
    "from datetime import datetime as dt\n",
    "\n",
    "def clean_acc(model, loader):\n",
    "    clean_correct = 0.\n",
    "    model.eval()\n",
    "    with torch.no_grad():\n",
    "        for k, (X, y) in enumerate(loader, 1):\n",
    "            start = dt.now().replace(microsecond=0)\n",
    "            X, y = X.to(device), y.to(device)  \n",
    "            clean_correct += (model(X).argmax(dim=1) == y).sum().item()\n",
    "            end = dt.now().replace(microsecond=0)\n",
    "            print(f\"iter: {k}/{len(loader)} time: {end-start}\", end=\"\\r\")\n",
    "        print(\" \" * 50, end=\"\\r\")\n",
    "        acc = round(clean_correct / len(loader.dataset), 4)\n",
    "        print(f\"clean accuracy: {acc}\")\n",
    "    return acc\n",
    "\n",
    "def adv_acc(model, loader, loss_fn, attack, attack_params):\n",
    "    model.eval()\n",
    "    adv_correct = [0] * len(attack_params)\n",
    "    for i, (name, params) in enumerate(attack_params):\n",
    "        for k, (X, y) in enumerate(loader, 1):\n",
    "            start = dt.now().replace(microsecond=0)\n",
    "            X, y = X.to(device), y.to(device)\n",
    "            noise = attack(model, X, y, loss_fn, **params) \n",
    "            adv_correct[i] += (model(X+noise).argmax(dim=1) == y).sum().item()\n",
    "            end = dt.now().replace(microsecond=0)\n",
    "            print(f\"iter: {k}/{len(loader)} time: {end-start}\", end=\"\\r\")\n",
    "        print(\" \" * 50, end=\"\\r\")\n",
    "        print(f\"name: {name} accuracy: {(adv_correct[i] / len(loader.dataset)):.4f}\")\n",
    "    return [round(a/len(loader.dataset), 4) for a in adv_correct]\n",
    "\n",
    "\n",
    "def print_table(models, attacks, clean, adv):\n",
    "    d = {'model': models, 'clean image': clean}\n",
    "    for i, (name, p) in enumerate(attacks):\n",
    "        d[name] = [adv[j][i] for j, _ in enumerate(adv)]\n",
    "\n",
    "    return pd.DataFrame(data=d)"
   ]
  },
  {
   "cell_type": "code",
   "execution_count": 4,
   "metadata": {},
   "outputs": [
    {
     "name": "stdout",
     "output_type": "stream",
     "text": [
      "cuda\n"
     ]
    }
   ],
   "source": [
    "device = torch.device(\"cuda\") if torch.cuda.is_available() else torch.device(\"cpu\")\n",
    "print(device)"
   ]
  },
  {
   "cell_type": "code",
   "execution_count": 5,
   "metadata": {},
   "outputs": [
    {
     "name": "stdout",
     "output_type": "stream",
     "text": [
      "Files already downloaded and verified\n"
     ]
    }
   ],
   "source": [
    "test_transform = transforms.Compose([\n",
    "    transforms.ToTensor(),\n",
    "])\n",
    "\n",
    "ds = CIFAR10('../data', train=False, target_transform=None, download=True, transform=test_transform)\n",
    "test_loader = DataLoader(ds, 500, shuffle=True)"
   ]
  },
  {
   "cell_type": "code",
   "execution_count": 6,
   "metadata": {},
   "outputs": [],
   "source": [
    "def create_attack(eps, alpha, num_iter):\n",
    "    d = {\n",
    "        \"epsilon\": eps,\n",
    "        \"alpha\": alpha,\n",
    "        \"num_iter\": num_iter\n",
    "    }\n",
    "    return (f\"e={eps:.4f},a={alpha:.4f},i={num_iter}\", d)\n",
    "    \n",
    "\n",
    "attack1 = create_attack(eps=8/255, alpha=2/255, num_iter=20)\n",
    "attack2 = create_attack(eps=4/255, alpha=2/255, num_iter=20)\n",
    "\n",
    "params = [attack1, attack2]"
   ]
  },
  {
   "cell_type": "markdown",
   "metadata": {},
   "source": [
    "# ResNet18 vs Sparse ResNet 18"
   ]
  },
  {
   "cell_type": "code",
   "execution_count": 7,
   "metadata": {},
   "outputs": [],
   "source": [
    "clean, adv = [], []"
   ]
  },
  {
   "cell_type": "code",
   "execution_count": 8,
   "metadata": {
    "scrolled": true
   },
   "outputs": [
    {
     "name": "stdout",
     "output_type": "stream",
     "text": [
      "clean accuracy: 0.9272                            \n",
      "name: e=0.0314,a=0.0078,i=20 accuracy: 0.0000     \n",
      "name: e=0.0157,a=0.0078,i=20 accuracy: 0.0006     \n"
     ]
    }
   ],
   "source": [
    "model = resnet18().to(device)\n",
    "model.load_state_dict(torch.load(\"../saved/resnet18.pt\", map_location=device))\n",
    "\n",
    "acc = clean_acc(model, test_loader)\n",
    "acc_adv = adv_acc(model, test_loader, nn.CrossEntropyLoss(), pgd, params)\n",
    "\n",
    "clean.append(acc)\n",
    "adv.append(acc_adv)"
   ]
  },
  {
   "cell_type": "code",
   "execution_count": 9,
   "metadata": {},
   "outputs": [
    {
     "name": "stdout",
     "output_type": "stream",
     "text": [
      "clean accuracy: 0.9082                            \n",
      "name: e=0.0314,a=0.0078,i=20 accuracy: 0.0000     \n",
      "name: e=0.0157,a=0.0078,i=20 accuracy: 0.0042     \n"
     ]
    }
   ],
   "source": [
    "model = sparse_resnet18().to(device)\n",
    "model.load_state_dict(torch.load(\"../saved/sparse_resnet18.pt\", map_location=device))\n",
    "\n",
    "acc = clean_acc(model, test_loader)\n",
    "acc_adv = adv_acc(model, test_loader, nn.CrossEntropyLoss(), pgd, params)\n",
    "\n",
    "clean.append(acc)\n",
    "adv.append(acc_adv)"
   ]
  },
  {
   "cell_type": "code",
   "execution_count": 10,
   "metadata": {},
   "outputs": [
    {
     "name": "stdout",
     "output_type": "stream",
     "text": [
      "clean accuracy: 0.7906                            \n",
      "name: e=0.0314,a=0.0078,i=20 accuracy: 0.4765     \n",
      "name: e=0.0157,a=0.0078,i=20 accuracy: 0.6515     \n"
     ]
    }
   ],
   "source": [
    "model = resnet18().to(device)\n",
    "model.load_state_dict(torch.load(\"../saved/resnet18_AT.pt\", map_location=device))\n",
    "\n",
    "acc = clean_acc(model, test_loader)\n",
    "acc_adv = adv_acc(model, test_loader, nn.CrossEntropyLoss(), pgd, params)\n",
    "\n",
    "clean.append(acc)\n",
    "adv.append(acc_adv)"
   ]
  },
  {
   "cell_type": "code",
   "execution_count": 12,
   "metadata": {},
   "outputs": [
    {
     "name": "stdout",
     "output_type": "stream",
     "text": [
      "clean accuracy: 0.6714                            \n",
      "name: e=0.0314,a=0.0078,i=20 accuracy: 0.3475     \n",
      "name: e=0.0157,a=0.0078,i=20 accuracy: 0.5142     \n"
     ]
    }
   ],
   "source": [
    "model = sparse_resnet18().to(device)\n",
    "model.load_state_dict(torch.load(\"../saved/sparse_resnet18_AT.pt\", map_location=device))\n",
    "\n",
    "acc = clean_acc(model, test_loader)\n",
    "acc_adv = adv_acc(model, test_loader, nn.CrossEntropyLoss(), pgd, params)\n",
    "\n",
    "clean.append(acc)\n",
    "adv.append(acc_adv)"
   ]
  },
  {
   "cell_type": "code",
   "execution_count": 13,
   "metadata": {},
   "outputs": [
    {
     "data": {
      "text/html": [
       "<div>\n",
       "<style scoped>\n",
       "    .dataframe tbody tr th:only-of-type {\n",
       "        vertical-align: middle;\n",
       "    }\n",
       "\n",
       "    .dataframe tbody tr th {\n",
       "        vertical-align: top;\n",
       "    }\n",
       "\n",
       "    .dataframe thead th {\n",
       "        text-align: right;\n",
       "    }\n",
       "</style>\n",
       "<table border=\"1\" class=\"dataframe\">\n",
       "  <thead>\n",
       "    <tr style=\"text-align: right;\">\n",
       "      <th></th>\n",
       "      <th>model</th>\n",
       "      <th>clean image</th>\n",
       "      <th>e=0.0314,a=0.0078,i=20</th>\n",
       "      <th>e=0.0157,a=0.0078,i=20</th>\n",
       "    </tr>\n",
       "  </thead>\n",
       "  <tbody>\n",
       "    <tr>\n",
       "      <th>0</th>\n",
       "      <td>ResNet18</td>\n",
       "      <td>0.9272</td>\n",
       "      <td>0.0000</td>\n",
       "      <td>0.0006</td>\n",
       "    </tr>\n",
       "    <tr>\n",
       "      <th>1</th>\n",
       "      <td>Sparse ResNet18</td>\n",
       "      <td>0.9082</td>\n",
       "      <td>0.0000</td>\n",
       "      <td>0.0042</td>\n",
       "    </tr>\n",
       "    <tr>\n",
       "      <th>2</th>\n",
       "      <td>ResNet18 AT</td>\n",
       "      <td>0.7906</td>\n",
       "      <td>0.4765</td>\n",
       "      <td>0.6515</td>\n",
       "    </tr>\n",
       "    <tr>\n",
       "      <th>3</th>\n",
       "      <td>Sparse ResNet18 AT</td>\n",
       "      <td>0.6714</td>\n",
       "      <td>0.3475</td>\n",
       "      <td>0.5142</td>\n",
       "    </tr>\n",
       "  </tbody>\n",
       "</table>\n",
       "</div>"
      ],
      "text/plain": [
       "                model  clean image  e=0.0314,a=0.0078,i=20  \\\n",
       "0            ResNet18       0.9272                  0.0000   \n",
       "1     Sparse ResNet18       0.9082                  0.0000   \n",
       "2         ResNet18 AT       0.7906                  0.4765   \n",
       "3  Sparse ResNet18 AT       0.6714                  0.3475   \n",
       "\n",
       "   e=0.0157,a=0.0078,i=20  \n",
       "0                  0.0006  \n",
       "1                  0.0042  \n",
       "2                  0.6515  \n",
       "3                  0.5142  "
      ]
     },
     "execution_count": 13,
     "metadata": {},
     "output_type": "execute_result"
    }
   ],
   "source": [
    "models_names = [\"ResNet18\", \"Sparse ResNet18\", \"ResNet18 AT\", \"Sparse ResNet18 AT\"]\n",
    "resnets = print_table(models_names, params, clean, adv)\n",
    "resnets"
   ]
  },
  {
   "cell_type": "code",
   "execution_count": null,
   "metadata": {},
   "outputs": [],
   "source": []
  }
 ],
 "metadata": {
  "kernelspec": {
   "display_name": "Python 3",
   "language": "python",
   "name": "python3"
  },
  "language_info": {
   "codemirror_mode": {
    "name": "ipython",
    "version": 3
   },
   "file_extension": ".py",
   "mimetype": "text/x-python",
   "name": "python",
   "nbconvert_exporter": "python",
   "pygments_lexer": "ipython3",
   "version": "3.8.3"
  }
 },
 "nbformat": 4,
 "nbformat_minor": 1
}
