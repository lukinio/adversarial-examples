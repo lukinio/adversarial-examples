{
 "cells": [
  {
   "cell_type": "code",
   "execution_count": 1,
   "metadata": {},
   "outputs": [],
   "source": [
    "import sys\n",
    "import os\n",
    "os.environ[\"CUDA_VISIBLE_DEVICES\"]=\"1\"\n",
    "d = os.path.dirname(os.getcwd())\n",
    "sys.path.insert(0, d)"
   ]
  },
  {
   "cell_type": "code",
   "execution_count": 2,
   "metadata": {
    "scrolled": false
   },
   "outputs": [
    {
     "name": "stdout",
     "output_type": "stream",
     "text": [
      "1.7.0\n",
      "True\n"
     ]
    }
   ],
   "source": [
    "from datetime import datetime as dt\n",
    "import torch\n",
    "print(torch.__version__)\n",
    "print(torch.cuda.is_available())\n",
    "\n",
    "import torch.nn as nn\n",
    "import torch.nn.functional as F\n",
    "from torch import optim\n",
    "\n",
    "import torchvision\n",
    "from torchvision.datasets import CIFAR10, MNIST\n",
    "from torchvision.transforms import transforms\n",
    "\n",
    "from torch.utils.data import DataLoader\n",
    "\n",
    "import numpy as np\n",
    "import pandas as pd\n",
    "from matplotlib import pyplot as plt\n",
    "\n",
    "from utils.attacks import pgd\n",
    "from utils.utils import plot_images\n",
    "from models.mnist_model import *"
   ]
  },
  {
   "cell_type": "code",
   "execution_count": 3,
   "metadata": {},
   "outputs": [],
   "source": [
    "from datetime import datetime as dt\n",
    "\n",
    "def clean_acc(model, loader):\n",
    "    clean_correct = 0.\n",
    "    model.eval()\n",
    "    with torch.no_grad():\n",
    "        for k, (X, y) in enumerate(loader, 1):\n",
    "            start = dt.now().replace(microsecond=0)\n",
    "            X, y = X.to(device), y.to(device)  \n",
    "            clean_correct += (model(X).argmax(dim=1) == y).sum().item()\n",
    "            end = dt.now().replace(microsecond=0)\n",
    "            print(f\"iter: {k}/{len(loader)} time: {end-start}\", end=\"\\r\")\n",
    "        print(\" \" * 50, end=\"\\r\")\n",
    "        acc = round(clean_correct / len(loader.dataset), 4)\n",
    "        print(f\"clean accuracy: {acc}\")\n",
    "    return acc\n",
    "\n",
    "def adv_acc(model, loader, loss_fn, attack, attack_params):\n",
    "    model.eval()\n",
    "    adv_correct = [0] * len(attack_params)\n",
    "    for i, (name, params) in enumerate(attack_params):\n",
    "        for k, (X, y) in enumerate(loader, 1):\n",
    "            start = dt.now().replace(microsecond=0)\n",
    "            X, y = X.to(device), y.to(device)\n",
    "            noise = attack(model, X, y, loss_fn, **params) \n",
    "            adv_correct[i] += (model(X+noise).argmax(dim=1) == y).sum().item()\n",
    "            end = dt.now().replace(microsecond=0)\n",
    "            print(f\"iter: {k}/{len(loader)} time: {end-start}\", end=\"\\r\")\n",
    "        print(\" \" * 50, end=\"\\r\")\n",
    "        print(f\"name: {name} accuracy: {(adv_correct[i] / len(loader.dataset)):.4f}\")\n",
    "    return [round(a/len(loader.dataset), 4) for a in adv_correct]\n",
    "\n",
    "\n",
    "def print_table(models, attacks, clean, adv):\n",
    "    d = {'model': models, 'clean image': clean}\n",
    "    for i, (name, p) in enumerate(attacks):\n",
    "        d[name] = [adv[j][i] for j, _ in enumerate(adv)]\n",
    "\n",
    "    return pd.DataFrame(data=d)"
   ]
  },
  {
   "cell_type": "code",
   "execution_count": 4,
   "metadata": {},
   "outputs": [
    {
     "name": "stdout",
     "output_type": "stream",
     "text": [
      "cuda\n"
     ]
    }
   ],
   "source": [
    "device = torch.device(\"cuda\") if torch.cuda.is_available() else torch.device(\"cpu\")\n",
    "print(device)"
   ]
  },
  {
   "cell_type": "code",
   "execution_count": 5,
   "metadata": {},
   "outputs": [],
   "source": [
    "test_transform = transforms.Compose([\n",
    "    transforms.ToTensor(),\n",
    "])\n",
    "\n",
    "ds = MNIST('../data', train=False, target_transform=None, download=True, transform=test_transform)\n",
    "test_loader = DataLoader(ds, 2000, shuffle=True)"
   ]
  },
  {
   "cell_type": "code",
   "execution_count": 6,
   "metadata": {},
   "outputs": [],
   "source": [
    "def create_attack(eps, alpha, num_iter):\n",
    "    d = {\n",
    "        \"epsilon\": eps,\n",
    "        \"alpha\": alpha,\n",
    "        \"num_iter\": num_iter\n",
    "    }\n",
    "    return (f\"e={eps:.1f},a={alpha:.1f},i={num_iter}\", d)\n",
    "    \n",
    "\n",
    "attack1 = create_attack(eps=0.1, alpha=0.1, num_iter=30)\n",
    "attack2 = create_attack(eps=0.2, alpha=0.1, num_iter=30)\n",
    "attack3 = create_attack(eps=0.3, alpha=0.1, num_iter=30)\n",
    "\n",
    "\n",
    "params = [attack1, attack2, attack3]"
   ]
  },
  {
   "cell_type": "code",
   "execution_count": 7,
   "metadata": {},
   "outputs": [],
   "source": [
    "dtl_clean, dtl_adv = [], []"
   ]
  },
  {
   "cell_type": "code",
   "execution_count": 8,
   "metadata": {},
   "outputs": [
    {
     "name": "stdout",
     "output_type": "stream",
     "text": [
      "clean accuracy: 0.9677                            \n",
      "name: e=0.1,a=0.1,i=30 accuracy: 0.0204           \n",
      "name: e=0.2,a=0.1,i=30 accuracy: 0.0000           \n",
      "name: e=0.3,a=0.1,i=30 accuracy: 0.0000           \n"
     ]
    }
   ],
   "source": [
    "model = MnistBaseModel().to(device)\n",
    "model.load_state_dict(torch.load(\"../saved/mnist_base_model.pt\", map_location=device))\n",
    "\n",
    "acc = clean_acc(model, test_loader)\n",
    "acc_adv = adv_acc(model, test_loader, nn.CrossEntropyLoss(), pgd, params)\n",
    "\n",
    "dtl_clean.append(acc)\n",
    "dtl_adv.append(acc_adv)"
   ]
  },
  {
   "cell_type": "code",
   "execution_count": 9,
   "metadata": {},
   "outputs": [
    {
     "name": "stdout",
     "output_type": "stream",
     "text": [
      "clean accuracy: 0.7788                            \n",
      "name: e=0.1,a=0.1,i=30 accuracy: 0.1117           \n",
      "name: e=0.2,a=0.1,i=30 accuracy: 0.0862           \n",
      "name: e=0.3,a=0.1,i=30 accuracy: 0.0837           \n"
     ]
    }
   ],
   "source": [
    "model = MnistDTLModel().to(device)\n",
    "model.load_state_dict(torch.load(\"../saved/mnist_dtl_model.pt\", map_location=device))\n",
    "\n",
    "acc = clean_acc(model, test_loader)\n",
    "acc_adv = adv_acc(model, test_loader, nn.CrossEntropyLoss(), pgd, params)\n",
    "\n",
    "dtl_clean.append(acc)\n",
    "dtl_adv.append(acc_adv)"
   ]
  },
  {
   "cell_type": "code",
   "execution_count": 10,
   "metadata": {},
   "outputs": [
    {
     "data": {
      "text/html": [
       "<div>\n",
       "<style scoped>\n",
       "    .dataframe tbody tr th:only-of-type {\n",
       "        vertical-align: middle;\n",
       "    }\n",
       "\n",
       "    .dataframe tbody tr th {\n",
       "        vertical-align: top;\n",
       "    }\n",
       "\n",
       "    .dataframe thead th {\n",
       "        text-align: right;\n",
       "    }\n",
       "</style>\n",
       "<table border=\"1\" class=\"dataframe\">\n",
       "  <thead>\n",
       "    <tr style=\"text-align: right;\">\n",
       "      <th></th>\n",
       "      <th>model</th>\n",
       "      <th>clean image</th>\n",
       "      <th>e=0.1,a=0.1,i=30</th>\n",
       "      <th>e=0.2,a=0.1,i=30</th>\n",
       "      <th>e=0.3,a=0.1,i=30</th>\n",
       "    </tr>\n",
       "  </thead>\n",
       "  <tbody>\n",
       "    <tr>\n",
       "      <th>0</th>\n",
       "      <td>Base Model</td>\n",
       "      <td>0.9677</td>\n",
       "      <td>0.0204</td>\n",
       "      <td>0.0000</td>\n",
       "      <td>0.0000</td>\n",
       "    </tr>\n",
       "    <tr>\n",
       "      <th>1</th>\n",
       "      <td>DTL Model</td>\n",
       "      <td>0.7788</td>\n",
       "      <td>0.1117</td>\n",
       "      <td>0.0862</td>\n",
       "      <td>0.0837</td>\n",
       "    </tr>\n",
       "  </tbody>\n",
       "</table>\n",
       "</div>"
      ],
      "text/plain": [
       "        model  clean image  e=0.1,a=0.1,i=30  e=0.2,a=0.1,i=30  \\\n",
       "0  Base Model       0.9677            0.0204            0.0000   \n",
       "1   DTL Model       0.7788            0.1117            0.0862   \n",
       "\n",
       "   e=0.3,a=0.1,i=30  \n",
       "0            0.0000  \n",
       "1            0.0837  "
      ]
     },
     "execution_count": 10,
     "metadata": {},
     "output_type": "execute_result"
    }
   ],
   "source": [
    "models_names = [\"Base Model\", \"DTL Model\"]\n",
    "dtl_results = print_table(models_names, params, dtl_clean, dtl_adv)\n",
    "dtl_results"
   ]
  },
  {
   "cell_type": "code",
   "execution_count": 11,
   "metadata": {},
   "outputs": [],
   "source": [
    "dtl_conv_clean, dtl_conv_adv = [], []"
   ]
  },
  {
   "cell_type": "code",
   "execution_count": 12,
   "metadata": {},
   "outputs": [
    {
     "name": "stdout",
     "output_type": "stream",
     "text": [
      "clean accuracy: 0.9855                            \n",
      "name: e=0.1,a=0.1,i=30 accuracy: 0.3660           \n",
      "name: e=0.2,a=0.1,i=30 accuracy: 0.0032           \n",
      "name: e=0.3,a=0.1,i=30 accuracy: 0.0000           \n"
     ]
    }
   ],
   "source": [
    "model = MnistBaseConvModel().to(device)\n",
    "model.load_state_dict(torch.load(\"../saved/mnist_base_conv_model.pt\", map_location=device))\n",
    "\n",
    "acc = clean_acc(model, test_loader)\n",
    "acc_adv = adv_acc(model, test_loader, nn.CrossEntropyLoss(), pgd, params)\n",
    "\n",
    "dtl_conv_clean.append(acc)\n",
    "dtl_conv_adv.append(acc_adv)"
   ]
  },
  {
   "cell_type": "code",
   "execution_count": 13,
   "metadata": {},
   "outputs": [
    {
     "name": "stdout",
     "output_type": "stream",
     "text": [
      "clean accuracy: 0.8896                            \n",
      "name: e=0.1,a=0.1,i=30 accuracy: 0.4869           \n",
      "name: e=0.2,a=0.1,i=30 accuracy: 0.1599           \n",
      "name: e=0.3,a=0.1,i=30 accuracy: 0.1388           \n"
     ]
    }
   ],
   "source": [
    "model = MnistDTLConvModel().to(device)\n",
    "model.load_state_dict(torch.load(\"../saved/mnist_dtl_conv_model.pt\", map_location=device))\n",
    "\n",
    "acc = clean_acc(model, test_loader)\n",
    "acc_adv = adv_acc(model, test_loader, nn.CrossEntropyLoss(), pgd, params)\n",
    "\n",
    "dtl_conv_clean.append(acc)\n",
    "dtl_conv_adv.append(acc_adv)"
   ]
  },
  {
   "cell_type": "code",
   "execution_count": 14,
   "metadata": {},
   "outputs": [
    {
     "name": "stdout",
     "output_type": "stream",
     "text": [
      "clean accuracy: 0.9775                            \n",
      "name: e=0.1,a=0.1,i=30 accuracy: 0.9629           \n",
      "name: e=0.2,a=0.1,i=30 accuracy: 0.9383           \n",
      "name: e=0.3,a=0.1,i=30 accuracy: 0.8607           \n"
     ]
    }
   ],
   "source": [
    "model = MnistBaseConvModel().to(device)\n",
    "model.load_state_dict(torch.load(\"../saved/mnist_base_conv_model_AT.pt\", map_location=device))\n",
    "\n",
    "acc = clean_acc(model, test_loader)\n",
    "acc_adv = adv_acc(model, test_loader, nn.CrossEntropyLoss(), pgd, params)\n",
    "\n",
    "dtl_conv_clean.append(acc)\n",
    "dtl_conv_adv.append(acc_adv)"
   ]
  },
  {
   "cell_type": "code",
   "execution_count": 15,
   "metadata": {},
   "outputs": [
    {
     "name": "stdout",
     "output_type": "stream",
     "text": [
      "clean accuracy: 0.8881                            \n",
      "name: e=0.1,a=0.1,i=30 accuracy: 0.8735           \n",
      "name: e=0.2,a=0.1,i=30 accuracy: 0.8517           \n",
      "name: e=0.3,a=0.1,i=30 accuracy: 0.7931           \n"
     ]
    }
   ],
   "source": [
    "model = MnistDTLConvModel().to(device)\n",
    "model.load_state_dict(torch.load(\"../saved/mnist_dtl_conv_model_AT.pt\", map_location=device))\n",
    "\n",
    "acc = clean_acc(model, test_loader)\n",
    "acc_adv = adv_acc(model, test_loader, nn.CrossEntropyLoss(), pgd, params)\n",
    "\n",
    "dtl_conv_clean.append(acc)\n",
    "dtl_conv_adv.append(acc_adv)"
   ]
  },
  {
   "cell_type": "code",
   "execution_count": 16,
   "metadata": {},
   "outputs": [
    {
     "data": {
      "text/html": [
       "<div>\n",
       "<style scoped>\n",
       "    .dataframe tbody tr th:only-of-type {\n",
       "        vertical-align: middle;\n",
       "    }\n",
       "\n",
       "    .dataframe tbody tr th {\n",
       "        vertical-align: top;\n",
       "    }\n",
       "\n",
       "    .dataframe thead th {\n",
       "        text-align: right;\n",
       "    }\n",
       "</style>\n",
       "<table border=\"1\" class=\"dataframe\">\n",
       "  <thead>\n",
       "    <tr style=\"text-align: right;\">\n",
       "      <th></th>\n",
       "      <th>model</th>\n",
       "      <th>clean image</th>\n",
       "      <th>e=0.1,a=0.1,i=30</th>\n",
       "      <th>e=0.2,a=0.1,i=30</th>\n",
       "      <th>e=0.3,a=0.1,i=30</th>\n",
       "    </tr>\n",
       "  </thead>\n",
       "  <tbody>\n",
       "    <tr>\n",
       "      <th>0</th>\n",
       "      <td>Base Conv Model</td>\n",
       "      <td>0.9855</td>\n",
       "      <td>0.3660</td>\n",
       "      <td>0.0032</td>\n",
       "      <td>0.0000</td>\n",
       "    </tr>\n",
       "    <tr>\n",
       "      <th>1</th>\n",
       "      <td>DTL Conv Model</td>\n",
       "      <td>0.8896</td>\n",
       "      <td>0.4869</td>\n",
       "      <td>0.1599</td>\n",
       "      <td>0.1388</td>\n",
       "    </tr>\n",
       "    <tr>\n",
       "      <th>2</th>\n",
       "      <td>Base Conv Model AT</td>\n",
       "      <td>0.9775</td>\n",
       "      <td>0.9629</td>\n",
       "      <td>0.9383</td>\n",
       "      <td>0.8607</td>\n",
       "    </tr>\n",
       "    <tr>\n",
       "      <th>3</th>\n",
       "      <td>DTL Conv Model AT</td>\n",
       "      <td>0.8881</td>\n",
       "      <td>0.8735</td>\n",
       "      <td>0.8517</td>\n",
       "      <td>0.7931</td>\n",
       "    </tr>\n",
       "  </tbody>\n",
       "</table>\n",
       "</div>"
      ],
      "text/plain": [
       "                model  clean image  e=0.1,a=0.1,i=30  e=0.2,a=0.1,i=30  \\\n",
       "0     Base Conv Model       0.9855            0.3660            0.0032   \n",
       "1      DTL Conv Model       0.8896            0.4869            0.1599   \n",
       "2  Base Conv Model AT       0.9775            0.9629            0.9383   \n",
       "3   DTL Conv Model AT       0.8881            0.8735            0.8517   \n",
       "\n",
       "   e=0.3,a=0.1,i=30  \n",
       "0            0.0000  \n",
       "1            0.1388  \n",
       "2            0.8607  \n",
       "3            0.7931  "
      ]
     },
     "execution_count": 16,
     "metadata": {},
     "output_type": "execute_result"
    }
   ],
   "source": [
    "models_names = [\"Base Conv Model\", \"DTL Conv Model\", \"Base Conv Model AT\", \"DTL Conv Model AT\"]\n",
    "dtl_conv_results = print_table(models_names, params, dtl_conv_clean, dtl_conv_adv)\n",
    "dtl_conv_results"
   ]
  },
  {
   "cell_type": "code",
   "execution_count": null,
   "metadata": {},
   "outputs": [],
   "source": []
  }
 ],
 "metadata": {
  "kernelspec": {
   "display_name": "Python 3",
   "language": "python",
   "name": "python3"
  },
  "language_info": {
   "codemirror_mode": {
    "name": "ipython",
    "version": 3
   },
   "file_extension": ".py",
   "mimetype": "text/x-python",
   "name": "python",
   "nbconvert_exporter": "python",
   "pygments_lexer": "ipython3",
   "version": "3.7.9"
  }
 },
 "nbformat": 4,
 "nbformat_minor": 1
}
