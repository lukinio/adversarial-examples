{
 "cells": [
  {
   "cell_type": "code",
   "execution_count": 1,
   "metadata": {},
   "outputs": [],
   "source": [
    "import sys\n",
    "import os\n",
    "os.environ[\"CUDA_VISIBLE_DEVICES\"]=\"0\"\n",
    "d = os.path.dirname(os.getcwd())\n",
    "sys.path.insert(0, d)"
   ]
  },
  {
   "cell_type": "code",
   "execution_count": 2,
   "metadata": {},
   "outputs": [
    {
     "name": "stdout",
     "output_type": "stream",
     "text": [
      "1.7.0\n",
      "True\n"
     ]
    }
   ],
   "source": [
    "import torch\n",
    "print(torch.__version__)\n",
    "print(torch.cuda.is_available())\n",
    "\n",
    "import torch.nn as nn\n",
    "import torch.nn.functional as F\n",
    "from torch import optim\n",
    "\n",
    "import torchvision\n",
    "from torchvision.datasets import CIFAR10, MNIST\n",
    "from torchvision.transforms import transforms\n",
    "\n",
    "from torch.utils.data import DataLoader\n",
    "\n",
    "import numpy as np\n",
    "import pandas as pd\n",
    "from matplotlib import pyplot as plt\n",
    "\n",
    "from utils.attacks import fgsm, pgd\n",
    "from utils.utils import plot_images\n",
    "from utils.train_utils import train, adv_train\n",
    "from models.resnet import ResNet, SparseResNet\n",
    "from models.wide_resnet import WideResNet, SparseWideResNet\n",
    "from models.resnet_FReLU import FResNet, FSparseResNet"
   ]
  },
  {
   "cell_type": "code",
   "execution_count": 3,
   "metadata": {},
   "outputs": [
    {
     "name": "stdout",
     "output_type": "stream",
     "text": [
      "cuda\n"
     ]
    }
   ],
   "source": [
    "device = torch.device(\"cuda\") if torch.cuda.is_available() else torch.device(\"cpu\")\n",
    "print(device)"
   ]
  },
  {
   "cell_type": "code",
   "execution_count": 4,
   "metadata": {},
   "outputs": [],
   "source": [
    "tr_transform = transforms.Compose([\n",
    "#     transforms.RandomCrop(32, padding=4, padding_mode='reflect'),\n",
    "    transforms.RandomHorizontalFlip(),\n",
    "    transforms.ToTensor()\n",
    "])\n",
    "vl_transform = transforms.Compose([\n",
    "    transforms.ToTensor()\n",
    "])\n",
    "\n",
    "ds = MNIST('../data', train=True, download=True, transform=tr_transform)\n",
    "ds_test = MNIST('../data', train=False, download=True, transform=vl_transform)\n",
    "\n",
    "batch_size = 400\n",
    "train_dl = DataLoader(ds, batch_size, shuffle=True)\n",
    "valid_dl = DataLoader(ds_test, batch_size, shuffle=True)\n",
    "\n",
    "for X, y in valid_dl:\n",
    "    X, y = X.to(device), y.to(device)\n",
    "    break"
   ]
  },
  {
   "cell_type": "code",
   "execution_count": 5,
   "metadata": {},
   "outputs": [],
   "source": [
    "import torch\n",
    "import torch.nn as nn\n",
    "\n",
    "device = torch.device(\"cuda\") if torch.cuda.is_available() else torch.device(\"cpu\")\n",
    "\n",
    "class FlattenReLU(torch.autograd.Function):\n",
    "    @staticmethod\n",
    "    def forward(self, x, thresholds=None):\n",
    "        self.save_for_backward(x, thresholds)\n",
    "        x = torch.where(x > thresholds, thresholds, x)\n",
    "        x[x<0] = 0\n",
    "        return x\n",
    "\n",
    "    @staticmethod\n",
    "    def backward(self, grad_output):\n",
    "        x, thresholds = self.saved_tensors\n",
    "        x_grad = grad_output.clone()\n",
    "        x_grad[x>thresholds] = 0\n",
    "        x_grad[x<0] = 0\n",
    "        return x_grad, None\n",
    "\n",
    "FRelu = FlattenReLU.apply"
   ]
  },
  {
   "cell_type": "code",
   "execution_count": 6,
   "metadata": {},
   "outputs": [],
   "source": [
    "class ML(nn.Linear):\n",
    "\n",
    "    def __init__(self, in_features, out_features, bias=False):\n",
    "        super().__init__(in_features, out_features, bias)\n",
    "\n",
    "    def forward(self, x):\n",
    "        xe = torch.stack([x]*self.weight.size(0), dim=1)\n",
    "        we = torch.stack([self.weight]*x.size(0), dim=0)\n",
    "        z, _ = (we * xe).topk(int(0.1*self.weight.size(1)))\n",
    "        thresholds = z.sum(dim=2)\n",
    "        x = F.linear(x, self.weight, self.bias)\n",
    "        return FRelu(x, thresholds)\n"
   ]
  },
  {
   "cell_type": "code",
   "execution_count": 7,
   "metadata": {},
   "outputs": [],
   "source": [
    "class Net1(nn.Module):\n",
    "    def __init__(self):\n",
    "        super().__init__()\n",
    "        self.fc1 = nn.Linear(784, 300)\n",
    "        self.fc2 = nn.Linear(300, 10)\n",
    "        \n",
    "    def forward(self, x):\n",
    "        x = torch.flatten(x, 1)\n",
    "        x = F.relu(self.fc1(x))\n",
    "        x = F.relu(self.fc2(x))\n",
    "        return x"
   ]
  },
  {
   "cell_type": "code",
   "execution_count": 8,
   "metadata": {},
   "outputs": [
    {
     "name": "stdout",
     "output_type": "stream",
     "text": [
      "Epoch: 1 Validation Loss: 0.4916 accuracy: 0.8337, time: 0:00:17                \n",
      "Epoch: 2 Validation Loss: 0.4136 accuracy: 0.8526, time: 0:00:15                \n",
      "Epoch: 3 Validation Loss: 0.3806 accuracy: 0.8615, time: 0:00:17                \n",
      "Epoch: 4 Validation Loss: 0.1395 accuracy: 0.9577, time: 0:00:18                \n",
      "Epoch: 5 Validation Loss: 0.1277 accuracy: 0.9610, time: 0:00:18                \n"
     ]
    },
    {
     "data": {
      "image/png": "[encoded data removed]",
      "text/plain": [
       "<Figure size 432x288 with 2 Axes>"
      ]
     },
     "metadata": {
      "needs_background": "light"
     },
     "output_type": "display_data"
    }
   ],
   "source": [
    "model = Net1().to(device)\n",
    "loss_fn = nn.CrossEntropyLoss()\n",
    "optimizer = optim.Adam(model.parameters(), lr=1e-3)\n",
    "scheduler = optim.lr_scheduler.ReduceLROnPlateau(optimizer, mode='min', min_lr=1e-7, patience=2, verbose=True)\n",
    "\n",
    "params = {\n",
    "    \"epsilon\": 8/255,\n",
    "    \"alpha\": 2/255,\n",
    "    \"num_iter\": 10\n",
    "}\n",
    "\n",
    "adv_train(model, pgd, params, train_dl, valid_dl, loss_fn, optimizer, scheduler, epochs=5, device=device)"
   ]
  },
  {
   "cell_type": "code",
   "execution_count": 10,
   "metadata": {
    "scrolled": false
   },
   "outputs": [
    {
     "name": "stdout",
     "output_type": "stream",
     "text": [
      "Epoch: 1 Validation Loss: 0.8580 accuracy: 0.7178, time: 0:00:23                \n",
      "Epoch: 2 Validation Loss: 0.5640 accuracy: 0.8075, time: 0:00:24                \n",
      "Epoch: 3 Validation Loss: 0.5312 accuracy: 0.8122, time: 0:00:23                \n",
      "Epoch: 4 Validation Loss: 0.4949 accuracy: 0.8229, time: 0:00:22                \n",
      "Epoch: 5 Validation Loss: 0.4871 accuracy: 0.8262, time: 0:00:23                \n",
      "Epoch: 6 Validation Loss: 0.4878 accuracy: 0.8218, time: 0:00:24                \n",
      "epochs_no_improve: 1/4\n",
      "Epoch: 7 Validation Loss: 0.4582 accuracy: 0.8323, time: 0:00:23                \n",
      "Epoch: 8 Validation Loss: 0.4510 accuracy: 0.8336, time: 0:00:25                \n",
      "Epoch: 9 Validation Loss: 0.4588 accuracy: 0.8331, time: 0:00:22                \n",
      "epochs_no_improve: 1/4\n",
      "Epoch: 10 Validation Loss: 0.4534 accuracy: 0.8353, time: 0:00:22               \n",
      "epochs_no_improve: 2/4\n"
     ]
    },
    {
     "data": {
      "image/png": "[encoded data removed]",
      "text/plain": [
       "<Figure size 432x288 with 2 Axes>"
      ]
     },
     "metadata": {
      "needs_background": "light"
     },
     "output_type": "display_data"
    }
   ],
   "source": [
    "model = Net1().to(device)\n",
    "loss_fn = nn.CrossEntropyLoss()\n",
    "optimizer = optim.Adam(model.parameters(), lr=1e-3)\n",
    "scheduler = optim.lr_scheduler.ReduceLROnPlateau(optimizer, mode='min', min_lr=1e-7, patience=2, verbose=True)\n",
    "\n",
    "params = {\n",
    "    \"epsilon\": 8/255,\n",
    "    \"alpha\": 2/255,\n",
    "    \"num_iter\": 10\n",
    "}\n",
    "\n",
    "adv_train(model, pgd, params, train_dl, valid_dl, loss_fn, optimizer, scheduler, epochs=10, device=device)"
   ]
  },
  {
   "cell_type": "code",
   "execution_count": 8,
   "metadata": {},
   "outputs": [
    {
     "name": "stdout",
     "output_type": "stream",
     "text": [
      "Epoch: 1 Validation Loss: 0.5433 accuracy: 0.8176, time: 0:00:14                \n",
      "Epoch: 2 Validation Loss: 0.4450 accuracy: 0.8430, time: 0:00:13                \n",
      "Epoch: 3 Validation Loss: 0.4042 accuracy: 0.8572, time: 0:00:14                \n",
      "Epoch: 4 Validation Loss: 0.3812 accuracy: 0.8612, time: 0:00:14                \n",
      "Epoch: 5 Validation Loss: 0.3787 accuracy: 0.8621, time: 0:00:13                \n"
     ]
    },
    {
     "data": {
      "image/png": "[encoded data removed]",
      "text/plain": [
       "<Figure size 432x288 with 2 Axes>"
      ]
     },
     "metadata": {
      "needs_background": "light"
     },
     "output_type": "display_data"
    }
   ],
   "source": [
    "model = Net1().to(device)\n",
    "loss_fn = nn.CrossEntropyLoss()\n",
    "optimizer = optim.Adam(model.parameters(), lr=1e-3)\n",
    "scheduler = optim.lr_scheduler.ReduceLROnPlateau(optimizer, mode='min', min_lr=1e-7, patience=2, verbose=True)\n",
    "\n",
    "train(model, train_dl, valid_dl, loss_fn, optimizer, scheduler, epochs=5, device=device)"
   ]
  },
  {
   "cell_type": "code",
   "execution_count": 9,
   "metadata": {},
   "outputs": [
    {
     "name": "stdout",
     "output_type": "stream",
     "text": [
      "Epoch: 1 Validation Loss: 0.3281 accuracy: 0.9058, time: 0:00:19\n",
      "Epoch: 2 Validation Loss: 0.2219 accuracy: 0.9336, time: 0:00:18\n",
      "Epoch: 3 Validation Loss: 0.1740 accuracy: 0.9487, time: 0:00:19\n",
      "Epoch: 4 Validation Loss: 0.1448 accuracy: 0.9572, time: 0:00:18\n",
      "Epoch: 5 Validation Loss: 0.1396 accuracy: 0.9575, time: 0:00:17\n",
      "Epoch: 6 Validation Loss: 0.1211 accuracy: 0.9631, time: 0:00:18\n",
      "Epoch: 7 Validation Loss: 0.1204 accuracy: 0.9625, time: 0:00:18\n",
      "Epoch: 8 Validation Loss: 0.1137 accuracy: 0.9646, time: 0:00:18\n",
      "Epoch: 9 Validation Loss: 0.1119 accuracy: 0.9642, time: 0:00:18\n",
      "Epoch: 10 Validation Loss: 0.1068 accuracy: 0.9659, time: 0:00:17\n"
     ]
    },
    {
     "data": {
      "image/png": "[encoded data removed]",
      "text/plain": [
       "<Figure size 432x288 with 2 Axes>"
      ]
     },
     "metadata": {
      "needs_background": "light"
     },
     "output_type": "display_data"
    }
   ],
   "source": [
    "model = Net1().to(device)\n",
    "loss_fn = nn.CrossEntropyLoss()\n",
    "optimizer = optim.Adam(model.parameters(), lr=1e-3)\n",
    "scheduler = optim.lr_scheduler.ReduceLROnPlateau(optimizer, mode='min', min_lr=1e-7, patience=2, verbose=True)\n",
    "\n",
    "train(model, train_dl, valid_dl, loss_fn, optimizer, scheduler, epochs=10, device=device)"
   ]
  },
  {
   "cell_type": "code",
   "execution_count": null,
   "metadata": {},
   "outputs": [],
   "source": []
  },
  {
   "cell_type": "code",
   "execution_count": null,
   "metadata": {},
   "outputs": [],
   "source": []
  },
  {
   "cell_type": "code",
   "execution_count": null,
   "metadata": {},
   "outputs": [],
   "source": []
  },
  {
   "cell_type": "code",
   "execution_count": null,
   "metadata": {},
   "outputs": [],
   "source": []
  },
  {
   "cell_type": "code",
   "execution_count": null,
   "metadata": {},
   "outputs": [],
   "source": []
  },
  {
   "cell_type": "code",
   "execution_count": null,
   "metadata": {},
   "outputs": [],
   "source": []
  },
  {
   "cell_type": "code",
   "execution_count": null,
   "metadata": {},
   "outputs": [],
   "source": []
  },
  {
   "cell_type": "code",
   "execution_count": null,
   "metadata": {},
   "outputs": [],
   "source": []
  },
  {
   "cell_type": "code",
   "execution_count": null,
   "metadata": {},
   "outputs": [],
   "source": []
  },
  {
   "cell_type": "code",
   "execution_count": 11,
   "metadata": {},
   "outputs": [],
   "source": [
    "import torch\n",
    "import torch.nn as nn\n",
    "\n",
    "device = torch.device(\"cuda\") if torch.cuda.is_available() else torch.device(\"cpu\")\n",
    "\n",
    "class FlattenReLU(torch.autograd.Function):\n",
    "    @staticmethod\n",
    "    def forward(self, x, thresholds):\n",
    "        self.save_for_backward(x, thresholds)\n",
    "        x = torch.where(x > thresholds, thresholds, x)\n",
    "        x[x<0] = 0\n",
    "        return x\n",
    "\n",
    "    @staticmethod\n",
    "    def backward(self, grad_output):\n",
    "        x, thresholds = self.saved_tensors\n",
    "        x_grad = grad_output.clone()\n",
    "        x_grad[x>thresholds] = 0\n",
    "        x_grad[x<0] = 0\n",
    "        return x_grad, None\n",
    "\n",
    "FRelu = FlattenReLU.apply\n",
    "\n",
    "class myLinear(nn.Linear):\n",
    "\n",
    "    def __init__(self, in_features, out_features, bias=False):\n",
    "        super().__init__(in_features, out_features, bias)\n",
    "\n",
    "    def forward(self, x):\n",
    "        xe = torch.stack([x]*self.weight.size(0), dim=1)\n",
    "        we = torch.stack([self.weight]*x.size(0), dim=0)\n",
    "        z, _ = (we * xe).topk(int(0.3*self.weight.size(1)))\n",
    "        thresholds = z.sum(dim=2)\n",
    "        x = F.linear(x, self.weight, self.bias)    \n",
    "        return FRelu(x, thresholds)\n"
   ]
  },
  {
   "cell_type": "code",
   "execution_count": 12,
   "metadata": {},
   "outputs": [
    {
     "data": {
      "text/plain": [
       "Net(\n",
       "  (fc1): myLinear(in_features=10, out_features=2, bias=False)\n",
       ")"
      ]
     },
     "execution_count": 12,
     "metadata": {},
     "output_type": "execute_result"
    }
   ],
   "source": [
    "class Net(nn.Module):\n",
    "    def __init__(self):\n",
    "        super().__init__()\n",
    "        self.fc1 = myLinear(10, 2, bias=False)\n",
    "        \n",
    "    def forward(self, x):\n",
    "        x = self.fc1(x)\n",
    "        return x\n",
    "\n",
    "model = Net()\n",
    "model"
   ]
  },
  {
   "cell_type": "code",
   "execution_count": 13,
   "metadata": {},
   "outputs": [
    {
     "name": "stdout",
     "output_type": "stream",
     "text": [
      "tensor([[1.0000, 0.9000, 0.8000, 0.7000, 0.6000, 0.5000, 0.4000, 0.3000, 0.2000,\n",
      "         0.1000],\n",
      "        [0.1000, 0.2000, 0.3000, 0.4000, 0.5000, 0.6000, 0.7000, 0.8000, 0.9000,\n",
      "         1.0000]])\n",
      "tensor([[ 1.,  2.,  3.,  4.,  5.,  6.,  7.,  8.,  9., 10.],\n",
      "        [10.,  9., -8., -7., -6., -5.,  4.,  3.,  2.,  1.],\n",
      "        [ 6.,  7.,  8.,  9., 10.,  5.,  4.,  3.,  2.,  1.]])\n"
     ]
    }
   ],
   "source": [
    "w = model.fc1.weight.clone()\n",
    "w = torch.Tensor([[1.0, 0.9, 0.8, 0.7, 0.6, 0.5, 0.4, 0.3, 0.2, 0.1], \n",
    "                  [0.1, 0.2, 0.3, 0.4, 0.5, 0.6, 0.7, 0.8, 0.9, 1.0]\n",
    "                 ])\n",
    "x = torch.Tensor([[1,2,3,4,5,6,7,8,9,10], [10,9,-8,-7,-6,-5,4,3,2,1], [6,7,8,9,10,5,4,3,2,1]])\n",
    "model.fc1.weight.data = w\n",
    "print(model.fc1.weight.data)\n",
    "print(x)"
   ]
  },
  {
   "cell_type": "code",
   "execution_count": 14,
   "metadata": {},
   "outputs": [
    {
     "data": {
      "text/plain": [
       "tensor([[[ 1.,  2.,  3.,  4.,  5.,  6.,  7.,  8.,  9., 10.],\n",
       "         [ 1.,  2.,  3.,  4.,  5.,  6.,  7.,  8.,  9., 10.]],\n",
       "\n",
       "        [[10.,  9., -8., -7., -6., -5.,  4.,  3.,  2.,  1.],\n",
       "         [10.,  9., -8., -7., -6., -5.,  4.,  3.,  2.,  1.]],\n",
       "\n",
       "        [[ 6.,  7.,  8.,  9., 10.,  5.,  4.,  3.,  2.,  1.],\n",
       "         [ 6.,  7.,  8.,  9., 10.,  5.,  4.,  3.,  2.,  1.]]])"
      ]
     },
     "execution_count": 14,
     "metadata": {},
     "output_type": "execute_result"
    }
   ],
   "source": [
    "xe = torch.stack([x]*w.size(0), dim=1)\n",
    "xe"
   ]
  },
  {
   "cell_type": "code",
   "execution_count": 35,
   "metadata": {},
   "outputs": [
    {
     "data": {
      "text/plain": [
       "tensor([[[1.0000, 0.9000, 0.8000, 0.7000, 0.6000, 0.5000, 0.4000, 0.3000,\n",
       "          0.2000, 0.1000],\n",
       "         [0.1000, 0.2000, 0.3000, 0.4000, 0.5000, 0.6000, 0.7000, 0.8000,\n",
       "          0.9000, 1.0000]],\n",
       "\n",
       "        [[1.0000, 0.9000, 0.8000, 0.7000, 0.6000, 0.5000, 0.4000, 0.3000,\n",
       "          0.2000, 0.1000],\n",
       "         [0.1000, 0.2000, 0.3000, 0.4000, 0.5000, 0.6000, 0.7000, 0.8000,\n",
       "          0.9000, 1.0000]],\n",
       "\n",
       "        [[1.0000, 0.9000, 0.8000, 0.7000, 0.6000, 0.5000, 0.4000, 0.3000,\n",
       "          0.2000, 0.1000],\n",
       "         [0.1000, 0.2000, 0.3000, 0.4000, 0.5000, 0.6000, 0.7000, 0.8000,\n",
       "          0.9000, 1.0000]]])"
      ]
     },
     "execution_count": 35,
     "metadata": {},
     "output_type": "execute_result"
    }
   ],
   "source": [
    "we = torch.stack([w]*x.size(0), dim=0)\n",
    "we"
   ]
  },
  {
   "cell_type": "code",
   "execution_count": 563,
   "metadata": {},
   "outputs": [
    {
     "data": {
      "text/plain": [
       "tensor([[[ 1.0000,  1.8000,  2.4000,  2.8000,  3.0000,  3.0000,  2.8000,\n",
       "           2.4000,  1.8000,  1.0000],\n",
       "         [ 0.1000,  0.4000,  0.9000,  1.6000,  2.5000,  3.6000,  4.9000,\n",
       "           6.4000,  8.1000, 10.0000]],\n",
       "\n",
       "        [[10.0000,  8.1000, -6.4000, -4.9000, -3.6000, -2.5000,  1.6000,\n",
       "           0.9000,  0.4000,  0.1000],\n",
       "         [ 1.0000,  1.8000, -2.4000, -2.8000, -3.0000, -3.0000,  2.8000,\n",
       "           2.4000,  1.8000,  1.0000]],\n",
       "\n",
       "        [[ 6.0000,  6.3000,  6.4000,  6.3000,  6.0000,  2.5000,  1.6000,\n",
       "           0.9000,  0.4000,  0.1000],\n",
       "         [ 0.6000,  1.4000,  2.4000,  3.6000,  5.0000,  3.0000,  2.8000,\n",
       "           2.4000,  1.8000,  1.0000]]])"
      ]
     },
     "execution_count": 563,
     "metadata": {},
     "output_type": "execute_result"
    }
   ],
   "source": [
    "(we * xe)"
   ]
  },
  {
   "cell_type": "code",
   "execution_count": 570,
   "metadata": {
    "scrolled": true
   },
   "outputs": [
    {
     "name": "stdout",
     "output_type": "stream",
     "text": [
      "tensor([[[ 3.0000,  3.0000,  2.8000],\n",
      "         [10.0000,  8.1000,  6.4000]],\n",
      "\n",
      "        [[10.0000,  8.1000,  1.6000],\n",
      "         [ 2.8000,  2.4000,  1.8000]],\n",
      "\n",
      "        [[ 6.4000,  6.3000,  6.3000],\n",
      "         [ 5.0000,  3.6000,  3.0000]]])\n"
     ]
    }
   ],
   "source": [
    "val, _ = (we * xe).topk(int(0.3*w.size(1)))\n",
    "print(val)"
   ]
  },
  {
   "cell_type": "code",
   "execution_count": 571,
   "metadata": {},
   "outputs": [
    {
     "name": "stdout",
     "output_type": "stream",
     "text": [
      "tensor([[ 8.8000, 24.5000],\n",
      "        [19.7000,  7.0000],\n",
      "        [19.0000, 11.6000]])\n"
     ]
    }
   ],
   "source": [
    "thresholds = val.sum(dim=-1)\n",
    "print(thresholds)"
   ]
  },
  {
   "cell_type": "code",
   "execution_count": 572,
   "metadata": {},
   "outputs": [
    {
     "data": {
      "text/plain": [
       "tensor([[ 8.8000, 24.5000],\n",
       "        [ 3.7000,  0.0000],\n",
       "        [19.0000, 11.6000]])"
      ]
     },
     "execution_count": 572,
     "metadata": {},
     "output_type": "execute_result"
    }
   ],
   "source": [
    "res = x @ w.T\n",
    "f = torch.where(res > thresholds, thresholds, res)\n",
    "f[f<0]=0\n",
    "f"
   ]
  },
  {
   "cell_type": "code",
   "execution_count": 573,
   "metadata": {},
   "outputs": [
    {
     "data": {
      "text/plain": [
       "tensor([[ 8.8000, 24.5000],\n",
       "        [ 3.7000,  0.0000],\n",
       "        [19.0000, 11.6000]], grad_fn=<FlattenReLUBackward>)"
      ]
     },
     "execution_count": 573,
     "metadata": {},
     "output_type": "execute_result"
    }
   ],
   "source": [
    "model(x)"
   ]
  },
  {
   "cell_type": "code",
   "execution_count": 574,
   "metadata": {},
   "outputs": [
    {
     "data": {
      "text/plain": [
       "tensor([[22.0000, 38.5000],\n",
       "        [ 3.7000, -0.4000],\n",
       "        [36.5000, 24.0000]])"
      ]
     },
     "execution_count": 574,
     "metadata": {},
     "output_type": "execute_result"
    }
   ],
   "source": [
    "x @ w.T"
   ]
  },
  {
   "cell_type": "code",
   "execution_count": null,
   "metadata": {},
   "outputs": [],
   "source": []
  },
  {
   "cell_type": "code",
   "execution_count": null,
   "metadata": {},
   "outputs": [],
   "source": []
  }
 ],
 "metadata": {
  "kernelspec": {
   "display_name": "Python 3",
   "language": "python",
   "name": "python3"
  },
  "language_info": {
   "codemirror_mode": {
    "name": "ipython",
    "version": 3
   },
   "file_extension": ".py",
   "mimetype": "text/x-python",
   "name": "python",
   "nbconvert_exporter": "python",
   "pygments_lexer": "ipython3",
   "version": "3.8.3"
  }
 },
 "nbformat": 4,
 "nbformat_minor": 4
}
