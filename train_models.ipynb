{
 "cells": [
  {
   "cell_type": "code",
   "execution_count": 1,
   "metadata": {},
   "outputs": [
    {
     "name": "stdout",
     "output_type": "stream",
     "text": [
      "1.6.0\n",
      "False\n"
     ]
    }
   ],
   "source": [
    "%config IPCompleter.greedy=True\n",
    "\n",
    "from os import path\n",
    "import torch\n",
    "print(torch.__version__)\n",
    "print(torch.cuda.is_available())"
   ]
  },
  {
   "cell_type": "code",
   "execution_count": 2,
   "metadata": {},
   "outputs": [],
   "source": [
    "import numpy as np\n",
    "\n",
    "from torchvision.datasets import FashionMNIST\n",
    "from torchvision.transforms import ToTensor\n",
    "\n",
    "import torch.nn as nn\n",
    "from torch import optim\n",
    "from torch.utils.data import DataLoader"
   ]
  },
  {
   "cell_type": "code",
   "execution_count": 3,
   "metadata": {},
   "outputs": [],
   "source": [
    "from train_utils import train_model\n",
    "from models.models import *\n",
    "\n",
    "from nupic.torch.modules import (KWinners, SparseWeights, Flatten, SparseWeights2d, KWinners2d, \n",
    "                                 rezero_weights, update_boost_strength)"
   ]
  },
  {
   "cell_type": "code",
   "execution_count": 4,
   "metadata": {},
   "outputs": [],
   "source": [
    "device = torch.device(\"cuda\") if torch.cuda.is_available() else torch.device(\"cpu\")"
   ]
  },
  {
   "cell_type": "code",
   "execution_count": 5,
   "metadata": {},
   "outputs": [],
   "source": [
    "transform = ToTensor()\n",
    "ds = FashionMNIST('./data', train=True, target_transform=None, download=True, transform=transform)\n",
    "ds_test = FashionMNIST('./data', train=False, target_transform=None, download=True, transform=transform)"
   ]
  },
  {
   "cell_type": "code",
   "execution_count": 6,
   "metadata": {},
   "outputs": [],
   "source": [
    "batch_size = 128\n",
    "\n",
    "train_dl = DataLoader(ds, batch_size, shuffle=True)\n",
    "test_dl = DataLoader(ds_test, batch_size, shuffle=True)"
   ]
  },
  {
   "cell_type": "code",
   "execution_count": 7,
   "metadata": {},
   "outputs": [
    {
     "name": "stdout",
     "output_type": "stream",
     "text": [
      "Epoch: 1 Validation Loss: 0.47 accuracy = 0.94\n",
      "Epoch: 2 Validation Loss: 0.40 accuracy = 0.81\n",
      "Epoch: 3 Validation Loss: 0.38 accuracy = 1.00\n",
      "Epoch: 4 Validation Loss: 0.37 accuracy = 0.62\n",
      "Epoch: 5 Validation Loss: 0.36 accuracy = 0.75\n",
      "Epoch: 6 Validation Loss: 0.34 accuracy = 0.88\n",
      "Epoch: 7 Validation Loss: 0.35 accuracy = 0.88\n",
      "epochs_no_improve: 1/3\n",
      "Epoch: 8 Validation Loss: 0.34 accuracy = 0.88\n",
      "Epoch: 9 Validation Loss: 0.33 accuracy = 0.81\n",
      "Epoch: 10 Validation Loss: 0.32 accuracy = 0.94\n",
      "Epoch: 11 Validation Loss: 0.32 accuracy = 0.88\n",
      "Epoch: 12 Validation Loss: 0.35 accuracy = 1.00\n",
      "epochs_no_improve: 1/3\n",
      "Epoch: 13 Validation Loss: 0.32 accuracy = 1.00\n",
      "epochs_no_improve: 2/3\n",
      "Epoch: 14 Validation Loss: 0.37 accuracy = 1.00\n",
      "epochs_no_improve: 3/3\n",
      "Early stopping!\n"
     ]
    }
   ],
   "source": [
    "fcnet = FCNet()\n",
    "\n",
    "loss_fn = nn.CrossEntropyLoss()\n",
    "optimizer = optim.Adam(fcnet.parameters(), lr=0.001)\n",
    "\n",
    "train_model(fcnet, optimizer, loss_fn, train_dl, test_dl, epochs=30, sparse_net=False)"
   ]
  },
  {
   "cell_type": "code",
   "execution_count": 8,
   "metadata": {},
   "outputs": [],
   "source": [
    "torch.save(fcnet.state_dict(), \"models/fcnet.pt\")"
   ]
  },
  {
   "cell_type": "code",
   "execution_count": 9,
   "metadata": {},
   "outputs": [
    {
     "name": "stdout",
     "output_type": "stream",
     "text": [
      "Epoch: 1 Validation Loss: 0.78 accuracy = 0.56\n",
      "Epoch: 2 Validation Loss: 0.63 accuracy = 0.88\n",
      "Epoch: 3 Validation Loss: 0.58 accuracy = 0.88\n",
      "Epoch: 4 Validation Loss: 0.54 accuracy = 0.69\n",
      "Epoch: 5 Validation Loss: 0.51 accuracy = 0.69\n",
      "Epoch: 6 Validation Loss: 0.48 accuracy = 0.94\n",
      "Epoch: 7 Validation Loss: 0.46 accuracy = 0.81\n",
      "Epoch: 8 Validation Loss: 0.46 accuracy = 0.75\n",
      "Epoch: 9 Validation Loss: 0.44 accuracy = 0.69\n",
      "Epoch: 10 Validation Loss: 0.43 accuracy = 0.81\n",
      "Epoch: 11 Validation Loss: 0.42 accuracy = 0.69\n",
      "Epoch: 12 Validation Loss: 0.42 accuracy = 0.75\n",
      "Epoch: 13 Validation Loss: 0.41 accuracy = 0.88\n",
      "Epoch: 14 Validation Loss: 0.41 accuracy = 0.75\n",
      "epochs_no_improve: 1/3\n",
      "Epoch: 15 Validation Loss: 0.41 accuracy = 0.88\n",
      "Epoch: 16 Validation Loss: 0.40 accuracy = 0.94\n",
      "Epoch: 17 Validation Loss: 0.39 accuracy = 0.81\n",
      "Epoch: 18 Validation Loss: 0.39 accuracy = 1.00\n",
      "epochs_no_improve: 1/3\n",
      "Epoch: 19 Validation Loss: 0.39 accuracy = 0.81\n",
      "Epoch: 20 Validation Loss: 0.38 accuracy = 0.94\n",
      "Epoch: 21 Validation Loss: 0.38 accuracy = 0.88\n",
      "Epoch: 22 Validation Loss: 0.38 accuracy = 0.81\n",
      "epochs_no_improve: 1/3\n",
      "Epoch: 23 Validation Loss: 0.38 accuracy = 0.81\n",
      "Epoch: 24 Validation Loss: 0.37 accuracy = 0.81\n",
      "Epoch: 25 Validation Loss: 0.38 accuracy = 0.81\n",
      "epochs_no_improve: 1/3\n",
      "Epoch: 26 Validation Loss: 0.37 accuracy = 0.88\n",
      "Epoch: 27 Validation Loss: 0.37 accuracy = 0.94\n",
      "Epoch: 28 Validation Loss: 0.37 accuracy = 0.81\n",
      "Epoch: 29 Validation Loss: 0.37 accuracy = 0.94\n",
      "Epoch: 30 Validation Loss: 0.36 accuracy = 0.88\n"
     ]
    }
   ],
   "source": [
    "sparse_fcnet = SparseFCNet()\n",
    "\n",
    "loss_fn = nn.CrossEntropyLoss()\n",
    "optimizer = optim.Adam(sparse_fcnet.parameters(), lr=0.001)\n",
    "\n",
    "train_model(sparse_fcnet, optimizer, loss_fn, train_dl, test_dl, epochs=30, sparse_net=True)"
   ]
  },
  {
   "cell_type": "code",
   "execution_count": 10,
   "metadata": {},
   "outputs": [],
   "source": [
    "torch.save(sparse_fcnet.state_dict(), \"models/sparse_fcnet.pt\")"
   ]
  },
  {
   "cell_type": "code",
   "execution_count": 11,
   "metadata": {},
   "outputs": [
    {
     "name": "stdout",
     "output_type": "stream",
     "text": [
      "Epoch: 1 Validation Loss: 0.31 accuracy = 0.94\n",
      "Epoch: 2 Validation Loss: 0.26 accuracy = 0.94\n",
      "Epoch: 3 Validation Loss: 0.25 accuracy = 0.88\n",
      "Epoch: 4 Validation Loss: 0.28 accuracy = 1.00\n",
      "epochs_no_improve: 1/3\n",
      "Epoch: 5 Validation Loss: 0.24 accuracy = 0.94\n",
      "Epoch: 6 Validation Loss: 0.24 accuracy = 1.00\n",
      "epochs_no_improve: 1/3\n",
      "Epoch: 7 Validation Loss: 0.25 accuracy = 1.00\n",
      "epochs_no_improve: 2/3\n",
      "Epoch: 8 Validation Loss: 0.26 accuracy = 0.88\n",
      "epochs_no_improve: 3/3\n",
      "Early stopping!\n"
     ]
    }
   ],
   "source": [
    "cnn = CNN()\n",
    "\n",
    "loss_fn = nn.CrossEntropyLoss()\n",
    "optimizer = optim.Adam(cnn.parameters(), lr=0.001)\n",
    "\n",
    "train_model(cnn, optimizer, loss_fn, train_dl, test_dl, epochs=30, sparse_net=False)"
   ]
  },
  {
   "cell_type": "code",
   "execution_count": 12,
   "metadata": {},
   "outputs": [],
   "source": [
    "torch.save(cnn.state_dict(), \"models/cnn.pt\")"
   ]
  },
  {
   "cell_type": "code",
   "execution_count": null,
   "metadata": {},
   "outputs": [
    {
     "name": "stdout",
     "output_type": "stream",
     "text": [
      "Epoch: 1 Validation Loss: 0.39 accuracy = 0.81\n",
      "Epoch: 2 Validation Loss: 0.34 accuracy = 0.94\n",
      "Epoch: 3 Validation Loss: 0.33 accuracy = 0.88\n",
      "Epoch: 4 Validation Loss: 0.30 accuracy = 0.75\n",
      "Epoch: 5 Validation Loss: 0.30 accuracy = 0.88\n",
      "Epoch: 6 Validation Loss: 0.29 accuracy = 1.00\n",
      "Epoch: 7 Validation Loss: 0.28 accuracy = 0.81\n",
      "Epoch: 8 Validation Loss: 0.28 accuracy = 1.00\n",
      "epochs_no_improve: 1/3\n",
      "Epoch: 9 Validation Loss: 0.28 accuracy = 0.94\n",
      "Epoch: 10 Validation Loss: 0.31 accuracy = 0.94\n",
      "epochs_no_improve: 1/3\n",
      "Epoch: 11 Validation Loss: 0.29 accuracy = 0.81\n",
      "epochs_no_improve: 2/3\n"
     ]
    }
   ],
   "source": [
    "sparse_cnn = SparseCNN()\n",
    "\n",
    "loss_fn = nn.CrossEntropyLoss()\n",
    "optimizer = optim.Adam(sparse_cnn.parameters(), lr=0.001)\n",
    "\n",
    "train_model(sparse_cnn, optimizer, loss_fn, train_dl, test_dl, epochs=30, sparse_net=True)"
   ]
  },
  {
   "cell_type": "code",
   "execution_count": null,
   "metadata": {},
   "outputs": [],
   "source": [
    "torch.save(sparse_cnn.state_dict(), \"models/sparse_cnn.pt\")"
   ]
  },
  {
   "cell_type": "code",
   "execution_count": null,
   "metadata": {},
   "outputs": [],
   "source": []
  }
 ],
 "metadata": {
  "kernelspec": {
   "display_name": "Python 3",
   "language": "python",
   "name": "python3"
  },
  "language_info": {
   "codemirror_mode": {
    "name": "ipython",
    "version": 3
   },
   "file_extension": ".py",
   "mimetype": "text/x-python",
   "name": "python",
   "nbconvert_exporter": "python",
   "pygments_lexer": "ipython3",
   "version": "3.7.9"
  }
 },
 "nbformat": 4,
 "nbformat_minor": 4
}
