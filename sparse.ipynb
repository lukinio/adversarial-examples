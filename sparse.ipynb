{
 "cells": [
  {
   "cell_type": "code",
   "execution_count": 1,
   "metadata": {},
   "outputs": [
    {
     "name": "stdout",
     "output_type": "stream",
     "text": [
      "1.6.0\n",
      "False\n"
     ]
    }
   ],
   "source": [
    "%config IPCompleter.greedy=True\n",
    "\n",
    "from os import path\n",
    "import torch\n",
    "print(torch.__version__)\n",
    "print(torch.cuda.is_available())"
   ]
  },
  {
   "cell_type": "code",
   "execution_count": 3,
   "metadata": {},
   "outputs": [],
   "source": [
    "import numpy as np\n",
    "import torchvision\n",
    "from PIL import Image\n",
    "\n",
    "from matplotlib import pyplot as plt;\n",
    "from torchvision.datasets import FashionMNIST\n",
    "from torchvision.transforms import ToTensor\n",
    "\n",
    "import torch\n",
    "import torch.nn as nn\n",
    "import torch.nn.functional as F\n",
    "from torch import optim\n",
    "\n",
    "from sklearn.metrics import accuracy_score\n",
    "from sklearn.metrics import confusion_matrix\n",
    "from torch.utils.data import DataLoader"
   ]
  },
  {
   "cell_type": "code",
   "execution_count": 4,
   "metadata": {},
   "outputs": [],
   "source": [
    "from utils import *\n",
    "from attacks import fgsm, bim, llc\n",
    "from train_utils import train_model\n",
    "from models.models import *\n",
    "\n",
    "from nupic.torch.modules import (KWinners, SparseWeights, Flatten, SparseWeights2d, KWinners2d, \n",
    "                                 rezero_weights, update_boost_strength)"
   ]
  },
  {
   "cell_type": "code",
   "execution_count": 5,
   "metadata": {},
   "outputs": [],
   "source": [
    "device = torch.device(\"cuda\") if torch.cuda.is_available() else torch.device(\"cpu\")"
   ]
  },
  {
   "cell_type": "code",
   "execution_count": 7,
   "metadata": {},
   "outputs": [],
   "source": [
    "transform = ToTensor()\n",
    "ds = FashionMNIST('./data', train=True, target_transform=None, download=True, transform=transform)\n",
    "ds_test = FashionMNIST('./data', train=False, target_transform=None, download=True, transform=transform)"
   ]
  },
  {
   "cell_type": "code",
   "execution_count": 8,
   "metadata": {},
   "outputs": [],
   "source": [
    "test1000 = DataLoader(ds_test, 1000, shuffle=True)\n",
    "for X, y in test1000:\n",
    "    X, y = X.to(device), y.to(device)\n",
    "    break"
   ]
  },
  {
   "cell_type": "code",
   "execution_count": 9,
   "metadata": {},
   "outputs": [
    {
     "data": {
      "text/plain": [
       "<All keys matched successfully>"
      ]
     },
     "execution_count": 9,
     "metadata": {},
     "output_type": "execute_result"
    }
   ],
   "source": [
    "fcnet = FCNet()\n",
    "sparse_fcnet = SparseFCNet()\n",
    "\n",
    "fcnet.load_state_dict(torch.load(\"models/fcnet.pt\", map_location=device))\n",
    "sparse_fcnet.load_state_dict(torch.load(\"models/sparse_fcnet.pt\", map_location=device))"
   ]
  },
  {
   "cell_type": "markdown",
   "metadata": {},
   "source": [
    "## FCNet vs SparseFCNet"
   ]
  },
  {
   "cell_type": "markdown",
   "metadata": {},
   "source": [
    "### Clean images"
   ]
  },
  {
   "cell_type": "code",
   "execution_count": 10,
   "metadata": {},
   "outputs": [
    {
     "name": "stdout",
     "output_type": "stream",
     "text": [
      "FCNet: 0.881 \n",
      "SparseFCNet: 0.866 \n"
     ]
    }
   ],
   "source": [
    "from sklearn.metrics import accuracy_score\n",
    "\n",
    "yp = fcnet(X).max(dim=1)[1].numpy()\n",
    "syp = sparse_fcnet(X).max(dim=1)[1].numpy()\n",
    "\n",
    "print(\"FCNet: {} \".format(accuracy_score(y.numpy(), yp)))\n",
    "print(\"SparseFCNet: {} \".format(accuracy_score(y.numpy(), syp)))"
   ]
  },
  {
   "cell_type": "markdown",
   "metadata": {},
   "source": [
    "### Atak BIM"
   ]
  },
  {
   "cell_type": "code",
   "execution_count": 11,
   "metadata": {},
   "outputs": [
    {
     "name": "stdout",
     "output_type": "stream",
     "text": [
      "FCNet: 0.051 \n",
      "SparseFCNet: 0.333 \n"
     ]
    }
   ],
   "source": [
    "noise = bim(fcnet, nn.CrossEntropyLoss(), X, y, alpha=0.3, max_iter=4, clip_eps=8/255, do_clip=True)\n",
    "\n",
    "yp = fcnet(X+noise).max(dim=1)[1].numpy()\n",
    "syp = sparse_fcnet(X+noise).max(dim=1)[1].numpy()\n",
    "\n",
    "print(\"FCNet: {} \".format(accuracy_score(y.numpy(), yp)))\n",
    "print(\"SparseFCNet: {} \".format(accuracy_score(y.numpy(), syp)))"
   ]
  },
  {
   "cell_type": "code",
   "execution_count": 12,
   "metadata": {},
   "outputs": [
    {
     "name": "stdout",
     "output_type": "stream",
     "text": [
      "FCNet: 0.44 \n",
      "SparseFCNet: 0.08 \n"
     ]
    }
   ],
   "source": [
    "noise = bim(sparse_fcnet, nn.CrossEntropyLoss(), X, y, alpha=0.3, max_iter=4, clip_eps=8/255, do_clip=True)\n",
    "\n",
    "yp = fcnet(X+noise).max(dim=1)[1].numpy()\n",
    "syp = sparse_fcnet(X+noise).max(dim=1)[1].numpy()\n",
    "\n",
    "print(\"FCNet: {} \".format(accuracy_score(y.numpy(), yp)))\n",
    "print(\"SparseFCNet: {} \".format(accuracy_score(y.numpy(), syp)))"
   ]
  },
  {
   "cell_type": "markdown",
   "metadata": {},
   "source": [
    "### Atak FGSM"
   ]
  },
  {
   "cell_type": "code",
   "execution_count": 30,
   "metadata": {},
   "outputs": [
    {
     "name": "stdout",
     "output_type": "stream",
     "text": [
      "FCNet: 0.0 \n",
      "SparseFCNet: 0.002 \n"
     ]
    }
   ],
   "source": [
    "noise = fgsm(fcnet, nn.CrossEntropyLoss(), X, y, alpha=0.3)\n",
    "\n",
    "yp = fcnet(X+noise).max(dim=1)[1].numpy()\n",
    "syp = sparse_fcnet(X+noise).max(dim=1)[1].numpy()\n",
    "\n",
    "print(\"FCNet: {} \".format(accuracy_score(y.numpy(), yp)))\n",
    "print(\"SparseFCNet: {} \".format(accuracy_score(y.numpy(), syp)))"
   ]
  },
  {
   "cell_type": "code",
   "execution_count": 16,
   "metadata": {},
   "outputs": [
    {
     "name": "stdout",
     "output_type": "stream",
     "text": [
      "FCNet: 0.004 \n",
      "SparseFCNet: 0.001 \n"
     ]
    }
   ],
   "source": [
    "noise = fgsm(sparse_fcnet, nn.CrossEntropyLoss(), X, y, alpha=0.3)\n",
    "\n",
    "yp = fcnet(X+noise).max(dim=1)[1].numpy()\n",
    "syp = sparse_fcnet(X+noise).max(dim=1)[1].numpy()\n",
    "\n",
    "print(\"FCNet: {} \".format(accuracy_score(y.numpy(), yp)))\n",
    "print(\"SparseFCNet: {} \".format(accuracy_score(y.numpy(), syp)))"
   ]
  },
  {
   "cell_type": "markdown",
   "metadata": {},
   "source": [
    "### Atak LLC"
   ]
  },
  {
   "cell_type": "code",
   "execution_count": 17,
   "metadata": {},
   "outputs": [
    {
     "name": "stdout",
     "output_type": "stream",
     "text": [
      "FCNet: 0.529 \n",
      "SparseFCNet: 0.705 \n"
     ]
    }
   ],
   "source": [
    "noise = llc(fcnet, nn.CrossEntropyLoss(), X, max_iter=4, alpha=0.3, clip_eps=8/255, do_clip=True)\n",
    "\n",
    "yp = fcnet(X+noise).max(dim=1)[1].numpy()\n",
    "syp = sparse_fcnet(X+noise).max(dim=1)[1].numpy()\n",
    "\n",
    "print(\"FCNet: {} \".format(accuracy_score(y.numpy(), yp)))\n",
    "print(\"SparseFCNet: {} \".format(accuracy_score(y.numpy(), syp)))"
   ]
  },
  {
   "cell_type": "code",
   "execution_count": 18,
   "metadata": {},
   "outputs": [
    {
     "name": "stdout",
     "output_type": "stream",
     "text": [
      "FCNet: 0.81 \n",
      "SparseFCNet: 0.632 \n"
     ]
    }
   ],
   "source": [
    "noise = llc(sparse_fcnet, nn.CrossEntropyLoss(), X, max_iter=4, alpha=0.3, clip_eps=8/255, do_clip=True)\n",
    "\n",
    "yp = fcnet(X+noise).max(dim=1)[1].numpy()\n",
    "syp = sparse_fcnet(X+noise).max(dim=1)[1].numpy()\n",
    "\n",
    "print(\"FCNet: {} \".format(accuracy_score(y.numpy(), yp)))\n",
    "print(\"SparseFCNet: {} \".format(accuracy_score(y.numpy(), syp)))"
   ]
  },
  {
   "cell_type": "markdown",
   "metadata": {},
   "source": [
    "## CNN vs SparseCNN"
   ]
  },
  {
   "cell_type": "code",
   "execution_count": 20,
   "metadata": {},
   "outputs": [
    {
     "data": {
      "text/plain": [
       "<All keys matched successfully>"
      ]
     },
     "execution_count": 20,
     "metadata": {},
     "output_type": "execute_result"
    }
   ],
   "source": [
    "cnn = CNN()\n",
    "sparse_cnn = SparseCNN()\n",
    "\n",
    "cnn.load_state_dict(torch.load(\"models/cnn.pt\", map_location=device))\n",
    "sparse_cnn.load_state_dict(torch.load(\"models/sparse_cnn.pt\", map_location=device))"
   ]
  },
  {
   "cell_type": "markdown",
   "metadata": {},
   "source": [
    "### Clean images"
   ]
  },
  {
   "cell_type": "code",
   "execution_count": 21,
   "metadata": {},
   "outputs": [
    {
     "name": "stdout",
     "output_type": "stream",
     "text": [
      "CNN: 0.905 \n",
      "SparseCNN: 0.884 \n"
     ]
    }
   ],
   "source": [
    "from sklearn.metrics import accuracy_score\n",
    "\n",
    "yp = cnn(X).max(dim=1)[1].numpy()\n",
    "syp = sparse_cnn(X).max(dim=1)[1].numpy()\n",
    "\n",
    "print(\"CNN: {} \".format(accuracy_score(y.numpy(), yp)))\n",
    "print(\"SparseCNN: {} \".format(accuracy_score(y.numpy(), syp)))"
   ]
  },
  {
   "cell_type": "markdown",
   "metadata": {},
   "source": [
    "### Atak BIM"
   ]
  },
  {
   "cell_type": "code",
   "execution_count": 22,
   "metadata": {},
   "outputs": [
    {
     "name": "stdout",
     "output_type": "stream",
     "text": [
      "CNN: 0.492 \n",
      "SparseCNN: 0.739 \n"
     ]
    }
   ],
   "source": [
    "noise = bim(cnn, nn.CrossEntropyLoss(), X, y, alpha=0.3, max_iter=4, clip_eps=8/255, do_clip=True)\n",
    "\n",
    "yp = cnn(X+noise).max(dim=1)[1].numpy()\n",
    "syp = sparse_cnn(X+noise).max(dim=1)[1].numpy()\n",
    "\n",
    "print(\"CNN: {} \".format(accuracy_score(y.numpy(), yp)))\n",
    "print(\"SparseCNN: {} \".format(accuracy_score(y.numpy(), syp)))"
   ]
  },
  {
   "cell_type": "code",
   "execution_count": 23,
   "metadata": {},
   "outputs": [
    {
     "name": "stdout",
     "output_type": "stream",
     "text": [
      "CNN: 0.775 \n",
      "SparseCNN: 0.587 \n"
     ]
    }
   ],
   "source": [
    "noise = bim(sparse_cnn, nn.CrossEntropyLoss(), X, y, alpha=0.3, max_iter=4, clip_eps=8/255, do_clip=True)\n",
    "\n",
    "yp = cnn(X+noise).max(dim=1)[1].numpy()\n",
    "syp = sparse_cnn(X+noise).max(dim=1)[1].numpy()\n",
    "\n",
    "print(\"CNN: {} \".format(accuracy_score(y.numpy(), yp)))\n",
    "print(\"SparseCNN: {} \".format(accuracy_score(y.numpy(), syp)))"
   ]
  },
  {
   "cell_type": "markdown",
   "metadata": {},
   "source": [
    "### Atak FGSM"
   ]
  },
  {
   "cell_type": "code",
   "execution_count": 24,
   "metadata": {},
   "outputs": [
    {
     "name": "stdout",
     "output_type": "stream",
     "text": [
      "CNN: 0.222 \n",
      "SparseCNN: 0.463 \n"
     ]
    }
   ],
   "source": [
    "noise = fgsm(cnn, nn.CrossEntropyLoss(), X, y, alpha=0.3)\n",
    "\n",
    "yp = cnn(X+noise).max(dim=1)[1].numpy()\n",
    "syp = sparse_cnn(X+noise).max(dim=1)[1].numpy()\n",
    "\n",
    "print(\"CNN: {} \".format(accuracy_score(y.numpy(), yp)))\n",
    "print(\"SparseCNN: {} \".format(accuracy_score(y.numpy(), syp)))"
   ]
  },
  {
   "cell_type": "code",
   "execution_count": 25,
   "metadata": {},
   "outputs": [
    {
     "name": "stdout",
     "output_type": "stream",
     "text": [
      "CNN: 0.302 \n",
      "SparseCNN: 0.368 \n"
     ]
    }
   ],
   "source": [
    "noise = fgsm(sparse_cnn, nn.CrossEntropyLoss(), X, y, alpha=0.3)\n",
    "\n",
    "yp = cnn(X+noise).max(dim=1)[1].numpy()\n",
    "syp = sparse_cnn(X+noise).max(dim=1)[1].numpy()\n",
    "\n",
    "print(\"CNN: {} \".format(accuracy_score(y.numpy(), yp)))\n",
    "print(\"SparseCNN: {} \".format(accuracy_score(y.numpy(), syp)))"
   ]
  },
  {
   "cell_type": "markdown",
   "metadata": {},
   "source": [
    "### Atak LLC"
   ]
  },
  {
   "cell_type": "code",
   "execution_count": 26,
   "metadata": {},
   "outputs": [
    {
     "name": "stdout",
     "output_type": "stream",
     "text": [
      "CNN: 0.878 \n",
      "SparseCNN: 0.88 \n"
     ]
    }
   ],
   "source": [
    "noise = llc(cnn, nn.CrossEntropyLoss(), X, max_iter=4, alpha=0.3, clip_eps=8/255, do_clip=True)\n",
    "\n",
    "yp = cnn(X+noise).max(dim=1)[1].numpy()\n",
    "syp = sparse_cnn(X+noise).max(dim=1)[1].numpy()\n",
    "\n",
    "print(\"CNN: {} \".format(accuracy_score(y.numpy(), yp)))\n",
    "print(\"SparseCNN: {} \".format(accuracy_score(y.numpy(), syp)))"
   ]
  },
  {
   "cell_type": "code",
   "execution_count": 28,
   "metadata": {},
   "outputs": [
    {
     "name": "stdout",
     "output_type": "stream",
     "text": [
      "CNN: 0.871 \n",
      "SparseCNN: 0.872 \n"
     ]
    }
   ],
   "source": [
    "noise = llc(sparse_cnn, nn.CrossEntropyLoss(), X, max_iter=4, alpha=0.3, clip_eps=8/255, do_clip=True)\n",
    "\n",
    "yp = cnn(X+noise).max(dim=1)[1].numpy()\n",
    "syp = sparse_cnn(X+noise).max(dim=1)[1].numpy()\n",
    "\n",
    "print(\"CNN: {} \".format(accuracy_score(y.numpy(), yp)))\n",
    "print(\"SparseCNN: {} \".format(accuracy_score(y.numpy(), syp)))"
   ]
  },
  {
   "cell_type": "code",
   "execution_count": null,
   "metadata": {},
   "outputs": [],
   "source": []
  }
 ],
 "metadata": {
  "kernelspec": {
   "display_name": "Python 3",
   "language": "python",
   "name": "python3"
  },
  "language_info": {
   "codemirror_mode": {
    "name": "ipython",
    "version": 3
   },
   "file_extension": ".py",
   "mimetype": "text/x-python",
   "name": "python",
   "nbconvert_exporter": "python",
   "pygments_lexer": "ipython3",
   "version": "3.7.9"
  }
 },
 "nbformat": 4,
 "nbformat_minor": 4
}
