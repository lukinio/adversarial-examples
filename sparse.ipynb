{
 "cells": [
  {
   "cell_type": "code",
   "execution_count": 1,
   "metadata": {},
   "outputs": [
    {
     "name": "stdout",
     "output_type": "stream",
     "text": [
      "1.6.0\n",
      "False\n"
     ]
    }
   ],
   "source": [
    "%config IPCompleter.greedy=True\n",
    "\n",
    "from os import path\n",
    "import torch\n",
    "print(torch.__version__)\n",
    "print(torch.cuda.is_available())"
   ]
  },
  {
   "cell_type": "code",
   "execution_count": 2,
   "metadata": {},
   "outputs": [
    {
     "name": "stderr",
     "output_type": "stream",
     "text": [
      "In /home/lukinio/anaconda3/envs/ml/lib/python3.7/site-packages/matplotlib/mpl-data/stylelib/_classic_test.mplstyle: \n",
      "The text.latex.preview rcparam was deprecated in Matplotlib 3.3 and will be removed two minor releases later.\n",
      "In /home/lukinio/anaconda3/envs/ml/lib/python3.7/site-packages/matplotlib/mpl-data/stylelib/_classic_test.mplstyle: \n",
      "The mathtext.fallback_to_cm rcparam was deprecated in Matplotlib 3.3 and will be removed two minor releases later.\n",
      "In /home/lukinio/anaconda3/envs/ml/lib/python3.7/site-packages/matplotlib/mpl-data/stylelib/_classic_test.mplstyle: Support for setting the 'mathtext.fallback_to_cm' rcParam is deprecated since 3.3 and will be removed two minor releases later; use 'mathtext.fallback : 'cm' instead.\n",
      "In /home/lukinio/anaconda3/envs/ml/lib/python3.7/site-packages/matplotlib/mpl-data/stylelib/_classic_test.mplstyle: \n",
      "The validate_bool_maybe_none function was deprecated in Matplotlib 3.3 and will be removed two minor releases later.\n",
      "In /home/lukinio/anaconda3/envs/ml/lib/python3.7/site-packages/matplotlib/mpl-data/stylelib/_classic_test.mplstyle: \n",
      "The savefig.jpeg_quality rcparam was deprecated in Matplotlib 3.3 and will be removed two minor releases later.\n",
      "In /home/lukinio/anaconda3/envs/ml/lib/python3.7/site-packages/matplotlib/mpl-data/stylelib/_classic_test.mplstyle: \n",
      "The keymap.all_axes rcparam was deprecated in Matplotlib 3.3 and will be removed two minor releases later.\n",
      "In /home/lukinio/anaconda3/envs/ml/lib/python3.7/site-packages/matplotlib/mpl-data/stylelib/_classic_test.mplstyle: \n",
      "The animation.avconv_path rcparam was deprecated in Matplotlib 3.3 and will be removed two minor releases later.\n",
      "In /home/lukinio/anaconda3/envs/ml/lib/python3.7/site-packages/matplotlib/mpl-data/stylelib/_classic_test.mplstyle: \n",
      "The animation.avconv_args rcparam was deprecated in Matplotlib 3.3 and will be removed two minor releases later.\n"
     ]
    }
   ],
   "source": [
    "import numpy as np\n",
    "import torchvision\n",
    "from PIL import Image\n",
    "\n",
    "from matplotlib import pyplot as plt;\n",
    "from torchvision.datasets import FashionMNIST\n",
    "from torchvision.transforms import ToTensor\n",
    "\n",
    "import torch\n",
    "import torch.nn as nn\n",
    "import torch.nn.functional as F\n",
    "from torch import optim\n",
    "\n",
    "from sklearn.metrics import accuracy_score\n",
    "from sklearn.metrics import confusion_matrix\n",
    "from torch.utils.data import DataLoader"
   ]
  },
  {
   "cell_type": "code",
   "execution_count": 3,
   "metadata": {},
   "outputs": [],
   "source": [
    "from utils import *\n",
    "from attacks import fgsm, bim, llc\n",
    "from train_utils import train_model\n",
    "from models.models import *\n",
    "\n",
    "from nupic.torch.modules import (KWinners, SparseWeights, Flatten, SparseWeights2d, KWinners2d, \n",
    "                                 rezero_weights, update_boost_strength)"
   ]
  },
  {
   "cell_type": "code",
   "execution_count": 4,
   "metadata": {},
   "outputs": [],
   "source": [
    "device = torch.device(\"cuda\") if torch.cuda.is_available() else torch.device(\"cpu\")"
   ]
  },
  {
   "cell_type": "code",
   "execution_count": 5,
   "metadata": {},
   "outputs": [],
   "source": [
    "transform = ToTensor()\n",
    "ds = FashionMNIST('./data', train=True, target_transform=None, download=True, transform=transform)\n",
    "ds_test = FashionMNIST('./data', train=False, target_transform=None, download=True, transform=transform)"
   ]
  },
  {
   "cell_type": "code",
   "execution_count": 6,
   "metadata": {},
   "outputs": [],
   "source": [
    "test1000 = DataLoader(ds_test, 1000, shuffle=True)\n",
    "for X, y in test1000:\n",
    "    X, y = X.to(device), y.to(device)\n",
    "    break"
   ]
  },
  {
   "cell_type": "code",
   "execution_count": 7,
   "metadata": {},
   "outputs": [
    {
     "data": {
      "text/plain": [
       "<All keys matched successfully>"
      ]
     },
     "execution_count": 7,
     "metadata": {},
     "output_type": "execute_result"
    }
   ],
   "source": [
    "fcnet = FCNet()\n",
    "sparse_fcnet = SparseFCNet()\n",
    "\n",
    "fcnet.load_state_dict(torch.load(\"models/fcnet.pt\", map_location=device))\n",
    "sparse_fcnet.load_state_dict(torch.load(\"models/sparse_fcnet.pt\", map_location=device))"
   ]
  },
  {
   "cell_type": "markdown",
   "metadata": {},
   "source": [
    "## FCNet vs SparseFCNet"
   ]
  },
  {
   "cell_type": "markdown",
   "metadata": {},
   "source": [
    "### Clean images"
   ]
  },
  {
   "cell_type": "code",
   "execution_count": 8,
   "metadata": {},
   "outputs": [
    {
     "name": "stdout",
     "output_type": "stream",
     "text": [
      "FCNet: 0.888 \n",
      "SparseFCNet: 0.888 \n"
     ]
    }
   ],
   "source": [
    "from sklearn.metrics import accuracy_score\n",
    "\n",
    "yp = fcnet(X).max(dim=1)[1].numpy()\n",
    "syp = sparse_fcnet(X).max(dim=1)[1].numpy()\n",
    "\n",
    "print(\"FCNet: {} \".format(accuracy_score(y.numpy(), yp)))\n",
    "print(\"SparseFCNet: {} \".format(accuracy_score(y.numpy(), syp)))"
   ]
  },
  {
   "cell_type": "markdown",
   "metadata": {},
   "source": [
    "### Atak BIM"
   ]
  },
  {
   "cell_type": "code",
   "execution_count": 9,
   "metadata": {},
   "outputs": [
    {
     "name": "stdout",
     "output_type": "stream",
     "text": [
      "FCNet: 0.063 \n",
      "SparseFCNet: 0.331 \n"
     ]
    }
   ],
   "source": [
    "noise = bim(fcnet, nn.CrossEntropyLoss(), X, y, alpha=0.3, max_iter=4, clip_eps=8/255, do_clip=True)\n",
    "\n",
    "yp = fcnet(X+noise).max(dim=1)[1].numpy()\n",
    "syp = sparse_fcnet(X+noise).max(dim=1)[1].numpy()\n",
    "\n",
    "print(\"FCNet: {} \".format(accuracy_score(y.numpy(), yp)))\n",
    "print(\"SparseFCNet: {} \".format(accuracy_score(y.numpy(), syp)))"
   ]
  },
  {
   "cell_type": "code",
   "execution_count": 10,
   "metadata": {},
   "outputs": [
    {
     "name": "stdout",
     "output_type": "stream",
     "text": [
      "FCNet: 0.454 \n",
      "SparseFCNet: 0.082 \n"
     ]
    }
   ],
   "source": [
    "noise = bim(sparse_fcnet, nn.CrossEntropyLoss(), X, y, alpha=0.3, max_iter=4, clip_eps=8/255, do_clip=True)\n",
    "\n",
    "yp = fcnet(X+noise).max(dim=1)[1].numpy()\n",
    "syp = sparse_fcnet(X+noise).max(dim=1)[1].numpy()\n",
    "\n",
    "print(\"FCNet: {} \".format(accuracy_score(y.numpy(), yp)))\n",
    "print(\"SparseFCNet: {} \".format(accuracy_score(y.numpy(), syp)))"
   ]
  },
  {
   "cell_type": "markdown",
   "metadata": {},
   "source": [
    "### Atak FGSM"
   ]
  },
  {
   "cell_type": "code",
   "execution_count": 11,
   "metadata": {},
   "outputs": [
    {
     "name": "stdout",
     "output_type": "stream",
     "text": [
      "FCNet: 0.0 \n",
      "SparseFCNet: 0.002 \n"
     ]
    }
   ],
   "source": [
    "noise = fgsm(fcnet, nn.CrossEntropyLoss(), X, y, alpha=0.3)\n",
    "\n",
    "yp = fcnet(X+noise).max(dim=1)[1].numpy()\n",
    "syp = sparse_fcnet(X+noise).max(dim=1)[1].numpy()\n",
    "\n",
    "print(\"FCNet: {} \".format(accuracy_score(y.numpy(), yp)))\n",
    "print(\"SparseFCNet: {} \".format(accuracy_score(y.numpy(), syp)))"
   ]
  },
  {
   "cell_type": "code",
   "execution_count": 12,
   "metadata": {},
   "outputs": [
    {
     "name": "stdout",
     "output_type": "stream",
     "text": [
      "FCNet: 0.005 \n",
      "SparseFCNet: 0.001 \n"
     ]
    }
   ],
   "source": [
    "noise = fgsm(sparse_fcnet, nn.CrossEntropyLoss(), X, y, alpha=0.3)\n",
    "\n",
    "yp = fcnet(X+noise).max(dim=1)[1].numpy()\n",
    "syp = sparse_fcnet(X+noise).max(dim=1)[1].numpy()\n",
    "\n",
    "print(\"FCNet: {} \".format(accuracy_score(y.numpy(), yp)))\n",
    "print(\"SparseFCNet: {} \".format(accuracy_score(y.numpy(), syp)))"
   ]
  },
  {
   "cell_type": "markdown",
   "metadata": {},
   "source": [
    "### Atak LLC"
   ]
  },
  {
   "cell_type": "code",
   "execution_count": 13,
   "metadata": {},
   "outputs": [
    {
     "name": "stdout",
     "output_type": "stream",
     "text": [
      "FCNet: 0.513 \n",
      "SparseFCNet: 0.702 \n"
     ]
    }
   ],
   "source": [
    "noise = llc(fcnet, nn.CrossEntropyLoss(), X, max_iter=4, alpha=0.3, clip_eps=8/255, do_clip=True)\n",
    "\n",
    "yp = fcnet(X+noise).max(dim=1)[1].numpy()\n",
    "syp = sparse_fcnet(X+noise).max(dim=1)[1].numpy()\n",
    "\n",
    "print(\"FCNet: {} \".format(accuracy_score(y.numpy(), yp)))\n",
    "print(\"SparseFCNet: {} \".format(accuracy_score(y.numpy(), syp)))"
   ]
  },
  {
   "cell_type": "code",
   "execution_count": 14,
   "metadata": {},
   "outputs": [
    {
     "name": "stdout",
     "output_type": "stream",
     "text": [
      "FCNet: 0.803 \n",
      "SparseFCNet: 0.627 \n"
     ]
    }
   ],
   "source": [
    "noise = llc(sparse_fcnet, nn.CrossEntropyLoss(), X, max_iter=4, alpha=0.3, clip_eps=8/255, do_clip=True)\n",
    "\n",
    "yp = fcnet(X+noise).max(dim=1)[1].numpy()\n",
    "syp = sparse_fcnet(X+noise).max(dim=1)[1].numpy()\n",
    "\n",
    "print(\"FCNet: {} \".format(accuracy_score(y.numpy(), yp)))\n",
    "print(\"SparseFCNet: {} \".format(accuracy_score(y.numpy(), syp)))"
   ]
  },
  {
   "cell_type": "markdown",
   "metadata": {},
   "source": [
    "## CNN vs SparseCNN vs CnnSparseFc"
   ]
  },
  {
   "cell_type": "markdown",
   "metadata": {},
   "source": [
    "### CNN\n",
    "- 2x convolutional layer\n",
    "    - activation: ReLU\n",
    "- 3x fully connected layer\n",
    "    - activation: ReLU\n",
    "\n",
    "### SparseCNN \n",
    "- 2x sparse convolutional layer - 10% of weight\n",
    "    - KWinners with activation top 50%\n",
    "- 3x sparse fully connected layer - 10% of weight\n",
    "    - KWinners with activation top 50%\n",
    "\n",
    "### CnnSparseFc \n",
    "- 2x convolutional layer\n",
    "    - KWinners with activation top 10%\n",
    "- 3x sparse fully connected layer - 10% of weight\n",
    "    - KWinners with activation top 10%"
   ]
  },
  {
   "cell_type": "code",
   "execution_count": 15,
   "metadata": {},
   "outputs": [
    {
     "data": {
      "text/plain": [
       "<All keys matched successfully>"
      ]
     },
     "execution_count": 15,
     "metadata": {},
     "output_type": "execute_result"
    }
   ],
   "source": [
    "cnn = CNN()\n",
    "sparse_cnn = SparseCNN()\n",
    "cnn_sparse_fc = CNNSparseFC()\n",
    "\n",
    "dense_flat_relu = DenseFlatReLU()\n",
    "\n",
    "cnn.load_state_dict(torch.load(\"models/cnn.pt\", map_location=device))\n",
    "sparse_cnn.load_state_dict(torch.load(\"models/sparse_cnn.pt\", map_location=device))\n",
    "cnn_sparse_fc.load_state_dict(torch.load(\"models/cnn_sparse_fc.pt\", map_location=device))\n",
    "\n",
    "dense_flat_relu.load_state_dict(torch.load(\"models/dense_flat_relu.pt\", map_location=device))"
   ]
  },
  {
   "cell_type": "markdown",
   "metadata": {},
   "source": [
    "### Clean images"
   ]
  },
  {
   "cell_type": "code",
   "execution_count": 16,
   "metadata": {},
   "outputs": [
    {
     "name": "stdout",
     "output_type": "stream",
     "text": [
      "CNN: 0.912 \n",
      "SparseCNN: 0.901 \n",
      "CnnSparseFc: 0.917 \n",
      "DenseFlatReLU: 0.522 \n"
     ]
    }
   ],
   "source": [
    "from sklearn.metrics import accuracy_score\n",
    "\n",
    "cnn_pred = cnn(X).max(dim=1)[1].numpy()\n",
    "scnn_pred = sparse_cnn(X).max(dim=1)[1].numpy()\n",
    "cnn_s_fc_pred = cnn_sparse_fc(X).max(dim=1)[1].numpy()\n",
    "\n",
    "dense_frelu_pred = dense_flat_relu(X).max(dim=1)[1].numpy()\n",
    "\n",
    "print(\"CNN: {} \".format(accuracy_score(y.numpy(), cnn_pred)))\n",
    "print(\"SparseCNN: {} \".format(accuracy_score(y.numpy(), scnn_pred)))\n",
    "print(\"CnnSparseFc: {} \".format(accuracy_score(y.numpy(), cnn_s_fc_pred)))\n",
    "\n",
    "print(\"DenseFlatReLU: {} \".format(accuracy_score(y.numpy(), dense_frelu_pred)))"
   ]
  },
  {
   "cell_type": "markdown",
   "metadata": {},
   "source": [
    "### Atak BIM"
   ]
  },
  {
   "cell_type": "code",
   "execution_count": 17,
   "metadata": {},
   "outputs": [
    {
     "name": "stdout",
     "output_type": "stream",
     "text": [
      "CNN: 0.5 \n",
      "SparseCNN: 0.755 \n",
      "CnnSparseFc: 0.544 \n"
     ]
    }
   ],
   "source": [
    "noise = bim(cnn, nn.CrossEntropyLoss(), X, y, alpha=0.3, max_iter=4, clip_eps=8/255, do_clip=True)\n",
    "\n",
    "cnn_pred = cnn(X+noise).max(dim=1)[1].numpy()\n",
    "scnn_pred = sparse_cnn(X+noise).max(dim=1)[1].numpy()\n",
    "cnn_s_fc_pred = cnn_sparse_fc(X+noise).max(dim=1)[1].numpy()\n",
    "\n",
    "print(\"CNN: {} \".format(accuracy_score(y.numpy(), cnn_pred)))\n",
    "print(\"SparseCNN: {} \".format(accuracy_score(y.numpy(), scnn_pred)))\n",
    "print(\"CnnSparseFc: {} \".format(accuracy_score(y.numpy(), cnn_s_fc_pred)))"
   ]
  },
  {
   "cell_type": "code",
   "execution_count": 18,
   "metadata": {},
   "outputs": [
    {
     "name": "stdout",
     "output_type": "stream",
     "text": [
      "CNN: 0.792 \n",
      "SparseCNN: 0.585 \n",
      "CnnSparseFc: 0.686 \n"
     ]
    }
   ],
   "source": [
    "noise = bim(sparse_cnn, nn.CrossEntropyLoss(), X, y, alpha=0.3, max_iter=4, clip_eps=8/255, do_clip=True)\n",
    "\n",
    "cnn_pred = cnn(X+noise).max(dim=1)[1].numpy()\n",
    "scnn_pred = sparse_cnn(X+noise).max(dim=1)[1].numpy()\n",
    "cnn_s_fc_pred = cnn_sparse_fc(X+noise).max(dim=1)[1].numpy()\n",
    "\n",
    "print(\"CNN: {} \".format(accuracy_score(y.numpy(), cnn_pred)))\n",
    "print(\"SparseCNN: {} \".format(accuracy_score(y.numpy(), scnn_pred)))\n",
    "print(\"CnnSparseFc: {} \".format(accuracy_score(y.numpy(), cnn_s_fc_pred)))"
   ]
  },
  {
   "cell_type": "code",
   "execution_count": 19,
   "metadata": {},
   "outputs": [
    {
     "name": "stdout",
     "output_type": "stream",
     "text": [
      "CNN: 0.831 \n",
      "SparseCNN: 0.851 \n",
      "CnnSparseFc: 0.442 \n"
     ]
    }
   ],
   "source": [
    "noise = bim(cnn_sparse_fc, nn.CrossEntropyLoss(), X, y, alpha=0.3, max_iter=4, clip_eps=8/255, do_clip=True)\n",
    "\n",
    "cnn_pred = cnn(X+noise).max(dim=1)[1].numpy()\n",
    "scnn_pred = sparse_cnn(X+noise).max(dim=1)[1].numpy()\n",
    "cnn_s_fc_pred = cnn_sparse_fc(X+noise).max(dim=1)[1].numpy()\n",
    "\n",
    "print(\"CNN: {} \".format(accuracy_score(y.numpy(), cnn_pred)))\n",
    "print(\"SparseCNN: {} \".format(accuracy_score(y.numpy(), scnn_pred)))\n",
    "print(\"CnnSparseFc: {} \".format(accuracy_score(y.numpy(), cnn_s_fc_pred)))"
   ]
  },
  {
   "cell_type": "markdown",
   "metadata": {},
   "source": [
    "### Atak FGSM"
   ]
  },
  {
   "cell_type": "code",
   "execution_count": 20,
   "metadata": {},
   "outputs": [
    {
     "name": "stdout",
     "output_type": "stream",
     "text": [
      "CNN: 0.24 \n",
      "SparseCNN: 0.452 \n",
      "CnnSparseFc: 0.202 \n"
     ]
    }
   ],
   "source": [
    "noise = fgsm(cnn, nn.CrossEntropyLoss(), X, y, alpha=0.3)\n",
    "\n",
    "cnn_pred = cnn(X+noise).max(dim=1)[1].numpy()\n",
    "scnn_pred = sparse_cnn(X+noise).max(dim=1)[1].numpy()\n",
    "cnn_s_fc_pred = cnn_sparse_fc(X+noise).max(dim=1)[1].numpy()\n",
    "\n",
    "print(\"CNN: {} \".format(accuracy_score(y.numpy(), cnn_pred)))\n",
    "print(\"SparseCNN: {} \".format(accuracy_score(y.numpy(), scnn_pred)))\n",
    "print(\"CnnSparseFc: {} \".format(accuracy_score(y.numpy(), cnn_s_fc_pred)))"
   ]
  },
  {
   "cell_type": "code",
   "execution_count": 21,
   "metadata": {},
   "outputs": [
    {
     "name": "stdout",
     "output_type": "stream",
     "text": [
      "CNN: 0.318 \n",
      "SparseCNN: 0.366 \n",
      "CnnSparseFc: 0.216 \n"
     ]
    }
   ],
   "source": [
    "noise = fgsm(sparse_cnn, nn.CrossEntropyLoss(), X, y, alpha=0.3)\n",
    "\n",
    "cnn_pred = cnn(X+noise).max(dim=1)[1].numpy()\n",
    "scnn_pred = sparse_cnn(X+noise).max(dim=1)[1].numpy()\n",
    "cnn_s_fc_pred = cnn_sparse_fc(X+noise).max(dim=1)[1].numpy()\n",
    "\n",
    "print(\"CNN: {} \".format(accuracy_score(y.numpy(), cnn_pred)))\n",
    "print(\"SparseCNN: {} \".format(accuracy_score(y.numpy(), scnn_pred)))\n",
    "print(\"CnnSparseFc: {} \".format(accuracy_score(y.numpy(), cnn_s_fc_pred)))"
   ]
  },
  {
   "cell_type": "code",
   "execution_count": 22,
   "metadata": {},
   "outputs": [
    {
     "name": "stdout",
     "output_type": "stream",
     "text": [
      "CNN: 0.306 \n",
      "SparseCNN: 0.431 \n",
      "CnnSparseFc: 0.174 \n"
     ]
    }
   ],
   "source": [
    "noise = fgsm(cnn_sparse_fc, nn.CrossEntropyLoss(), X, y, alpha=0.3)\n",
    "\n",
    "cnn_pred = cnn(X+noise).max(dim=1)[1].numpy()\n",
    "scnn_pred = sparse_cnn(X+noise).max(dim=1)[1].numpy()\n",
    "cnn_s_fc_pred = cnn_sparse_fc(X+noise).max(dim=1)[1].numpy()\n",
    "\n",
    "print(\"CNN: {} \".format(accuracy_score(y.numpy(), cnn_pred)))\n",
    "print(\"SparseCNN: {} \".format(accuracy_score(y.numpy(), scnn_pred)))\n",
    "print(\"CnnSparseFc: {} \".format(accuracy_score(y.numpy(), cnn_s_fc_pred)))"
   ]
  },
  {
   "cell_type": "markdown",
   "metadata": {},
   "source": [
    "### Atak LLC"
   ]
  },
  {
   "cell_type": "code",
   "execution_count": 23,
   "metadata": {},
   "outputs": [
    {
     "name": "stdout",
     "output_type": "stream",
     "text": [
      "CNN: 0.889 \n",
      "SparseCNN: 0.885 \n",
      "CnnSparseFc: 0.831 \n"
     ]
    }
   ],
   "source": [
    "noise = llc(cnn, nn.CrossEntropyLoss(), X, max_iter=4, alpha=0.3, clip_eps=8/255, do_clip=True)\n",
    "\n",
    "cnn_pred = cnn(X+noise).max(dim=1)[1].numpy()\n",
    "scnn_pred = sparse_cnn(X+noise).max(dim=1)[1].numpy()\n",
    "cnn_s_fc_pred = cnn_sparse_fc(X+noise).max(dim=1)[1].numpy()\n",
    "\n",
    "print(\"CNN: {} \".format(accuracy_score(y.numpy(), cnn_pred)))\n",
    "print(\"SparseCNN: {} \".format(accuracy_score(y.numpy(), scnn_pred)))\n",
    "print(\"CnnSparseFc: {} \".format(accuracy_score(y.numpy(), cnn_s_fc_pred)))"
   ]
  },
  {
   "cell_type": "code",
   "execution_count": 24,
   "metadata": {},
   "outputs": [
    {
     "name": "stdout",
     "output_type": "stream",
     "text": [
      "CNN: 0.9 \n",
      "SparseCNN: 0.893 \n",
      "CnnSparseFc: 0.792 \n"
     ]
    }
   ],
   "source": [
    "noise = llc(sparse_cnn, nn.CrossEntropyLoss(), X, max_iter=4, alpha=0.3, clip_eps=8/255, do_clip=True)\n",
    "\n",
    "cnn_pred = cnn(X+noise).max(dim=1)[1].numpy()\n",
    "scnn_pred = sparse_cnn(X+noise).max(dim=1)[1].numpy()\n",
    "cnn_s_fc_pred = cnn_sparse_fc(X+noise).max(dim=1)[1].numpy()\n",
    "\n",
    "print(\"CNN: {} \".format(accuracy_score(y.numpy(), cnn_pred)))\n",
    "print(\"SparseCNN: {} \".format(accuracy_score(y.numpy(), scnn_pred)))\n",
    "print(\"CnnSparseFc: {} \".format(accuracy_score(y.numpy(), cnn_s_fc_pred)))"
   ]
  },
  {
   "cell_type": "code",
   "execution_count": 25,
   "metadata": {},
   "outputs": [
    {
     "name": "stdout",
     "output_type": "stream",
     "text": [
      "CNN: 0.889 \n",
      "SparseCNN: 0.886 \n",
      "CnnSparseFc: 0.725 \n"
     ]
    }
   ],
   "source": [
    "noise = llc(cnn_sparse_fc, nn.CrossEntropyLoss(), X, max_iter=4, alpha=0.3, clip_eps=8/255, do_clip=True)\n",
    "\n",
    "cnn_pred = cnn(X+noise).max(dim=1)[1].numpy()\n",
    "scnn_pred = sparse_cnn(X+noise).max(dim=1)[1].numpy()\n",
    "cnn_s_fc_pred = cnn_sparse_fc(X+noise).max(dim=1)[1].numpy()\n",
    "\n",
    "print(\"CNN: {} \".format(accuracy_score(y.numpy(), cnn_pred)))\n",
    "print(\"SparseCNN: {} \".format(accuracy_score(y.numpy(), scnn_pred)))\n",
    "print(\"CnnSparseFc: {} \".format(accuracy_score(y.numpy(), cnn_s_fc_pred)))"
   ]
  },
  {
   "cell_type": "code",
   "execution_count": null,
   "metadata": {},
   "outputs": [],
   "source": []
  },
  {
   "cell_type": "code",
   "execution_count": null,
   "metadata": {},
   "outputs": [],
   "source": []
  }
 ],
 "metadata": {
  "kernelspec": {
   "display_name": "Python 3",
   "language": "python",
   "name": "python3"
  },
  "language_info": {
   "codemirror_mode": {
    "name": "ipython",
    "version": 3
   },
   "file_extension": ".py",
   "mimetype": "text/x-python",
   "name": "python",
   "nbconvert_exporter": "python",
   "pygments_lexer": "ipython3",
   "version": "3.7.9"
  }
 },
 "nbformat": 4,
 "nbformat_minor": 4
}
