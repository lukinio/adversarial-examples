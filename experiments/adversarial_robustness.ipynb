{
 "cells": [
  {
   "cell_type": "markdown",
   "metadata": {},
   "source": [
    "# Notebook contains summary of adversarial robustness of different model"
   ]
  },
  {
   "cell_type": "code",
   "execution_count": 1,
   "metadata": {},
   "outputs": [],
   "source": [
    "import sys, os\n",
    "d = os.path.dirname(os.getcwd())\n",
    "sys.path.insert(0, d)"
   ]
  },
  {
   "cell_type": "code",
   "execution_count": 2,
   "metadata": {},
   "outputs": [
    {
     "name": "stdout",
     "output_type": "stream",
     "text": [
      "1.7.0\n",
      "True\n"
     ]
    }
   ],
   "source": [
    "import torch\n",
    "print(torch.__version__)\n",
    "print(torch.cuda.is_available())\n",
    "\n",
    "import torch.nn as nn\n",
    "import torch.nn.functional as F\n",
    "from torch import optim\n",
    "\n",
    "import torchvision\n",
    "from torchvision.datasets import CIFAR10\n",
    "from torchvision.transforms import transforms\n",
    "\n",
    "from torch.utils.data import DataLoader\n",
    "\n",
    "import numpy as np\n",
    "import pandas as pd\n",
    "from matplotlib import pyplot as plt\n",
    "\n",
    "from utils.attacks import fgsm, pgd\n",
    "from utils.utils import plot_images\n",
    "from utils.train_utils import eval_epoch\n",
    "from models.resnet import ResNet, SparseResNet\n",
    "from models.resnet_FReLU import FResNet, FSparseResNet"
   ]
  },
  {
   "cell_type": "code",
   "execution_count": 3,
   "metadata": {},
   "outputs": [
    {
     "name": "stdout",
     "output_type": "stream",
     "text": [
      "cuda\n"
     ]
    }
   ],
   "source": [
    "device = torch.device(\"cuda\") if torch.cuda.is_available() else torch.device(\"cpu\")\n",
    "print(device)"
   ]
  },
  {
   "cell_type": "code",
   "execution_count": 4,
   "metadata": {},
   "outputs": [
    {
     "name": "stdout",
     "output_type": "stream",
     "text": [
      "Files already downloaded and verified\n"
     ]
    }
   ],
   "source": [
    "test_transform = transforms.Compose([\n",
    "    transforms.ToTensor(),\n",
    "])\n",
    "\n",
    "ds = CIFAR10('../data', train=False, target_transform=None, download=True, transform=test_transform)\n",
    "test_loader = DataLoader(ds, 1000, shuffle=True)\n",
    "for X, y in test_loader:\n",
    "    X, y = X.to(device), y.to(device)\n",
    "    break"
   ]
  },
  {
   "cell_type": "code",
   "execution_count": 5,
   "metadata": {},
   "outputs": [],
   "source": [
    "def clean_acc(model, loader):\n",
    "    clean_correct = 0\n",
    "    for X, y in loader:\n",
    "        X, y = X.to(device), y.to(device)  \n",
    "        clean_correct += (model(X).max(dim=1)[1] == y).sum().item()\n",
    "\n",
    "    return round(clean_correct / len(loader.dataset), 4)\n",
    "\n",
    "def adv_acc(model, loader, loss_fn, attack_method, attack_params):\n",
    "    adv_correct = [0] * len(attack_params)\n",
    "    for X, y in loader:\n",
    "        X, y = X.to(device), y.to(device)\n",
    "        for i, p in enumerate(attack_params):\n",
    "            noise = attack_method(model, X, y, loss_fn, epsilon=p[\"epsilon\"], \n",
    "                                  alpha=p[\"alpha\"], num_iter=p[\"num_iter\"])\n",
    "            adv_correct[i] += (model(X+noise).max(dim=1)[1] == y).sum().item()\n",
    "\n",
    "    return [round(a/len(loader.dataset), 4) for a in adv_correct]"
   ]
  },
  {
   "cell_type": "code",
   "execution_count": 6,
   "metadata": {},
   "outputs": [],
   "source": [
    "attack1 = {\n",
    "    \"id\": 0,\n",
    "    \"name\": \"eps=8,a=2,i=10\",\n",
    "    \"epsilon\": 8/255,\n",
    "    \"alpha\": 2/255,\n",
    "    \"num_iter\": 10\n",
    "}\n",
    "\n",
    "attack2 = {\n",
    "    \"id\": 1,\n",
    "    \"name\": \"eps=4,a=2,i=10\",\n",
    "    \"epsilon\": 4/255,\n",
    "    \"alpha\": 2/255,\n",
    "    \"num_iter\": 10\n",
    "}\n",
    "\n",
    "params = [attack1, attack2]\n",
    "\n",
    "models = ['ResNet', 'SparseResNet', 'Robust ResNet', 'Robust SparseResNet', 'ResNet_FReLU', 'SparseResNet_FReLU']\n",
    "pd_clean, pd_adv = [], []"
   ]
  },
  {
   "cell_type": "markdown",
   "metadata": {},
   "source": [
    "# Models trained on clean images\n",
    "- ResNet\n",
    "    - 8 convolutional layers\n",
    "    - 5 linear layers\n",
    "    - activation ReLU after all layers\n",
    "- SparseResNet\n",
    "    - 8 convolutional layers\n",
    "        - with KWiners2d actiation where k set to 10%\n",
    "    - 5 **sparse** linear layers, only 10% connections is active\n",
    "        - with KWiners actiation where k set to 10%"
   ]
  },
  {
   "cell_type": "markdown",
   "metadata": {},
   "source": [
    "**Model ResNet**"
   ]
  },
  {
   "cell_type": "code",
   "execution_count": 7,
   "metadata": {},
   "outputs": [
    {
     "data": {
      "text/plain": [
       "<All keys matched successfully>"
      ]
     },
     "execution_count": 7,
     "metadata": {},
     "output_type": "execute_result"
    }
   ],
   "source": [
    "model = ResNet().to(device)\n",
    "model.load_state_dict(torch.load(\"../saved/resnet.pt\", map_location=device))"
   ]
  },
  {
   "cell_type": "code",
   "execution_count": 8,
   "metadata": {},
   "outputs": [
    {
     "name": "stdout",
     "output_type": "stream",
     "text": [
      "clean accuracy: 0.9226\n",
      "eps=8,a=2,i=10: 0.002\n",
      "eps=4,a=2,i=10: 0.0991\n"
     ]
    }
   ],
   "source": [
    "acc_clean = clean_acc(model, test_loader)\n",
    "pd_clean.append(acc_clean)\n",
    "\n",
    "acc_adver = adv_acc(model, test_loader, nn.CrossEntropyLoss(), pgd, params)\n",
    "pd_adv.append(acc_adver)\n",
    "\n",
    "print(f\"clean accuracy: {acc_clean}\")\n",
    "for a, p in zip(acc_adver, params):\n",
    "    print(f\"{p['name']}: {a}\")"
   ]
  },
  {
   "cell_type": "markdown",
   "metadata": {},
   "source": [
    "**SparseResNet**"
   ]
  },
  {
   "cell_type": "code",
   "execution_count": 9,
   "metadata": {},
   "outputs": [
    {
     "data": {
      "text/plain": [
       "<All keys matched successfully>"
      ]
     },
     "execution_count": 9,
     "metadata": {},
     "output_type": "execute_result"
    }
   ],
   "source": [
    "model = SparseResNet().to(device)\n",
    "model.load_state_dict(torch.load(\"../saved/sparse_resnet.pt\", map_location=device))"
   ]
  },
  {
   "cell_type": "code",
   "execution_count": 10,
   "metadata": {},
   "outputs": [
    {
     "name": "stdout",
     "output_type": "stream",
     "text": [
      "clean accuracy: 0.9037\n",
      "eps=8,a=2,i=10: 0.3083\n",
      "eps=4,a=2,i=10: 0.5418\n"
     ]
    }
   ],
   "source": [
    "acc_clean = clean_acc(model, test_loader)\n",
    "pd_clean.append(acc_clean)\n",
    "\n",
    "acc_adver = adv_acc(model, test_loader, nn.CrossEntropyLoss(), pgd, params)\n",
    "pd_adv.append(acc_adver)\n",
    "\n",
    "print(f\"clean accuracy: {acc_clean}\")\n",
    "for a, p in zip(acc_adver, params):\n",
    "    print(f\"{p['name']}: {a}\")"
   ]
  },
  {
   "cell_type": "code",
   "execution_count": 11,
   "metadata": {},
   "outputs": [
    {
     "data": {
      "text/html": [
       "<div>\n",
       "<style scoped>\n",
       "    .dataframe tbody tr th:only-of-type {\n",
       "        vertical-align: middle;\n",
       "    }\n",
       "\n",
       "    .dataframe tbody tr th {\n",
       "        vertical-align: top;\n",
       "    }\n",
       "\n",
       "    .dataframe thead th {\n",
       "        text-align: right;\n",
       "    }\n",
       "</style>\n",
       "<table border=\"1\" class=\"dataframe\">\n",
       "  <thead>\n",
       "    <tr style=\"text-align: right;\">\n",
       "      <th></th>\n",
       "      <th>model</th>\n",
       "      <th>clean img accuracy</th>\n",
       "      <th>eps=8,a=2,i=10</th>\n",
       "      <th>eps=4,a=2,i=10</th>\n",
       "    </tr>\n",
       "  </thead>\n",
       "  <tbody>\n",
       "    <tr>\n",
       "      <th>0</th>\n",
       "      <td>ResNet</td>\n",
       "      <td>0.9226</td>\n",
       "      <td>0.0020</td>\n",
       "      <td>0.0991</td>\n",
       "    </tr>\n",
       "    <tr>\n",
       "      <th>1</th>\n",
       "      <td>SparseResNet</td>\n",
       "      <td>0.9037</td>\n",
       "      <td>0.3083</td>\n",
       "      <td>0.5418</td>\n",
       "    </tr>\n",
       "  </tbody>\n",
       "</table>\n",
       "</div>"
      ],
      "text/plain": [
       "          model  clean img accuracy  eps=8,a=2,i=10  eps=4,a=2,i=10\n",
       "0        ResNet              0.9226          0.0020          0.0991\n",
       "1  SparseResNet              0.9037          0.3083          0.5418"
      ]
     },
     "execution_count": 11,
     "metadata": {},
     "output_type": "execute_result"
    }
   ],
   "source": [
    "d = {\n",
    "    'model': models[:2], \n",
    "    'clean img accuracy': pd_clean, \n",
    "}\n",
    "pd_adv = np.array(pd_adv)\n",
    "for p in params:\n",
    "    d[p[\"name\"]] = pd_adv[:, p[\"id\"]]\n",
    "    \n",
    "df = pd.DataFrame(data=d)\n",
    "df"
   ]
  },
  {
   "cell_type": "markdown",
   "metadata": {},
   "source": [
    "### Clean Images\n",
    "\n",
    "- both models, ResNet and his sparse version has high accuracy on clean image, which was over 90%\n",
    "\n",
    "### White Box Attack\n",
    "\n",
    "- model **ResNet**\n",
    "    - attack pgd (epsilon=8/255) lowered accuracy to about 0.2%\n",
    "    - attack pgd (epsilon=4/255) lowered accuracy to about 1%\n",
    "    \n",
    " \n",
    "- model **SparseResNet**\n",
    "    - attack pgd (epsilon=8/255) lowered accuracy to about 30%\n",
    "    - attack pgd (epsilon=4/255) lowered accuracy to about 54%\n",
    "    \n",
    "    \n",
    "#### As we can see sparse version of ResNet done a great job, so let see what happens when on adversarial training"
   ]
  },
  {
   "cell_type": "markdown",
   "metadata": {},
   "source": [
    "# Adversarial trained models\n",
    "\n",
    "### attack pgd wth params:\n",
    "- epsilon = 8/255\n",
    "- alpha = 2/255\n",
    "- num_iter = 10"
   ]
  },
  {
   "cell_type": "code",
   "execution_count": 12,
   "metadata": {},
   "outputs": [],
   "source": [
    "pd_clean, pd_adv = [], []"
   ]
  },
  {
   "cell_type": "markdown",
   "metadata": {},
   "source": [
    "**Robust ResNet**"
   ]
  },
  {
   "cell_type": "code",
   "execution_count": 13,
   "metadata": {},
   "outputs": [
    {
     "data": {
      "text/plain": [
       "<All keys matched successfully>"
      ]
     },
     "execution_count": 13,
     "metadata": {},
     "output_type": "execute_result"
    }
   ],
   "source": [
    "model = ResNet().to(device)\n",
    "model.load_state_dict(torch.load(\"../saved/resnet_robust_eps8.pt\", map_location=device))"
   ]
  },
  {
   "cell_type": "code",
   "execution_count": 14,
   "metadata": {},
   "outputs": [
    {
     "name": "stdout",
     "output_type": "stream",
     "text": [
      "clean accuracy: 0.729\n",
      "eps=8,a=2,i=10: 0.4411\n",
      "eps=4,a=2,i=10: 0.5959\n"
     ]
    }
   ],
   "source": [
    "acc_clean = clean_acc(model, test_loader)\n",
    "pd_clean.append(acc_clean)\n",
    "\n",
    "acc_adver = adv_acc(model, test_loader, nn.CrossEntropyLoss(), pgd, params)\n",
    "pd_adv.append(acc_adver)\n",
    "\n",
    "print(f\"clean accuracy: {acc_clean}\")\n",
    "for a, p in zip(acc_adver, params):\n",
    "    print(f\"{p['name']}: {a}\")"
   ]
  },
  {
   "cell_type": "markdown",
   "metadata": {},
   "source": [
    "**Robust SparseResNet**"
   ]
  },
  {
   "cell_type": "code",
   "execution_count": 15,
   "metadata": {},
   "outputs": [
    {
     "data": {
      "text/plain": [
       "<All keys matched successfully>"
      ]
     },
     "execution_count": 15,
     "metadata": {},
     "output_type": "execute_result"
    }
   ],
   "source": [
    "model = SparseResNet().to(device)\n",
    "model.load_state_dict(torch.load(\"../saved/sparse_resnet_robust_eps8.pt\", map_location=device))"
   ]
  },
  {
   "cell_type": "code",
   "execution_count": 16,
   "metadata": {},
   "outputs": [
    {
     "name": "stdout",
     "output_type": "stream",
     "text": [
      "clean accuracy: 0.7441\n",
      "eps=8,a=2,i=10: 0.7108\n",
      "eps=4,a=2,i=10: 0.743\n"
     ]
    }
   ],
   "source": [
    "acc_clean = clean_acc(model, test_loader)\n",
    "pd_clean.append(acc_clean)\n",
    "\n",
    "acc_adver = adv_acc(model, test_loader, nn.CrossEntropyLoss(), pgd, params)\n",
    "pd_adv.append(acc_adver)\n",
    "\n",
    "print(f\"clean accuracy: {acc_clean}\")\n",
    "for a, p in zip(acc_adver, params):\n",
    "    print(f\"{p['name']}: {a}\")"
   ]
  },
  {
   "cell_type": "code",
   "execution_count": 17,
   "metadata": {},
   "outputs": [
    {
     "data": {
      "text/html": [
       "<div>\n",
       "<style scoped>\n",
       "    .dataframe tbody tr th:only-of-type {\n",
       "        vertical-align: middle;\n",
       "    }\n",
       "\n",
       "    .dataframe tbody tr th {\n",
       "        vertical-align: top;\n",
       "    }\n",
       "\n",
       "    .dataframe thead th {\n",
       "        text-align: right;\n",
       "    }\n",
       "</style>\n",
       "<table border=\"1\" class=\"dataframe\">\n",
       "  <thead>\n",
       "    <tr style=\"text-align: right;\">\n",
       "      <th></th>\n",
       "      <th>model</th>\n",
       "      <th>clean img accuracy</th>\n",
       "      <th>eps=8,a=2,i=10</th>\n",
       "      <th>eps=4,a=2,i=10</th>\n",
       "    </tr>\n",
       "  </thead>\n",
       "  <tbody>\n",
       "    <tr>\n",
       "      <th>0</th>\n",
       "      <td>Robust ResNet</td>\n",
       "      <td>0.7290</td>\n",
       "      <td>0.4411</td>\n",
       "      <td>0.5959</td>\n",
       "    </tr>\n",
       "    <tr>\n",
       "      <th>1</th>\n",
       "      <td>Robust SparseResNet</td>\n",
       "      <td>0.7441</td>\n",
       "      <td>0.7108</td>\n",
       "      <td>0.7430</td>\n",
       "    </tr>\n",
       "  </tbody>\n",
       "</table>\n",
       "</div>"
      ],
      "text/plain": [
       "                 model  clean img accuracy  eps=8,a=2,i=10  eps=4,a=2,i=10\n",
       "0        Robust ResNet              0.7290          0.4411          0.5959\n",
       "1  Robust SparseResNet              0.7441          0.7108          0.7430"
      ]
     },
     "execution_count": 17,
     "metadata": {},
     "output_type": "execute_result"
    }
   ],
   "source": [
    "d = {\n",
    "    'model': models[2:4], \n",
    "    'clean img accuracy': pd_clean, \n",
    "}\n",
    "pd_adv = np.array(pd_adv)\n",
    "for p in params:\n",
    "    d[p[\"name\"]] = pd_adv[:, p[\"id\"]]\n",
    "    \n",
    "df1 = pd.DataFrame(data=d)\n",
    "df1"
   ]
  },
  {
   "cell_type": "markdown",
   "metadata": {},
   "source": [
    "- models were trained adversarialy with attack pgd with params (epsilon=8/255, alpha=2/255, iter=10)\n",
    "\n",
    "### Clean Images\n",
    "\n",
    "- Adversarial training gave accuracy over 70% in both case\n",
    "\n",
    "### White Box Attack\n",
    "\n",
    "- model **ResNet**\n",
    "    - attack pgd (epsilon=8/255) lowered accuracy to about 44%\n",
    "    - attack pgd (epsilon=4/255) lowered accuracy to about 59%\n",
    "\n",
    "\n",
    "- model **SparseResNet**\n",
    "    - attack pgd (epsilon=8/255) lowered accuracy to about 71%\n",
    "    - attack pgd (epsilon=4/255) lowered accuracy to about 74%\n"
   ]
  },
  {
   "cell_type": "markdown",
   "metadata": {},
   "source": [
    "# Adversarial trained models\n",
    "### attack pgd with params\n",
    "- epsilon = 4/255\n",
    "- alpha = 2/255\n",
    "- num_iter = 10"
   ]
  },
  {
   "cell_type": "code",
   "execution_count": 18,
   "metadata": {},
   "outputs": [],
   "source": [
    "pd_clean, pd_adv = [], []"
   ]
  },
  {
   "cell_type": "markdown",
   "metadata": {},
   "source": [
    "**Robust ResNet**"
   ]
  },
  {
   "cell_type": "code",
   "execution_count": 19,
   "metadata": {},
   "outputs": [
    {
     "data": {
      "text/plain": [
       "<All keys matched successfully>"
      ]
     },
     "execution_count": 19,
     "metadata": {},
     "output_type": "execute_result"
    }
   ],
   "source": [
    "model = ResNet().to(device)\n",
    "model.load_state_dict(torch.load(\"../saved/resnet_robust_eps4.pt\", map_location=device))"
   ]
  },
  {
   "cell_type": "code",
   "execution_count": 20,
   "metadata": {},
   "outputs": [
    {
     "name": "stdout",
     "output_type": "stream",
     "text": [
      "clean accuracy: 0.8227\n",
      "eps=8,a=2,i=10: 0.3617\n",
      "eps=4,a=2,i=10: 0.6169\n"
     ]
    }
   ],
   "source": [
    "acc_clean = clean_acc(model, test_loader)\n",
    "pd_clean.append(acc_clean)\n",
    "\n",
    "acc_adver = adv_acc(model, test_loader, nn.CrossEntropyLoss(), pgd, params)\n",
    "pd_adv.append(acc_adver)\n",
    "\n",
    "print(f\"clean accuracy: {acc_clean}\")\n",
    "for a, p in zip(acc_adver, params):\n",
    "    print(f\"{p['name']}: {a}\")"
   ]
  },
  {
   "cell_type": "markdown",
   "metadata": {},
   "source": [
    "**Robust SparseResNet**"
   ]
  },
  {
   "cell_type": "code",
   "execution_count": 21,
   "metadata": {},
   "outputs": [
    {
     "data": {
      "text/plain": [
       "<All keys matched successfully>"
      ]
     },
     "execution_count": 21,
     "metadata": {},
     "output_type": "execute_result"
    }
   ],
   "source": [
    "model = SparseResNet().to(device)\n",
    "model.load_state_dict(torch.load(\"../saved/sparse_resnet_robust_eps4.pt\", map_location=device))"
   ]
  },
  {
   "cell_type": "code",
   "execution_count": 22,
   "metadata": {},
   "outputs": [
    {
     "name": "stdout",
     "output_type": "stream",
     "text": [
      "clean accuracy: 0.8318\n",
      "eps=8,a=2,i=10: 0.5817\n",
      "eps=4,a=2,i=10: 0.7176\n"
     ]
    }
   ],
   "source": [
    "acc_clean = clean_acc(model, test_loader)\n",
    "pd_clean.append(acc_clean)\n",
    "\n",
    "acc_adver = adv_acc(model, test_loader, nn.CrossEntropyLoss(), pgd, params)\n",
    "pd_adv.append(acc_adver)\n",
    "\n",
    "print(f\"clean accuracy: {acc_clean}\")\n",
    "for a, p in zip(acc_adver, params):\n",
    "    print(f\"{p['name']}: {a}\")"
   ]
  },
  {
   "cell_type": "code",
   "execution_count": 23,
   "metadata": {},
   "outputs": [
    {
     "data": {
      "text/html": [
       "<div>\n",
       "<style scoped>\n",
       "    .dataframe tbody tr th:only-of-type {\n",
       "        vertical-align: middle;\n",
       "    }\n",
       "\n",
       "    .dataframe tbody tr th {\n",
       "        vertical-align: top;\n",
       "    }\n",
       "\n",
       "    .dataframe thead th {\n",
       "        text-align: right;\n",
       "    }\n",
       "</style>\n",
       "<table border=\"1\" class=\"dataframe\">\n",
       "  <thead>\n",
       "    <tr style=\"text-align: right;\">\n",
       "      <th></th>\n",
       "      <th>model</th>\n",
       "      <th>clean img accuracy</th>\n",
       "      <th>eps=8,a=2,i=10</th>\n",
       "      <th>eps=4,a=2,i=10</th>\n",
       "    </tr>\n",
       "  </thead>\n",
       "  <tbody>\n",
       "    <tr>\n",
       "      <th>0</th>\n",
       "      <td>Robust ResNet</td>\n",
       "      <td>0.8227</td>\n",
       "      <td>0.3617</td>\n",
       "      <td>0.6169</td>\n",
       "    </tr>\n",
       "    <tr>\n",
       "      <th>1</th>\n",
       "      <td>Robust SparseResNet</td>\n",
       "      <td>0.8318</td>\n",
       "      <td>0.5817</td>\n",
       "      <td>0.7176</td>\n",
       "    </tr>\n",
       "  </tbody>\n",
       "</table>\n",
       "</div>"
      ],
      "text/plain": [
       "                 model  clean img accuracy  eps=8,a=2,i=10  eps=4,a=2,i=10\n",
       "0        Robust ResNet              0.8227          0.3617          0.6169\n",
       "1  Robust SparseResNet              0.8318          0.5817          0.7176"
      ]
     },
     "execution_count": 23,
     "metadata": {},
     "output_type": "execute_result"
    }
   ],
   "source": [
    "d = {\n",
    "    'model': models[2:4], \n",
    "    'clean img accuracy': pd_clean, \n",
    "}\n",
    "pd_adv = np.array(pd_adv)\n",
    "for p in params:\n",
    "    d[p[\"name\"]] = pd_adv[:, p[\"id\"]]\n",
    "    \n",
    "df2 = pd.DataFrame(data=d)\n",
    "df2"
   ]
  },
  {
   "cell_type": "markdown",
   "metadata": {},
   "source": [
    "- models were trained adversarialy with attack pgd with params (epsilon=4/255, alpha=2/255, iter=10)\n",
    "\n",
    "### Clean Images\n",
    "\n",
    "- Adversarial training gave accuracy over 83% in both case\n",
    "\n",
    "### White Box Attack\n",
    "\n",
    "- model **ResNet**\n",
    "    - attack pgd (epsilon=8/255) lowered accuracy to about 36%\n",
    "    - attack pgd (epsilon=4/255) lowered accuracy to about 61%\n",
    "\n",
    "\n",
    "- model **SparseResNet**\n",
    "    - attack pgd (epsilon=8/255) lowered accuracy to about 58%\n",
    "    - attack pgd (epsilon=4/255) lowered accuracy to about 71%\n"
   ]
  },
  {
   "cell_type": "markdown",
   "metadata": {},
   "source": [
    "# Models with activation function FlattenReLU\n",
    "- ResNet\n",
    "    - 8 convolutional layers\n",
    "        - ReLU after all layers\n",
    "    - 5 linear layers\n",
    "        - **FalttenReLU** after all layers\n",
    "- SparseResNet\n",
    "    - 8 convolutional layers\n",
    "        - with KWiners2d actiation where k set to 10%\n",
    "    - 5 sparse linear layers, only 10% connections is active\n",
    "        - **FalttenReLU** after all layers"
   ]
  },
  {
   "cell_type": "code",
   "execution_count": 24,
   "metadata": {},
   "outputs": [],
   "source": [
    "pd_clean, pd_adv = [], []"
   ]
  },
  {
   "cell_type": "code",
   "execution_count": 25,
   "metadata": {},
   "outputs": [
    {
     "data": {
      "text/plain": [
       "<All keys matched successfully>"
      ]
     },
     "execution_count": 25,
     "metadata": {},
     "output_type": "execute_result"
    }
   ],
   "source": [
    "model = FResNet().to(device)\n",
    "model.load_state_dict(torch.load(\"../saved/resnet_FReLU.pt\", map_location=device))"
   ]
  },
  {
   "cell_type": "code",
   "execution_count": 26,
   "metadata": {},
   "outputs": [
    {
     "name": "stdout",
     "output_type": "stream",
     "text": [
      "clean accuracy: 0.9016\n",
      "eps=8,a=2,i=10: 0.0059\n",
      "eps=4,a=2,i=10: 0.1597\n"
     ]
    }
   ],
   "source": [
    "acc_clean = clean_acc(model, test_loader)\n",
    "pd_clean.append(acc_clean)\n",
    "\n",
    "acc_adver = adv_acc(model, test_loader, nn.CrossEntropyLoss(), pgd, params)\n",
    "pd_adv.append(acc_adver)\n",
    "\n",
    "print(f\"clean accuracy: {acc_clean}\")\n",
    "for a, p in zip(acc_adver, params):\n",
    "    print(f\"{p['name']}: {a}\")"
   ]
  },
  {
   "cell_type": "code",
   "execution_count": 27,
   "metadata": {},
   "outputs": [
    {
     "data": {
      "text/plain": [
       "<All keys matched successfully>"
      ]
     },
     "execution_count": 27,
     "metadata": {},
     "output_type": "execute_result"
    }
   ],
   "source": [
    "model = FSparseResNet().to(device)\n",
    "model.load_state_dict(torch.load(\"../saved/sparse_resnet_FReLU.pt\", map_location=device))"
   ]
  },
  {
   "cell_type": "code",
   "execution_count": 28,
   "metadata": {},
   "outputs": [
    {
     "name": "stdout",
     "output_type": "stream",
     "text": [
      "clean accuracy: 0.8516\n",
      "eps=8,a=2,i=10: 0.4364\n",
      "eps=4,a=2,i=10: 0.5583\n"
     ]
    }
   ],
   "source": [
    "acc_clean = clean_acc(model, test_loader)\n",
    "pd_clean.append(acc_clean)\n",
    "\n",
    "acc_adver = adv_acc(model, test_loader, nn.CrossEntropyLoss(), pgd, params)\n",
    "pd_adv.append(acc_adver)\n",
    "\n",
    "print(f\"clean accuracy: {acc_clean}\")\n",
    "for a, p in zip(acc_adver, params):\n",
    "    print(f\"{p['name']}: {a}\")"
   ]
  },
  {
   "cell_type": "code",
   "execution_count": 29,
   "metadata": {},
   "outputs": [
    {
     "data": {
      "text/html": [
       "<div>\n",
       "<style scoped>\n",
       "    .dataframe tbody tr th:only-of-type {\n",
       "        vertical-align: middle;\n",
       "    }\n",
       "\n",
       "    .dataframe tbody tr th {\n",
       "        vertical-align: top;\n",
       "    }\n",
       "\n",
       "    .dataframe thead th {\n",
       "        text-align: right;\n",
       "    }\n",
       "</style>\n",
       "<table border=\"1\" class=\"dataframe\">\n",
       "  <thead>\n",
       "    <tr style=\"text-align: right;\">\n",
       "      <th></th>\n",
       "      <th>model</th>\n",
       "      <th>clean img accuracy</th>\n",
       "      <th>eps=8,a=2,i=10</th>\n",
       "      <th>eps=4,a=2,i=10</th>\n",
       "    </tr>\n",
       "  </thead>\n",
       "  <tbody>\n",
       "    <tr>\n",
       "      <th>0</th>\n",
       "      <td>ResNet_FReLU</td>\n",
       "      <td>0.9016</td>\n",
       "      <td>0.0059</td>\n",
       "      <td>0.1597</td>\n",
       "    </tr>\n",
       "    <tr>\n",
       "      <th>1</th>\n",
       "      <td>SparseResNet_FReLU</td>\n",
       "      <td>0.8516</td>\n",
       "      <td>0.4364</td>\n",
       "      <td>0.5583</td>\n",
       "    </tr>\n",
       "  </tbody>\n",
       "</table>\n",
       "</div>"
      ],
      "text/plain": [
       "                model  clean img accuracy  eps=8,a=2,i=10  eps=4,a=2,i=10\n",
       "0        ResNet_FReLU              0.9016          0.0059          0.1597\n",
       "1  SparseResNet_FReLU              0.8516          0.4364          0.5583"
      ]
     },
     "execution_count": 29,
     "metadata": {},
     "output_type": "execute_result"
    }
   ],
   "source": [
    "d = {\n",
    "    'model': models[4:], \n",
    "    'clean img accuracy': pd_clean, \n",
    "}\n",
    "pd_adv = np.array(pd_adv)\n",
    "for p in params:\n",
    "    d[p[\"name\"]] = pd_adv[:, p[\"id\"]]\n",
    "    \n",
    "df3 = pd.DataFrame(data=d)\n",
    "df3"
   ]
  },
  {
   "cell_type": "markdown",
   "metadata": {},
   "source": [
    "### Clean Images\n",
    "\n",
    "- Adversarial training gave accuracy over 85% in both case\n",
    "\n",
    "### White Box Attack\n",
    "\n",
    "- model **ResNet**\n",
    "    - attack pgd (epsilon=8/255) lowered accuracy to about 0.5%\n",
    "    - attack pgd (epsilon=4/255) lowered accuracy to about 15%\n",
    "\n",
    "\n",
    "- model **SparseResNet**\n",
    "    - attack pgd (epsilon=8/255) lowered accuracy to about 43%\n",
    "    - attack pgd (epsilon=4/255) lowered accuracy to about 55%\n"
   ]
  },
  {
   "cell_type": "code",
   "execution_count": null,
   "metadata": {},
   "outputs": [],
   "source": []
  }
 ],
 "metadata": {
  "kernelspec": {
   "display_name": "Python 3",
   "language": "python",
   "name": "python3"
  },
  "language_info": {
   "codemirror_mode": {
    "name": "ipython",
    "version": 3
   },
   "file_extension": ".py",
   "mimetype": "text/x-python",
   "name": "python",
   "nbconvert_exporter": "python",
   "pygments_lexer": "ipython3",
   "version": "3.7.9"
  }
 },
 "nbformat": 4,
 "nbformat_minor": 1
}
