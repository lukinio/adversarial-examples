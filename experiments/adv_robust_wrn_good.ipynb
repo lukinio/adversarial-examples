{
 "cells": [
  {
   "cell_type": "markdown",
   "metadata": {},
   "source": [
    "# Notebook contains summary of adversarial robustness of different model"
   ]
  },
  {
   "cell_type": "code",
   "execution_count": 1,
   "metadata": {},
   "outputs": [],
   "source": [
    "import sys\n",
    "import os\n",
    "os.environ[\"CUDA_VISIBLE_DEVICES\"]=\"0\"\n",
    "d = os.path.dirname(os.getcwd())\n",
    "sys.path.insert(0, d)"
   ]
  },
  {
   "cell_type": "code",
   "execution_count": 2,
   "metadata": {
    "scrolled": false
   },
   "outputs": [
    {
     "name": "stdout",
     "output_type": "stream",
     "text": [
      "1.7.0\n",
      "True\n"
     ]
    }
   ],
   "source": [
    "from datetime import datetime as dt\n",
    "import torch\n",
    "print(torch.__version__)\n",
    "print(torch.cuda.is_available())\n",
    "\n",
    "import torch.nn as nn\n",
    "import torch.nn.functional as F\n",
    "from torch import optim\n",
    "\n",
    "import torchvision\n",
    "from torchvision.datasets import CIFAR10\n",
    "from torchvision.transforms import transforms\n",
    "\n",
    "from torch.utils.data import DataLoader\n",
    "\n",
    "import numpy as np\n",
    "import pandas as pd\n",
    "from matplotlib import pyplot as plt\n",
    "\n",
    "from utils.attacks import fgsm, pgd\n",
    "from utils.utils import plot_images\n",
    "from models.resnet import ResNet, SparseResNet\n",
    "from models.wide_resnet import WideResNet, SparseWideResNet"
   ]
  },
  {
   "cell_type": "code",
   "execution_count": 3,
   "metadata": {},
   "outputs": [],
   "source": [
    "from datetime import datetime as dt\n",
    "\n",
    "def clean_acc(model, loader):\n",
    "    clean_correct = 0.\n",
    "    model.eval()\n",
    "    with torch.no_grad():\n",
    "        for k, (X, y) in enumerate(loader, 1):\n",
    "            start = dt.now().replace(microsecond=0)\n",
    "            X, y = X.to(device), y.to(device)  \n",
    "            clean_correct += (model(X).argmax(dim=1) == y).sum().item()\n",
    "            end = dt.now().replace(microsecond=0)\n",
    "            print(f\"iter: {k}/{len(loader)} time: {end-start}\", end=\"\\r\")\n",
    "        print(\" \" * 50, end=\"\\r\")\n",
    "        acc = round(clean_correct / len(loader.dataset), 4)\n",
    "        print(f\"clean accuracy: {acc}\")\n",
    "    return acc\n",
    "\n",
    "def adv_acc(model, loader, loss_fn, attack, attack_params):\n",
    "    model.eval()\n",
    "    adv_correct = [0] * len(attack_params)\n",
    "    for i, (name, params) in enumerate(attack_params):\n",
    "        for k, (X, y) in enumerate(loader, 1):\n",
    "            start = dt.now().replace(microsecond=0)\n",
    "            X, y = X.to(device), y.to(device)\n",
    "            noise = attack(model, X, y, loss_fn, **params) \n",
    "            adv_correct[i] += (model(X+noise).argmax(dim=1) == y).sum().item()\n",
    "            end = dt.now().replace(microsecond=0)\n",
    "            print(f\"iter: {k}/{len(loader)} time: {end-start}\", end=\"\\r\")\n",
    "        print(\" \" * 50, end=\"\\r\")\n",
    "        print(f\"name: {name} accuracy: {(adv_correct[i] / len(loader.dataset)):.4f}\")\n",
    "    return [round(a/len(loader.dataset), 4) for a in adv_correct]\n",
    "\n",
    "\n",
    "def clean_acc_bad(model, loader):\n",
    "    clean_correct = 0.\n",
    "#     model.eval()\n",
    "    with torch.no_grad():\n",
    "        for k, (X, y) in enumerate(loader, 1):\n",
    "            start = dt.now().replace(microsecond=0)\n",
    "            X, y = X.to(device), y.to(device)  \n",
    "            clean_correct += (model(X).argmax(dim=1) == y).sum().item()\n",
    "            end = dt.now().replace(microsecond=0)\n",
    "            print(f\"iter: {k}/{len(loader)} time: {end-start}\", end=\"\\r\")\n",
    "        print(\" \" * 50, end=\"\\r\")\n",
    "        acc = round(clean_correct / len(loader.dataset), 4)\n",
    "        print(f\"clean accuracy: {acc}\")\n",
    "    return acc\n",
    "\n",
    "def adv_acc_bad(model, loader, loss_fn, attack_method, attack_params):\n",
    "#     model.eval()\n",
    "    adv_correct = [0] * len(attack_params)\n",
    "    for k, (X, y) in enumerate(loader, 1):\n",
    "        start = dt.now().replace(microsecond=0)\n",
    "        X, y = X.to(device), y.to(device)\n",
    "        for i, p in enumerate(attack_params):\n",
    "            noise = attack_method(model, X, y, loss_fn, epsilon=p[\"epsilon\"], \n",
    "                                  alpha=p[\"alpha\"], num_iter=p[\"num_iter\"])\n",
    "            adv_correct[i] += (model(X+noise).max(dim=1)[1] == y).sum().item()\n",
    "        end = dt.now().replace(microsecond=0)\n",
    "        print(f\"iter: {k}/{len(loader)} time: {end-start}\", end=\"\\r\")\n",
    "    print(\" \" * 50, end=\"\\r\")\n",
    "    acc = [round(a/len(loader.dataset), 4) for a in adv_correct]\n",
    "    print(acc)\n",
    "    return acc\n",
    "\n",
    "def print_table(models, attacks, clean, adv):\n",
    "    d = {'model': models, 'clean image': clean}\n",
    "    for i, (name, p) in enumerate(attacks):\n",
    "        d[name] = [adv[j][i] for j, _ in enumerate(adv)]\n",
    "\n",
    "    return pd.DataFrame(data=d)"
   ]
  },
  {
   "cell_type": "code",
   "execution_count": 4,
   "metadata": {},
   "outputs": [
    {
     "name": "stdout",
     "output_type": "stream",
     "text": [
      "cuda\n"
     ]
    }
   ],
   "source": [
    "device = torch.device(\"cuda\") if torch.cuda.is_available() else torch.device(\"cpu\")\n",
    "print(device)"
   ]
  },
  {
   "cell_type": "code",
   "execution_count": 6,
   "metadata": {},
   "outputs": [
    {
     "name": "stdout",
     "output_type": "stream",
     "text": [
      "Files already downloaded and verified\n"
     ]
    }
   ],
   "source": [
    "test_transform = transforms.Compose([\n",
    "    transforms.ToTensor(),\n",
    "])\n",
    "\n",
    "ds = CIFAR10('../data', train=False, target_transform=None, download=True, transform=test_transform)\n",
    "test_loader = DataLoader(ds, 50, shuffle=True)"
   ]
  },
  {
   "cell_type": "code",
   "execution_count": 7,
   "metadata": {},
   "outputs": [],
   "source": [
    "attack1 = {\n",
    "    \"epsilon\": 8/255,\n",
    "    \"alpha\": 2/255,\n",
    "    \"num_iter\": 20\n",
    "}\n",
    "\n",
    "attack2 = {\n",
    "    \"epsilon\": 4/255,\n",
    "    \"alpha\": 2/255,\n",
    "    \"num_iter\": 20\n",
    "}\n",
    "\n",
    "attack3 = {\n",
    "    \"epsilon\": 8/255,\n",
    "    \"alpha\": 2/255,\n",
    "    \"num_iter\": 40\n",
    "}\n",
    "\n",
    "attack4 = {\n",
    "    \"epsilon\": 4/255,\n",
    "    \"alpha\": 2/255,\n",
    "    \"num_iter\": 40\n",
    "}\n",
    "\n",
    "attack1 = (\"eps=8,a=2,i=20\", attack1)\n",
    "attack2 = (\"eps=4,a=2,i=20\", attack2)\n",
    "attack3 = (\"eps=8,a=2,i=40\", attack3)\n",
    "attack4 = (\"eps=4,a=2,i=40\", attack4)\n",
    "\n",
    "params20 = [attack1, attack2]\n",
    "params40 = [attack3, attack4]"
   ]
  },
  {
   "cell_type": "markdown",
   "metadata": {},
   "source": [
    "## Bad"
   ]
  },
  {
   "cell_type": "code",
   "execution_count": 9,
   "metadata": {},
   "outputs": [
    {
     "name": "stdout",
     "output_type": "stream",
     "text": [
      "clean accuracy: 0.9022                            \n",
      "[0.3914]                                          \n"
     ]
    }
   ],
   "source": [
    "# Bez model.eval()\n",
    "model = SparseWideResNet(depth=28, widen_factor=10, k_winners=0.1, local=True).to(device)\n",
    "model.load_state_dict(torch.load(\"../saved/sparse_wide_resnet_bad.pt\", map_location=device))\n",
    "\n",
    "attack1s = {\n",
    "    \"id\": 0,\n",
    "    \"name\": \"eps=8,a=2,i=20\",\n",
    "    \"epsilon\": 8/255,\n",
    "    \"alpha\": 2/255,\n",
    "    \"num_iter\": 20\n",
    "}\n",
    "\n",
    "acc = clean_acc_bad(model, test_loader)\n",
    "acc_adv = adv_acc_bad(model, test_loader, nn.CrossEntropyLoss(), pgd, [attack1s])"
   ]
  },
  {
   "cell_type": "code",
   "execution_count": 14,
   "metadata": {},
   "outputs": [
    {
     "name": "stdout",
     "output_type": "stream",
     "text": [
      "clean accuracy: 0.7375                            \n",
      "name: eps=8,a=2,i=20 accuracy: 0.0054             \n"
     ]
    }
   ],
   "source": [
    "# z model.eval()\n",
    "model = SparseWideResNet(depth=28, widen_factor=10, k_winners=0.1, local=True).to(device)\n",
    "model.load_state_dict(torch.load(\"../saved/sparse_wide_resnet_bad.pt\", map_location=device))\n",
    "\n",
    "acc = clean_acc(model, test_loader)\n",
    "acc_adv = adv_acc(model, test_loader, nn.CrossEntropyLoss(), pgd, [attack1])"
   ]
  },
  {
   "cell_type": "code",
   "execution_count": null,
   "metadata": {},
   "outputs": [],
   "source": []
  },
  {
   "cell_type": "code",
   "execution_count": null,
   "metadata": {},
   "outputs": [],
   "source": []
  },
  {
   "cell_type": "code",
   "execution_count": 8,
   "metadata": {},
   "outputs": [],
   "source": [
    "clean20, adv20 = [], []"
   ]
  },
  {
   "cell_type": "code",
   "execution_count": 9,
   "metadata": {},
   "outputs": [
    {
     "name": "stdout",
     "output_type": "stream",
     "text": [
      "clean accuracy: 0.8592                            \n",
      "name: eps=8,a=2,i=20 accuracy: 0.0047             \n",
      "name: eps=4,a=2,i=20 accuracy: 0.1093             \n"
     ]
    }
   ],
   "source": [
    "torch.cuda.empty_cache()\n",
    "model = SparseWideResNet(depth=28, widen_factor=10, k_winners=0.1, local=False).to(device)\n",
    "model.load_state_dict(torch.load(\"../saved/sparse_wide_resnet.pt\", map_location=device))\n",
    "\n",
    "acc = clean_acc(model, test_loader)\n",
    "acc_adv = adv_acc(model, test_loader, nn.CrossEntropyLoss(), pgd, params20)\n",
    "\n",
    "clean20.append(acc)\n",
    "adv20.append(acc_adv)"
   ]
  },
  {
   "cell_type": "code",
   "execution_count": 11,
   "metadata": {},
   "outputs": [
    {
     "name": "stdout",
     "output_type": "stream",
     "text": [
      "clean accuracy: 0.896                             \n",
      "name: eps=8,a=2,i=20 accuracy: 0.0000             \n",
      "name: eps=4,a=2,i=20 accuracy: 0.0021             \n"
     ]
    }
   ],
   "source": [
    "torch.cuda.empty_cache()\n",
    "model = SparseWideResNet(depth=28, widen_factor=10, k_winners=0.1, local=False).to(device)\n",
    "model.load_state_dict(torch.load(\"../saved/sparse_wide_resnet_sgd_global.pt\", map_location=device))\n",
    "\n",
    "acc = clean_acc(model, test_loader)\n",
    "acc_adv = adv_acc(model, test_loader, nn.CrossEntropyLoss(), pgd, params20)\n",
    "\n",
    "clean20.append(acc)\n",
    "adv20.append(acc_adv)"
   ]
  },
  {
   "cell_type": "code",
   "execution_count": 13,
   "metadata": {},
   "outputs": [
    {
     "name": "stdout",
     "output_type": "stream",
     "text": [
      "clean accuracy: 0.9124                            \n",
      "name: eps=8,a=2,i=20 accuracy: 0.0000             \n",
      "name: eps=4,a=2,i=20 accuracy: 0.0005             \n"
     ]
    }
   ],
   "source": [
    "torch.cuda.empty_cache()\n",
    "model = SparseWideResNet(depth=28, widen_factor=10, k_winners=0.1, local=True).to(device)\n",
    "model.load_state_dict(torch.load(\"../saved/sparse_wide_resnet_sgd_local.pt\", map_location=device))\n",
    "\n",
    "acc = clean_acc(model, test_loader)\n",
    "acc_adv = adv_acc(model, test_loader, nn.CrossEntropyLoss(), pgd, params20)\n",
    "\n",
    "clean20.append(acc)\n",
    "adv20.append(acc_adv)"
   ]
  },
  {
   "cell_type": "code",
   "execution_count": 17,
   "metadata": {},
   "outputs": [
    {
     "data": {
      "text/html": [
       "<div>\n",
       "<style scoped>\n",
       "    .dataframe tbody tr th:only-of-type {\n",
       "        vertical-align: middle;\n",
       "    }\n",
       "\n",
       "    .dataframe tbody tr th {\n",
       "        vertical-align: top;\n",
       "    }\n",
       "\n",
       "    .dataframe thead th {\n",
       "        text-align: right;\n",
       "    }\n",
       "</style>\n",
       "<table border=\"1\" class=\"dataframe\">\n",
       "  <thead>\n",
       "    <tr style=\"text-align: right;\">\n",
       "      <th></th>\n",
       "      <th>model</th>\n",
       "      <th>clean image</th>\n",
       "      <th>eps=8,a=2,i=20</th>\n",
       "      <th>eps=4,a=2,i=20</th>\n",
       "    </tr>\n",
       "  </thead>\n",
       "  <tbody>\n",
       "    <tr>\n",
       "      <th>0</th>\n",
       "      <td>Sparse-WRN global KW Adam</td>\n",
       "      <td>0.8592</td>\n",
       "      <td>0.0047</td>\n",
       "      <td>0.1093</td>\n",
       "    </tr>\n",
       "    <tr>\n",
       "      <th>1</th>\n",
       "      <td>Sparse-WRN global KW SGD</td>\n",
       "      <td>0.8960</td>\n",
       "      <td>0.0000</td>\n",
       "      <td>0.0021</td>\n",
       "    </tr>\n",
       "    <tr>\n",
       "      <th>2</th>\n",
       "      <td>Sparse-WRN local KW SGD</td>\n",
       "      <td>0.9124</td>\n",
       "      <td>0.0000</td>\n",
       "      <td>0.0005</td>\n",
       "    </tr>\n",
       "  </tbody>\n",
       "</table>\n",
       "</div>"
      ],
      "text/plain": [
       "                       model  clean image  eps=8,a=2,i=20  eps=4,a=2,i=20\n",
       "0  Sparse-WRN global KW Adam       0.8592          0.0047          0.1093\n",
       "1   Sparse-WRN global KW SGD       0.8960          0.0000          0.0021\n",
       "2    Sparse-WRN local KW SGD       0.9124          0.0000          0.0005"
      ]
     },
     "execution_count": 17,
     "metadata": {},
     "output_type": "execute_result"
    }
   ],
   "source": [
    "models_names = [\n",
    "    \"Sparse-WRN global KW Adam\", \"Sparse-WRN global KW SGD\", \"Sparse-WRN local KW SGD\"\n",
    "]\n",
    "results20 = print_table(models_names, params20, clean20, adv20)\n",
    "results20"
   ]
  },
  {
   "cell_type": "code",
   "execution_count": 21,
   "metadata": {},
   "outputs": [
    {
     "name": "stdout",
     "output_type": "stream",
     "text": [
      "clean accuracy: 0.9335                            \n",
      "name: eps=8,a=2,i=20 accuracy: 0.0000             \n",
      "name: eps=4,a=2,i=20 accuracy: 0.0014             \n"
     ]
    }
   ],
   "source": [
    "torch.cuda.empty_cache()\n",
    "model = SparseWideResNet(depth=28, widen_factor=10, k_winners=0.1, local=False, boost=0.0).to(device)\n",
    "model.load_state_dict(torch.load(\"../saved/sparse_wide_resnet_sgd_no_boost.pt\", map_location=device))\n",
    "\n",
    "acc = clean_acc(model, test_loader)\n",
    "acc_adv = adv_acc(model, test_loader, nn.CrossEntropyLoss(), pgd, params20)\n",
    "\n",
    "clean20.append(acc)\n",
    "adv20.append(acc_adv)"
   ]
  },
  {
   "cell_type": "code",
   "execution_count": 23,
   "metadata": {},
   "outputs": [
    {
     "name": "stdout",
     "output_type": "stream",
     "text": [
      "clean accuracy: 0.9051                            \n",
      "name: eps=8,a=2,i=20 accuracy: 0.0000             \n",
      "name: eps=4,a=2,i=20 accuracy: 0.0021             \n"
     ]
    }
   ],
   "source": [
    "torch.cuda.empty_cache()\n",
    "model = SparseWideResNet(depth=28, widen_factor=10, k_winners=0.1, local=False, boost=0.0).to(device)\n",
    "model.load_state_dict(torch.load(\"../saved/sparse_wide_resnet_sgd_no_boost_rezero.pt\", map_location=device))\n",
    "\n",
    "acc = clean_acc(model, test_loader)\n",
    "acc_adv = adv_acc(model, test_loader, nn.CrossEntropyLoss(), pgd, params20)\n",
    "\n",
    "clean20.append(acc)\n",
    "adv20.append(acc_adv)"
   ]
  },
  {
   "cell_type": "code",
   "execution_count": 24,
   "metadata": {},
   "outputs": [
    {
     "data": {
      "text/html": [
       "<div>\n",
       "<style scoped>\n",
       "    .dataframe tbody tr th:only-of-type {\n",
       "        vertical-align: middle;\n",
       "    }\n",
       "\n",
       "    .dataframe tbody tr th {\n",
       "        vertical-align: top;\n",
       "    }\n",
       "\n",
       "    .dataframe thead th {\n",
       "        text-align: right;\n",
       "    }\n",
       "</style>\n",
       "<table border=\"1\" class=\"dataframe\">\n",
       "  <thead>\n",
       "    <tr style=\"text-align: right;\">\n",
       "      <th></th>\n",
       "      <th>model</th>\n",
       "      <th>clean image</th>\n",
       "      <th>eps=8,a=2,i=20</th>\n",
       "      <th>eps=4,a=2,i=20</th>\n",
       "    </tr>\n",
       "  </thead>\n",
       "  <tbody>\n",
       "    <tr>\n",
       "      <th>0</th>\n",
       "      <td>Sparse-WRN global KW Adam</td>\n",
       "      <td>0.8592</td>\n",
       "      <td>0.0047</td>\n",
       "      <td>0.1093</td>\n",
       "    </tr>\n",
       "    <tr>\n",
       "      <th>1</th>\n",
       "      <td>Sparse-WRN global KW SGD</td>\n",
       "      <td>0.8960</td>\n",
       "      <td>0.0000</td>\n",
       "      <td>0.0021</td>\n",
       "    </tr>\n",
       "    <tr>\n",
       "      <th>2</th>\n",
       "      <td>Sparse-WRN local KW SGD</td>\n",
       "      <td>0.9124</td>\n",
       "      <td>0.0000</td>\n",
       "      <td>0.0005</td>\n",
       "    </tr>\n",
       "    <tr>\n",
       "      <th>3</th>\n",
       "      <td>Sparse-WRN global KW SGD NO BOOST</td>\n",
       "      <td>0.9335</td>\n",
       "      <td>0.0000</td>\n",
       "      <td>0.0014</td>\n",
       "    </tr>\n",
       "    <tr>\n",
       "      <th>4</th>\n",
       "      <td>Sparse-WRN global KW SGD NO BOOST NO REZERO</td>\n",
       "      <td>0.9051</td>\n",
       "      <td>0.0000</td>\n",
       "      <td>0.0021</td>\n",
       "    </tr>\n",
       "  </tbody>\n",
       "</table>\n",
       "</div>"
      ],
      "text/plain": [
       "                                         model  clean image  eps=8,a=2,i=20  \\\n",
       "0                    Sparse-WRN global KW Adam       0.8592          0.0047   \n",
       "1                     Sparse-WRN global KW SGD       0.8960          0.0000   \n",
       "2                      Sparse-WRN local KW SGD       0.9124          0.0000   \n",
       "3            Sparse-WRN global KW SGD NO BOOST       0.9335          0.0000   \n",
       "4  Sparse-WRN global KW SGD NO BOOST NO REZERO       0.9051          0.0000   \n",
       "\n",
       "   eps=4,a=2,i=20  \n",
       "0          0.1093  \n",
       "1          0.0021  \n",
       "2          0.0005  \n",
       "3          0.0014  \n",
       "4          0.0021  "
      ]
     },
     "execution_count": 24,
     "metadata": {},
     "output_type": "execute_result"
    }
   ],
   "source": [
    "models_names = [\n",
    "    \"Sparse-WRN global KW Adam\", \"Sparse-WRN global KW SGD\", \n",
    "    \"Sparse-WRN local KW SGD\", \"Sparse-WRN global KW SGD NO BOOST\",\n",
    "    \"Sparse-WRN global KW SGD NO BOOST NO REZERO\"\n",
    "]\n",
    "results20 = print_table(models_names, params20, clean20, adv20)\n",
    "results20"
   ]
  },
  {
   "cell_type": "code",
   "execution_count": null,
   "metadata": {},
   "outputs": [],
   "source": []
  }
 ],
 "metadata": {
  "kernelspec": {
   "display_name": "Python 3",
   "language": "python",
   "name": "python3"
  },
  "language_info": {
   "codemirror_mode": {
    "name": "ipython",
    "version": 3
   },
   "file_extension": ".py",
   "mimetype": "text/x-python",
   "name": "python",
   "nbconvert_exporter": "python",
   "pygments_lexer": "ipython3",
   "version": "3.8.3"
  }
 },
 "nbformat": 4,
 "nbformat_minor": 1
}
