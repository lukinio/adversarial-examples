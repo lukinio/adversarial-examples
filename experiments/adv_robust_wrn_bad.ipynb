{
 "cells": [
  {
   "cell_type": "markdown",
   "metadata": {},
   "source": [
    "# Notebook contains summary of adversarial robustness of different model"
   ]
  },
  {
   "cell_type": "code",
   "execution_count": 1,
   "metadata": {},
   "outputs": [],
   "source": [
    "import sys\n",
    "import os\n",
    "os.environ[\"CUDA_VISIBLE_DEVICES\"]=\"0\"\n",
    "d = os.path.dirname(os.getcwd())\n",
    "sys.path.insert(0, d)"
   ]
  },
  {
   "cell_type": "code",
   "execution_count": 2,
   "metadata": {
    "scrolled": false
   },
   "outputs": [
    {
     "name": "stdout",
     "output_type": "stream",
     "text": [
      "1.7.0\n",
      "True\n"
     ]
    }
   ],
   "source": [
    "from datetime import datetime as dt\n",
    "import torch\n",
    "print(torch.__version__)\n",
    "print(torch.cuda.is_available())\n",
    "\n",
    "import torch.nn as nn\n",
    "import torch.nn.functional as F\n",
    "from torch import optim\n",
    "\n",
    "import torchvision\n",
    "from torchvision.datasets import CIFAR10\n",
    "from torchvision.transforms import transforms\n",
    "\n",
    "from torch.utils.data import DataLoader\n",
    "\n",
    "import numpy as np\n",
    "import pandas as pd\n",
    "from matplotlib import pyplot as plt\n",
    "\n",
    "from utils.attacks import fgsm, pgd\n",
    "from utils.utils import plot_images\n",
    "from models.resnet import ResNet, SparseResNet\n",
    "from models.wide_resnet import WideResNet, SparseWideResNet"
   ]
  },
  {
   "cell_type": "code",
   "execution_count": 3,
   "metadata": {},
   "outputs": [
    {
     "name": "stdout",
     "output_type": "stream",
     "text": [
      "cuda\n"
     ]
    }
   ],
   "source": [
    "device = torch.device(\"cuda\") if torch.cuda.is_available() else torch.device(\"cpu\")\n",
    "print(device)"
   ]
  },
  {
   "cell_type": "code",
   "execution_count": 4,
   "metadata": {},
   "outputs": [
    {
     "name": "stdout",
     "output_type": "stream",
     "text": [
      "Files already downloaded and verified\n"
     ]
    }
   ],
   "source": [
    "test_transform = transforms.Compose([\n",
    "    transforms.ToTensor(),\n",
    "])\n",
    "\n",
    "ds = CIFAR10('../data', train=False, target_transform=None, download=True, transform=test_transform)\n",
    "test_loader = DataLoader(ds, 400, shuffle=True)"
   ]
  },
  {
   "cell_type": "code",
   "execution_count": 5,
   "metadata": {},
   "outputs": [],
   "source": [
    "def clean_acc(model, loader):\n",
    "    clean_correct = 0\n",
    "    for k, (X, y) in enumerate(loader, 1):\n",
    "        start = dt.now().replace(microsecond=0)\n",
    "        X, y = X.to(device), y.to(device)  \n",
    "        clean_correct += (model(X).max(dim=1)[1] == y).sum().item()\n",
    "        end = dt.now().replace(microsecond=0)\n",
    "        print(f\"iter: {k}/{len(loader)} time: {end-start}\", end=\"\\r\")\n",
    "    print(\" \" * 50, end=\"\\r\")\n",
    "    return round(clean_correct / len(loader.dataset), 4)\n",
    "\n",
    "def adv_acc(model, loader, loss_fn, attack_method, attack_params):\n",
    "    adv_correct = [0] * len(attack_params)\n",
    "    for k, (X, y) in enumerate(loader, 1):\n",
    "        start = dt.now().replace(microsecond=0)\n",
    "        X, y = X.to(device), y.to(device)\n",
    "        for i, p in enumerate(attack_params):\n",
    "            noise = attack_method(model, X, y, loss_fn, epsilon=p[\"epsilon\"], \n",
    "                                  alpha=p[\"alpha\"], num_iter=p[\"num_iter\"])\n",
    "            adv_correct[i] += (model(X+noise).max(dim=1)[1] == y).sum().item()\n",
    "        end = dt.now().replace(microsecond=0)\n",
    "        print(f\"iter: {k}/{len(loader)} time: {end-start}\", end=\"\\r\")\n",
    "    print(\" \" * 50, end=\"\\r\")\n",
    "    return [round(a/len(loader.dataset), 4) for a in adv_correct]"
   ]
  },
  {
   "cell_type": "code",
   "execution_count": 6,
   "metadata": {},
   "outputs": [],
   "source": [
    "attack1 = {\n",
    "    \"id\": 0,\n",
    "    \"name\": \"eps=8,a=2,i=20\",\n",
    "    \"epsilon\": 8/255,\n",
    "    \"alpha\": 2/255,\n",
    "    \"num_iter\": 20\n",
    "}\n",
    "\n",
    "attack2 = {\n",
    "    \"id\": 1,\n",
    "    \"name\": \"eps=4,a=2,i=20\",\n",
    "    \"epsilon\": 4/255,\n",
    "    \"alpha\": 2/255,\n",
    "    \"num_iter\": 20\n",
    "}\n",
    "\n",
    "\n",
    "attack3 = {\n",
    "    \"id\": 0,\n",
    "    \"name\": \"eps=8,a=2,i=40\",\n",
    "    \"epsilon\": 8/255,\n",
    "    \"alpha\": 2/255,\n",
    "    \"num_iter\": 40\n",
    "}\n",
    "\n",
    "attack4 = {\n",
    "    \"id\": 1,\n",
    "    \"name\": \"eps=4,a=2,i=40\",\n",
    "    \"epsilon\": 4/255,\n",
    "    \"alpha\": 2/255,\n",
    "    \"num_iter\": 40\n",
    "}\n",
    "\n",
    "params = [attack1, attack2]\n",
    "params2 = [attack3, attack4]\n",
    "pd_clean, pd_adv = [], []"
   ]
  },
  {
   "cell_type": "code",
   "execution_count": 8,
   "metadata": {},
   "outputs": [
    {
     "data": {
      "text/plain": [
       "<All keys matched successfully>"
      ]
     },
     "execution_count": 8,
     "metadata": {},
     "output_type": "execute_result"
    }
   ],
   "source": [
    "model = WideResNet(depth=28, widen_factor=10, dropout_rate=0.3, num_classes=10).to(device)\n",
    "model.load_state_dict(torch.load(\"../saved/wide_resnet.pt\", map_location=device))"
   ]
  },
  {
   "cell_type": "code",
   "execution_count": 9,
   "metadata": {},
   "outputs": [
    {
     "name": "stdout",
     "output_type": "stream",
     "text": [
      "clean accuracy: 0.9268                            \n",
      "eps=8,a=2,i=20: 0.0012                            \n",
      "eps=4,a=2,i=20: 0.0789\n"
     ]
    }
   ],
   "source": [
    "acc_clean = clean_acc(model, test_loader)\n",
    "pd_clean.append(acc_clean)\n",
    "print(f\"clean accuracy: {acc_clean}\")\n",
    "\n",
    "acc_adver = adv_acc(model, test_loader, nn.CrossEntropyLoss(), pgd, params)\n",
    "pd_adv.append(acc_adver)\n",
    "for a, p in zip(acc_adver, params):\n",
    "    print(f\"{p['name']}: {a}\")"
   ]
  },
  {
   "cell_type": "markdown",
   "metadata": {},
   "source": [
    "**SparseWideResNet**"
   ]
  },
  {
   "cell_type": "code",
   "execution_count": 10,
   "metadata": {},
   "outputs": [
    {
     "data": {
      "text/plain": [
       "<All keys matched successfully>"
      ]
     },
     "execution_count": 10,
     "metadata": {},
     "output_type": "execute_result"
    }
   ],
   "source": [
    "model = SparseWideResNet(depth=28, widen_factor=10, k_winners=0.1, num_classes=10).to(device)\n",
    "model.load_state_dict(torch.load(\"../saved/sparse_wide_resnet.pt\", map_location=device))"
   ]
  },
  {
   "cell_type": "code",
   "execution_count": 11,
   "metadata": {},
   "outputs": [
    {
     "name": "stdout",
     "output_type": "stream",
     "text": [
      "clean accuracy: 0.9116                            \n",
      "eps=8,a=2,i=20: 0.4014                            \n",
      "eps=4,a=2,i=20: 0.5987\n"
     ]
    }
   ],
   "source": [
    "acc_clean = clean_acc(model, test_loader)\n",
    "pd_clean.append(acc_clean)\n",
    "print(f\"clean accuracy: {acc_clean}\")\n",
    "\n",
    "acc_adver = adv_acc(model, test_loader, nn.CrossEntropyLoss(), pgd, params)\n",
    "pd_adv.append(acc_adver)\n",
    "for a, p in zip(acc_adver, params):\n",
    "    print(f\"{p['name']}: {a}\")"
   ]
  },
  {
   "cell_type": "code",
   "execution_count": 12,
   "metadata": {},
   "outputs": [
    {
     "data": {
      "text/html": [
       "<div>\n",
       "<style scoped>\n",
       "    .dataframe tbody tr th:only-of-type {\n",
       "        vertical-align: middle;\n",
       "    }\n",
       "\n",
       "    .dataframe tbody tr th {\n",
       "        vertical-align: top;\n",
       "    }\n",
       "\n",
       "    .dataframe thead th {\n",
       "        text-align: right;\n",
       "    }\n",
       "</style>\n",
       "<table border=\"1\" class=\"dataframe\">\n",
       "  <thead>\n",
       "    <tr style=\"text-align: right;\">\n",
       "      <th></th>\n",
       "      <th>model</th>\n",
       "      <th>clean img accuracy</th>\n",
       "      <th>eps=8,a=2,i=20</th>\n",
       "      <th>eps=4,a=2,i=20</th>\n",
       "    </tr>\n",
       "  </thead>\n",
       "  <tbody>\n",
       "    <tr>\n",
       "      <th>0</th>\n",
       "      <td>Wide-ResNet</td>\n",
       "      <td>0.9268</td>\n",
       "      <td>0.0012</td>\n",
       "      <td>0.0789</td>\n",
       "    </tr>\n",
       "    <tr>\n",
       "      <th>1</th>\n",
       "      <td>Sparse Wide-ResNet</td>\n",
       "      <td>0.9116</td>\n",
       "      <td>0.4014</td>\n",
       "      <td>0.5987</td>\n",
       "    </tr>\n",
       "  </tbody>\n",
       "</table>\n",
       "</div>"
      ],
      "text/plain": [
       "                model  clean img accuracy  eps=8,a=2,i=20  eps=4,a=2,i=20\n",
       "0         Wide-ResNet              0.9268          0.0012          0.0789\n",
       "1  Sparse Wide-ResNet              0.9116          0.4014          0.5987"
      ]
     },
     "execution_count": 12,
     "metadata": {},
     "output_type": "execute_result"
    }
   ],
   "source": [
    "d = {\n",
    "    'model': [\"Wide-ResNet\", \"Sparse Wide-ResNet\"], \n",
    "    'clean img accuracy': pd_clean, \n",
    "}\n",
    "pd_adv = np.array(pd_adv)\n",
    "for p in params:\n",
    "    d[p[\"name\"]] = pd_adv[:, p[\"id\"]]\n",
    "    \n",
    "df = pd.DataFrame(data=d)\n",
    "df"
   ]
  },
  {
   "cell_type": "markdown",
   "metadata": {},
   "source": [
    "### Parameter k in K-Winners"
   ]
  },
  {
   "cell_type": "code",
   "execution_count": 25,
   "metadata": {},
   "outputs": [],
   "source": [
    "pd_clean, pd_adv = [], []"
   ]
  },
  {
   "cell_type": "code",
   "execution_count": 15,
   "metadata": {},
   "outputs": [
    {
     "data": {
      "text/plain": [
       "<All keys matched successfully>"
      ]
     },
     "execution_count": 15,
     "metadata": {},
     "output_type": "execute_result"
    }
   ],
   "source": [
    "model = SparseWideResNet(depth=28, widen_factor=10, k_winners=0.2, num_classes=10).to(device)\n",
    "model.load_state_dict(torch.load(\"../saved/sparse_wide_resnet_02.pt\", map_location=device))"
   ]
  },
  {
   "cell_type": "code",
   "execution_count": null,
   "metadata": {},
   "outputs": [],
   "source": [
    "acc_clean = clean_acc(model, test_loader)\n",
    "pd_clean.append(acc_clean)\n",
    "print(f\"clean accuracy: {acc_clean}\")\n",
    "\n",
    "acc_adver = adv_acc(model, test_loader, nn.CrossEntropyLoss(), pgd, params)\n",
    "pd_adv.append(acc_adver)\n",
    "for a, p in zip(acc_adver, params):\n",
    "    print(f\"{p['name']}: {a}\")"
   ]
  },
  {
   "cell_type": "code",
   "execution_count": 27,
   "metadata": {},
   "outputs": [
    {
     "data": {
      "text/plain": [
       "<All keys matched successfully>"
      ]
     },
     "execution_count": 27,
     "metadata": {},
     "output_type": "execute_result"
    }
   ],
   "source": [
    "model = SparseWideResNet(depth=28, widen_factor=10, k_winners=0.05, num_classes=10).to(device)\n",
    "model.load_state_dict(torch.load(\"../saved/sparse_wide_resnet_005.pt\", map_location=device))"
   ]
  },
  {
   "cell_type": "code",
   "execution_count": 28,
   "metadata": {},
   "outputs": [
    {
     "name": "stdout",
     "output_type": "stream",
     "text": [
      "clean accuracy: 0.884                             \n",
      "eps=8,a=2,i=20: 0.548                             \n",
      "eps=4,a=2,i=20: 0.6596\n"
     ]
    }
   ],
   "source": [
    "acc_clean = clean_acc(model, test_loader)\n",
    "pd_clean.append(acc_clean)\n",
    "print(f\"clean accuracy: {acc_clean}\")\n",
    "\n",
    "acc_adver = adv_acc(model, test_loader, nn.CrossEntropyLoss(), pgd, params)\n",
    "pd_adv.append(acc_adver)\n",
    "for a, p in zip(acc_adver, params):\n",
    "    print(f\"{p['name']}: {a}\")"
   ]
  },
  {
   "cell_type": "code",
   "execution_count": 29,
   "metadata": {},
   "outputs": [
    {
     "data": {
      "text/html": [
       "<div>\n",
       "<style scoped>\n",
       "    .dataframe tbody tr th:only-of-type {\n",
       "        vertical-align: middle;\n",
       "    }\n",
       "\n",
       "    .dataframe tbody tr th {\n",
       "        vertical-align: top;\n",
       "    }\n",
       "\n",
       "    .dataframe thead th {\n",
       "        text-align: right;\n",
       "    }\n",
       "</style>\n",
       "<table border=\"1\" class=\"dataframe\">\n",
       "  <thead>\n",
       "    <tr style=\"text-align: right;\">\n",
       "      <th></th>\n",
       "      <th>model</th>\n",
       "      <th>clean img accuracy</th>\n",
       "      <th>eps=8,a=2,i=20</th>\n",
       "      <th>eps=4,a=2,i=20</th>\n",
       "    </tr>\n",
       "  </thead>\n",
       "  <tbody>\n",
       "    <tr>\n",
       "      <th>0</th>\n",
       "      <td>Sparse Wide-ResNet, k=0.1</td>\n",
       "      <td>0.9116</td>\n",
       "      <td>0.4014</td>\n",
       "      <td>0.5987</td>\n",
       "    </tr>\n",
       "    <tr>\n",
       "      <th>1</th>\n",
       "      <td>Sparse Wide-ResNet k=0.2</td>\n",
       "      <td>0.9186</td>\n",
       "      <td>0.0398</td>\n",
       "      <td>0.3137</td>\n",
       "    </tr>\n",
       "    <tr>\n",
       "      <th>2</th>\n",
       "      <td>Sparse Wide-ResNet k=0.05</td>\n",
       "      <td>0.8840</td>\n",
       "      <td>0.5480</td>\n",
       "      <td>0.6596</td>\n",
       "    </tr>\n",
       "  </tbody>\n",
       "</table>\n",
       "</div>"
      ],
      "text/plain": [
       "                       model  clean img accuracy  eps=8,a=2,i=20  \\\n",
       "0  Sparse Wide-ResNet, k=0.1              0.9116          0.4014   \n",
       "1   Sparse Wide-ResNet k=0.2              0.9186          0.0398   \n",
       "2  Sparse Wide-ResNet k=0.05              0.8840          0.5480   \n",
       "\n",
       "   eps=4,a=2,i=20  \n",
       "0          0.5987  \n",
       "1          0.3137  \n",
       "2          0.6596  "
      ]
     },
     "execution_count": 29,
     "metadata": {},
     "output_type": "execute_result"
    }
   ],
   "source": [
    "d = {\n",
    "    'model': [\"Sparse Wide-ResNet, k=0.1\", \"Sparse Wide-ResNet k=0.2\", \"Sparse Wide-ResNet k=0.05\"], \n",
    "    'clean img accuracy': pd_clean, \n",
    "}\n",
    "pd_adv = np.array(pd_adv)\n",
    "for p in params:\n",
    "    d[p[\"name\"]] = pd_adv[:, p[\"id\"]]\n",
    "    \n",
    "df = pd.DataFrame(data=d)\n",
    "df"
   ]
  },
  {
   "cell_type": "code",
   "execution_count": null,
   "metadata": {},
   "outputs": [],
   "source": []
  },
  {
   "cell_type": "code",
   "execution_count": 9,
   "metadata": {},
   "outputs": [
    {
     "data": {
      "text/plain": [
       "<All keys matched successfully>"
      ]
     },
     "execution_count": 9,
     "metadata": {},
     "output_type": "execute_result"
    }
   ],
   "source": [
    "model = SparseWideResNet(depth=28, widen_factor=10, k_winners=0.1, num_classes=10).to(device)\n",
    "model.load_state_dict(torch.load(\"../saved/sparse_wide_resnet.pt\", map_location=device))"
   ]
  },
  {
   "cell_type": "code",
   "execution_count": 10,
   "metadata": {},
   "outputs": [
    {
     "name": "stdout",
     "output_type": "stream",
     "text": [
      "clean accuracy: 0.9117                            \n",
      "eps=8,a=2,i=40: 0.364                             \n"
     ]
    }
   ],
   "source": [
    "acc_clean = clean_acc(model, test_loader)\n",
    "pd_clean.append(acc_clean)\n",
    "print(f\"clean accuracy: {acc_clean}\")\n",
    "\n",
    "params2 = [attack3]\n",
    "\n",
    "acc_adver = adv_acc(model, test_loader, nn.CrossEntropyLoss(), pgd, params2)\n",
    "pd_adv.append(acc_adver)\n",
    "for a, p in zip(acc_adver, params2):\n",
    "    print(f\"{p['name']}: {a}\")"
   ]
  },
  {
   "cell_type": "markdown",
   "metadata": {},
   "source": [
    "## Adversarial training"
   ]
  },
  {
   "cell_type": "code",
   "execution_count": 7,
   "metadata": {},
   "outputs": [],
   "source": [
    "pd_clean, pd_adv = [], []"
   ]
  },
  {
   "cell_type": "code",
   "execution_count": 8,
   "metadata": {},
   "outputs": [
    {
     "data": {
      "text/plain": [
       "<All keys matched successfully>"
      ]
     },
     "execution_count": 8,
     "metadata": {},
     "output_type": "execute_result"
    }
   ],
   "source": [
    "model = SparseWideResNet(depth=28, widen_factor=10, k_winners=0.1, num_classes=10).to(device)\n",
    "model.load_state_dict(torch.load(\"../saved/robust_sparse_wide_resnet.pt\", map_location=device))"
   ]
  },
  {
   "cell_type": "code",
   "execution_count": 9,
   "metadata": {},
   "outputs": [
    {
     "name": "stdout",
     "output_type": "stream",
     "text": [
      "clean accuracy: 0.7878                            \n",
      "eps=8,a=2,i=20: 0.8286                            \n",
      "eps=4,a=2,i=20: 0.7781\n"
     ]
    }
   ],
   "source": [
    "acc_clean = clean_acc(model, test_loader)\n",
    "pd_clean.append(acc_clean)\n",
    "print(f\"clean accuracy: {acc_clean}\")\n",
    "\n",
    "acc_adver = adv_acc(model, test_loader, nn.CrossEntropyLoss(), pgd, params)\n",
    "pd_adv.append(acc_adver)\n",
    "for a, p in zip(acc_adver, params):\n",
    "    print(f\"{p['name']}: {a}\")"
   ]
  },
  {
   "cell_type": "code",
   "execution_count": 10,
   "metadata": {},
   "outputs": [
    {
     "data": {
      "text/html": [
       "<div>\n",
       "<style scoped>\n",
       "    .dataframe tbody tr th:only-of-type {\n",
       "        vertical-align: middle;\n",
       "    }\n",
       "\n",
       "    .dataframe tbody tr th {\n",
       "        vertical-align: top;\n",
       "    }\n",
       "\n",
       "    .dataframe thead th {\n",
       "        text-align: right;\n",
       "    }\n",
       "</style>\n",
       "<table border=\"1\" class=\"dataframe\">\n",
       "  <thead>\n",
       "    <tr style=\"text-align: right;\">\n",
       "      <th></th>\n",
       "      <th>model</th>\n",
       "      <th>clean img accuracy</th>\n",
       "      <th>eps=8,a=2,i=20</th>\n",
       "      <th>eps=4,a=2,i=20</th>\n",
       "    </tr>\n",
       "  </thead>\n",
       "  <tbody>\n",
       "    <tr>\n",
       "      <th>0</th>\n",
       "      <td>Robust Sparse Wide-ResNet, k=0.1</td>\n",
       "      <td>0.7878</td>\n",
       "      <td>0.8286</td>\n",
       "      <td>0.7781</td>\n",
       "    </tr>\n",
       "  </tbody>\n",
       "</table>\n",
       "</div>"
      ],
      "text/plain": [
       "                              model  clean img accuracy  eps=8,a=2,i=20  \\\n",
       "0  Robust Sparse Wide-ResNet, k=0.1              0.7878          0.8286   \n",
       "\n",
       "   eps=4,a=2,i=20  \n",
       "0          0.7781  "
      ]
     },
     "execution_count": 10,
     "metadata": {},
     "output_type": "execute_result"
    }
   ],
   "source": [
    "d = {\n",
    "    'model': [\"Robust Sparse Wide-ResNet, k=0.1\"], \n",
    "    'clean img accuracy': pd_clean, \n",
    "}\n",
    "pd_adv = np.array(pd_adv)\n",
    "for p in params:\n",
    "    d[p[\"name\"]] = pd_adv[:, p[\"id\"]]\n",
    "    \n",
    "df = pd.DataFrame(data=d)\n",
    "df"
   ]
  },
  {
   "cell_type": "code",
   "execution_count": null,
   "metadata": {},
   "outputs": [],
   "source": []
  }
 ],
 "metadata": {
  "kernelspec": {
   "display_name": "Python 3",
   "language": "python",
   "name": "python3"
  },
  "language_info": {
   "codemirror_mode": {
    "name": "ipython",
    "version": 3
   },
   "file_extension": ".py",
   "mimetype": "text/x-python",
   "name": "python",
   "nbconvert_exporter": "python",
   "pygments_lexer": "ipython3",
   "version": "3.8.3"
  }
 },
 "nbformat": 4,
 "nbformat_minor": 1
}
