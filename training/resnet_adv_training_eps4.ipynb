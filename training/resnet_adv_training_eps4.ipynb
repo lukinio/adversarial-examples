{
 "cells": [
  {
   "cell_type": "markdown",
   "metadata": {},
   "source": [
    "# Adversarial Training of ResNet and SparseResNet"
   ]
  },
  {
   "cell_type": "code",
   "execution_count": 1,
   "metadata": {},
   "outputs": [],
   "source": [
    "import sys, os\n",
    "d = os.path.dirname(os.getcwd())\n",
    "sys.path.insert(0, d)"
   ]
  },
  {
   "cell_type": "code",
   "execution_count": 2,
   "metadata": {},
   "outputs": [],
   "source": [
    "import torch\n",
    "import torch.nn as nn\n",
    "import torch.nn.functional as F\n",
    "from torch import optim\n",
    "\n",
    "from torchvision.datasets import CIFAR10\n",
    "from torchvision import transforms\n",
    "from torch.utils.data import DataLoader\n",
    "\n",
    "from utils.train_utils import adv_train\n",
    "from models.resnet import ResNet, SparseResNet\n",
    "from utils.attacks import pgd"
   ]
  },
  {
   "cell_type": "code",
   "execution_count": 3,
   "metadata": {},
   "outputs": [
    {
     "name": "stdout",
     "output_type": "stream",
     "text": [
      "cuda\n"
     ]
    }
   ],
   "source": [
    "device = torch.device(\"cuda\") if torch.cuda.is_available() else torch.device(\"cpu\")\n",
    "print(device)"
   ]
  },
  {
   "cell_type": "code",
   "execution_count": 4,
   "metadata": {},
   "outputs": [
    {
     "name": "stdout",
     "output_type": "stream",
     "text": [
      "Files already downloaded and verified\n",
      "Files already downloaded and verified\n"
     ]
    }
   ],
   "source": [
    "tr_transform = transforms.Compose([\n",
    "    transforms.RandomCrop(32, padding=4, padding_mode='reflect'),\n",
    "    transforms.RandomHorizontalFlip(),\n",
    "    transforms.ToTensor(),\n",
    "])\n",
    "vl_transform = transforms.Compose([\n",
    "    transforms.ToTensor(),\n",
    "])\n",
    "\n",
    "ds = CIFAR10('../data', train=True, download=True, transform=tr_transform)\n",
    "ds_test = CIFAR10('../data', train=False, download=True, transform=vl_transform)\n",
    "\n",
    "batch_size = 200\n",
    "train_dl = DataLoader(ds, batch_size, shuffle=True)\n",
    "valid_dl = DataLoader(ds_test, batch_size, shuffle=True)"
   ]
  },
  {
   "cell_type": "code",
   "execution_count": 5,
   "metadata": {},
   "outputs": [],
   "source": [
    "attack_params = {\n",
    "    \"epsilon\": 4/225, \n",
    "    \"alpha\": 2/255,\n",
    "    \"num_iter\": 10\n",
    "}"
   ]
  },
  {
   "cell_type": "markdown",
   "metadata": {},
   "source": [
    "# ResNet"
   ]
  },
  {
   "cell_type": "code",
   "execution_count": 6,
   "metadata": {},
   "outputs": [
    {
     "name": "stdout",
     "output_type": "stream",
     "text": [
      "Epoch: 1 Validation Loss: 1.7101 accuracy: 0.3808, time: 0:03:54\n",
      "Epoch: 2 Validation Loss: 1.4066 accuracy: 0.4875, time: 0:03:57\n",
      "Epoch: 3 Validation Loss: 1.2408 accuracy: 0.5439, time: 0:03:57\n",
      "Epoch: 4 Validation Loss: 1.1953 accuracy: 0.5741, time: 0:03:57\n",
      "Epoch: 5 Validation Loss: 1.0910 accuracy: 0.6080, time: 0:03:57\n",
      "Epoch: 6 Validation Loss: 0.9772 accuracy: 0.6705, time: 0:03:58\n",
      "Epoch: 7 Validation Loss: 0.9399 accuracy: 0.6766, time: 0:03:58\n",
      "Epoch: 8 Validation Loss: 0.8421 accuracy: 0.7196, time: 0:03:58\n",
      "Epoch: 9 Validation Loss: 0.7945 accuracy: 0.7414, time: 0:03:58\n",
      "Epoch: 10 Validation Loss: 0.7569 accuracy: 0.7546, time: 0:03:57\n",
      "Epoch: 11 Validation Loss: 0.7648 accuracy: 0.7575, time: 0:03:58\n",
      "epochs_no_improve: 1/4\n",
      "Epoch: 12 Validation Loss: 0.7441 accuracy: 0.7513, time: 0:03:57\n",
      "Epoch: 13 Validation Loss: 0.6921 accuracy: 0.7779, time: 0:03:57\n",
      "Epoch: 14 Validation Loss: 0.6733 accuracy: 0.7799, time: 0:03:58\n",
      "Epoch: 15 Validation Loss: 0.6595 accuracy: 0.7850, time: 0:03:58\n",
      "Epoch: 16 Validation Loss: 0.6382 accuracy: 0.7996, time: 0:03:58\n",
      "Epoch: 17 Validation Loss: 0.6074 accuracy: 0.7957, time: 0:03:58\n",
      "Epoch: 18 Validation Loss: 0.5953 accuracy: 0.8172, time: 0:03:57\n",
      "Epoch: 19 Validation Loss: 0.5664 accuracy: 0.8225, time: 0:03:57\n",
      "Epoch: 20 Validation Loss: 0.5605 accuracy: 0.8228, time: 0:03:58\n"
     ]
    }
   ],
   "source": [
    "model = ResNet().to(device)\n",
    "loss_fn = nn.CrossEntropyLoss()\n",
    "optimizer = optim.Adam(model.parameters(), lr=0.001)\n",
    "scheduler = optim.lr_scheduler.ReduceLROnPlateau(optimizer, mode='min', min_lr=1e-5, \n",
    "                                                 patience=2, verbose=True)\n",
    "\n",
    "adv_train(model, train_dl, valid_dl, pgd, attack_params, optimizer, loss_fn,\n",
    "          scheduler, epochs=20, device=device)\n",
    "torch.save(model.state_dict(), \"../saved/resnet_robust_eps4.pt\")"
   ]
  },
  {
   "cell_type": "markdown",
   "metadata": {},
   "source": [
    "# SparseResNet"
   ]
  },
  {
   "cell_type": "code",
   "execution_count": 7,
   "metadata": {},
   "outputs": [
    {
     "name": "stdout",
     "output_type": "stream",
     "text": [
      "Epoch: 1 Validation Loss: 1.5828 accuracy: 0.4041, time: 0:05:50\n",
      "Epoch: 2 Validation Loss: 1.3126 accuracy: 0.5161, time: 0:05:50\n",
      "Epoch: 3 Validation Loss: 1.1943 accuracy: 0.5768, time: 0:05:50\n",
      "Epoch: 4 Validation Loss: 1.0643 accuracy: 0.6361, time: 0:05:49\n",
      "Epoch: 5 Validation Loss: 0.9577 accuracy: 0.6755, time: 0:05:49\n",
      "Epoch: 6 Validation Loss: 0.8770 accuracy: 0.7021, time: 0:05:50\n",
      "Epoch: 7 Validation Loss: 0.8220 accuracy: 0.7238, time: 0:05:51\n",
      "Epoch: 8 Validation Loss: 0.7670 accuracy: 0.7442, time: 0:05:49\n",
      "Epoch: 9 Validation Loss: 0.6985 accuracy: 0.7651, time: 0:05:50\n",
      "Epoch: 10 Validation Loss: 0.6933 accuracy: 0.7679, time: 0:05:51\n",
      "Epoch: 11 Validation Loss: 0.6418 accuracy: 0.7899, time: 0:05:49\n",
      "Epoch: 12 Validation Loss: 0.6125 accuracy: 0.7968, time: 0:05:49\n",
      "Epoch: 13 Validation Loss: 0.5853 accuracy: 0.8065, time: 0:05:48\n",
      "Epoch: 14 Validation Loss: 0.5927 accuracy: 0.7998, time: 0:05:49\n",
      "epochs_no_improve: 1/4\n",
      "Epoch: 15 Validation Loss: 0.5612 accuracy: 0.8158, time: 0:05:49\n",
      "Epoch: 16 Validation Loss: 0.5576 accuracy: 0.8153, time: 0:05:49\n",
      "Epoch: 17 Validation Loss: 0.5458 accuracy: 0.8181, time: 0:05:48\n",
      "Epoch: 18 Validation Loss: 0.5511 accuracy: 0.8134, time: 0:05:50\n",
      "epochs_no_improve: 1/4\n",
      "Epoch: 19 Validation Loss: 0.5280 accuracy: 0.8240, time: 0:05:49\n",
      "Epoch: 20 Validation Loss: 0.5057 accuracy: 0.8345, time: 0:05:50\n"
     ]
    }
   ],
   "source": [
    "model = SparseResNet().to(device)\n",
    "loss_fn = nn.CrossEntropyLoss()\n",
    "optimizer = optim.Adam(model.parameters(), lr=0.001)\n",
    "scheduler = optim.lr_scheduler.ReduceLROnPlateau(optimizer, mode='min', min_lr=1e-5, \n",
    "                                                 patience=2, verbose=True)\n",
    "\n",
    "adv_train(model, train_dl, valid_dl, pgd, attack_params, optimizer, \n",
    "          loss_fn, scheduler, epochs=20, sparse=True, device=device)\n",
    "torch.save(model.state_dict(), \"../saved/sparse_resnet_robust_eps4.pt\")"
   ]
  },
  {
   "cell_type": "code",
   "execution_count": null,
   "metadata": {},
   "outputs": [],
   "source": []
  }
 ],
 "metadata": {
  "kernelspec": {
   "display_name": "Python 3",
   "language": "python",
   "name": "python3"
  },
  "language_info": {
   "codemirror_mode": {
    "name": "ipython",
    "version": 3
   },
   "file_extension": ".py",
   "mimetype": "text/x-python",
   "name": "python",
   "nbconvert_exporter": "python",
   "pygments_lexer": "ipython3",
   "version": "3.8.3"
  }
 },
 "nbformat": 4,
 "nbformat_minor": 4
}
