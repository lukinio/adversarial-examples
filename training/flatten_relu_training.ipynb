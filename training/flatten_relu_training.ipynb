{
 "cells": [
  {
   "cell_type": "markdown",
   "metadata": {},
   "source": [
    "# Training ResNet and SparseResNet on clean images \n",
    "### Flatten ReLU"
   ]
  },
  {
   "cell_type": "code",
   "execution_count": 1,
   "metadata": {},
   "outputs": [],
   "source": [
    "import sys, os\n",
    "d = os.path.dirname(os.getcwd())\n",
    "sys.path.insert(0, d)"
   ]
  },
  {
   "cell_type": "code",
   "execution_count": 2,
   "metadata": {},
   "outputs": [],
   "source": [
    "import torch\n",
    "import torch.nn as nn\n",
    "import torch.nn.functional as F\n",
    "from torch import optim\n",
    "\n",
    "from torchvision.datasets import CIFAR10\n",
    "from torchvision import transforms\n",
    "from torch.utils.data import DataLoader\n",
    "\n",
    "from utils.train_utils import train_model\n",
    "from models.resnet_FReLU import FResNet, FSparseResNet\n",
    "from utils.attacks import pgd"
   ]
  },
  {
   "cell_type": "code",
   "execution_count": 3,
   "metadata": {},
   "outputs": [
    {
     "name": "stdout",
     "output_type": "stream",
     "text": [
      "cuda\n"
     ]
    }
   ],
   "source": [
    "device = torch.device(\"cuda\") if torch.cuda.is_available() else torch.device(\"cpu\")\n",
    "print(device)"
   ]
  },
  {
   "cell_type": "code",
   "execution_count": 4,
   "metadata": {},
   "outputs": [
    {
     "name": "stdout",
     "output_type": "stream",
     "text": [
      "Files already downloaded and verified\n",
      "Files already downloaded and verified\n"
     ]
    }
   ],
   "source": [
    "tr_transform = transforms.Compose([\n",
    "    transforms.RandomCrop(32, padding=4, padding_mode='reflect'),\n",
    "    transforms.RandomHorizontalFlip(),\n",
    "    transforms.ToTensor()\n",
    "])\n",
    "vl_transform = transforms.Compose([\n",
    "    transforms.ToTensor()\n",
    "])\n",
    "\n",
    "ds = CIFAR10('../data', train=True, download=True, transform=tr_transform)\n",
    "ds_test = CIFAR10('../data', train=False, download=True, transform=vl_transform)\n",
    "\n",
    "batch_size = 200\n",
    "train_dl = DataLoader(ds, batch_size, shuffle=True)\n",
    "valid_dl = DataLoader(ds_test, batch_size, shuffle=True)"
   ]
  },
  {
   "cell_type": "markdown",
   "metadata": {},
   "source": [
    "# Training on clean images"
   ]
  },
  {
   "cell_type": "markdown",
   "metadata": {},
   "source": [
    "### ResNet"
   ]
  },
  {
   "cell_type": "code",
   "execution_count": 7,
   "metadata": {},
   "outputs": [
    {
     "name": "stdout",
     "output_type": "stream",
     "text": [
      "Epoch: 1 Validation Loss: 1.1039 accuracy: 0.5956, time: 0:02:19\n",
      "Epoch: 2 Validation Loss: 0.8268 accuracy: 0.7065, time: 0:02:23\n",
      "Epoch: 3 Validation Loss: 0.7283 accuracy: 0.7433, time: 0:02:18\n",
      "Epoch: 4 Validation Loss: 0.7232 accuracy: 0.7465, time: 0:02:19\n",
      "Epoch: 5 Validation Loss: 0.5869 accuracy: 0.8024, time: 0:02:19\n",
      "Epoch: 6 Validation Loss: 0.5537 accuracy: 0.8105, time: 0:02:19\n",
      "Epoch: 7 Validation Loss: 0.5566 accuracy: 0.8074, time: 0:02:18\n",
      "epochs_no_improve: 1/4\n",
      "Epoch: 8 Validation Loss: 0.5200 accuracy: 0.8280, time: 0:02:17\n",
      "Epoch: 9 Validation Loss: 0.4764 accuracy: 0.8396, time: 0:02:16\n",
      "Epoch: 10 Validation Loss: 0.4890 accuracy: 0.8398, time: 0:02:15\n",
      "epochs_no_improve: 1/4\n",
      "Epoch: 11 Validation Loss: 0.4348 accuracy: 0.8583, time: 0:02:16\n",
      "Epoch: 12 Validation Loss: 0.4208 accuracy: 0.8614, time: 0:02:18\n",
      "Epoch: 13 Validation Loss: 0.4170 accuracy: 0.8647, time: 0:02:19\n",
      "Epoch: 14 Validation Loss: 0.4214 accuracy: 0.8594, time: 0:02:15\n",
      "epochs_no_improve: 1/4\n",
      "Epoch: 15 Validation Loss: 0.4258 accuracy: 0.8640, time: 0:02:17\n",
      "epochs_no_improve: 2/4\n",
      "Epoch: 16 Validation Loss: 0.3745 accuracy: 0.8766, time: 0:02:17\n",
      "Epoch: 17 Validation Loss: 0.3853 accuracy: 0.8778, time: 0:02:18\n",
      "epochs_no_improve: 1/4\n",
      "Epoch: 18 Validation Loss: 0.3939 accuracy: 0.8762, time: 0:02:19\n",
      "epochs_no_improve: 2/4\n",
      "Epoch    19: reducing learning rate of group 0 to 1.0000e-05.\n",
      "Epoch: 19 Validation Loss: 0.3903 accuracy: 0.8796, time: 0:02:16\n",
      "epochs_no_improve: 3/4\n",
      "Epoch: 20 Validation Loss: 0.3321 accuracy: 0.8982, time: 0:02:19\n",
      "Epoch: 21 Validation Loss: 0.3364 accuracy: 0.8997, time: 0:02:16\n",
      "epochs_no_improve: 1/4\n",
      "Epoch: 22 Validation Loss: 0.3480 accuracy: 0.9013, time: 0:02:15\n",
      "epochs_no_improve: 2/4\n",
      "Epoch: 23 Validation Loss: 0.3599 accuracy: 0.8981, time: 0:02:13\n",
      "epochs_no_improve: 3/4\n",
      "Epoch: 24 Validation Loss: 0.3615 accuracy: 0.8994, time: 0:02:17\n",
      "epochs_no_improve: 4/4\n",
      "Early stopping!\n"
     ]
    }
   ],
   "source": [
    "model = FResNet().to(device)\n",
    "loss_fn = nn.CrossEntropyLoss()\n",
    "optimizer = optim.Adam(model.parameters(), lr=1e-4)\n",
    "scheduler = optim.lr_scheduler.ReduceLROnPlateau(optimizer, mode='min', min_lr=1e-7, patience=2, verbose=True)\n",
    "\n",
    "train_model(model, train_dl, valid_dl, optimizer, loss_fn, scheduler, epochs=30, device=device)\n",
    "torch.save(model.state_dict(), \"../saved/resnet_FReLU.pt\")"
   ]
  },
  {
   "cell_type": "markdown",
   "metadata": {},
   "source": [
    "### SparseResNet"
   ]
  },
  {
   "cell_type": "code",
   "execution_count": 5,
   "metadata": {},
   "outputs": [
    {
     "name": "stdout",
     "output_type": "stream",
     "text": [
      "Epoch: 1 Validation Loss: 1.5932 accuracy: 0.3721, time: 0:02:39\n",
      "Epoch: 2 Validation Loss: 1.4145 accuracy: 0.4425, time: 0:02:30\n",
      "Epoch: 3 Validation Loss: 1.2446 accuracy: 0.5448, time: 0:02:33\n",
      "Epoch: 4 Validation Loss: 1.0377 accuracy: 0.6287, time: 0:02:34\n",
      "Epoch: 5 Validation Loss: 0.9092 accuracy: 0.6794, time: 0:02:33\n",
      "Epoch: 6 Validation Loss: 0.8423 accuracy: 0.7059, time: 0:02:34\n",
      "Epoch: 7 Validation Loss: 0.7903 accuracy: 0.7273, time: 0:02:33\n",
      "Epoch: 8 Validation Loss: 0.7280 accuracy: 0.7466, time: 0:02:37\n",
      "Epoch: 9 Validation Loss: 0.6973 accuracy: 0.7609, time: 0:02:37\n",
      "Epoch: 10 Validation Loss: 0.6496 accuracy: 0.7779, time: 0:02:36\n",
      "Epoch: 11 Validation Loss: 0.6335 accuracy: 0.7853, time: 0:02:35\n",
      "Epoch: 12 Validation Loss: 0.6115 accuracy: 0.7957, time: 0:02:36\n",
      "Epoch: 13 Validation Loss: 0.5929 accuracy: 0.7993, time: 0:02:34\n",
      "Epoch: 14 Validation Loss: 0.5901 accuracy: 0.8050, time: 0:02:35\n",
      "Epoch: 15 Validation Loss: 0.5720 accuracy: 0.8096, time: 0:02:34\n",
      "Epoch: 16 Validation Loss: 0.5541 accuracy: 0.8191, time: 0:02:33\n",
      "Epoch: 17 Validation Loss: 0.5553 accuracy: 0.8165, time: 0:02:32\n",
      "epochs_no_improve: 1/4\n",
      "Epoch: 18 Validation Loss: 0.5578 accuracy: 0.8166, time: 0:02:34\n",
      "epochs_no_improve: 2/4\n",
      "Epoch: 19 Validation Loss: 0.5341 accuracy: 0.8266, time: 0:02:34\n",
      "Epoch: 20 Validation Loss: 0.5429 accuracy: 0.8268, time: 0:02:22\n",
      "epochs_no_improve: 1/4\n",
      "Epoch: 21 Validation Loss: 0.5168 accuracy: 0.8284, time: 0:02:17\n",
      "Epoch: 22 Validation Loss: 0.5291 accuracy: 0.8318, time: 0:02:17\n",
      "epochs_no_improve: 1/4\n",
      "Epoch: 23 Validation Loss: 0.5296 accuracy: 0.8353, time: 0:02:19\n",
      "epochs_no_improve: 2/4\n",
      "Epoch    24: reducing learning rate of group 0 to 1.0000e-05.\n",
      "Epoch: 24 Validation Loss: 0.5236 accuracy: 0.8372, time: 0:02:23\n",
      "epochs_no_improve: 3/4\n",
      "Epoch: 25 Validation Loss: 0.4850 accuracy: 0.8508, time: 0:02:32\n",
      "Epoch: 26 Validation Loss: 0.4899 accuracy: 0.8445, time: 0:02:33\n",
      "epochs_no_improve: 1/4\n",
      "Epoch: 27 Validation Loss: 0.4964 accuracy: 0.8459, time: 0:02:36\n",
      "epochs_no_improve: 2/4\n",
      "Epoch    28: reducing learning rate of group 0 to 1.0000e-06.\n",
      "Epoch: 28 Validation Loss: 0.4891 accuracy: 0.8481, time: 0:02:38\n",
      "epochs_no_improve: 3/4\n",
      "Epoch: 29 Validation Loss: 0.4969 accuracy: 0.8456, time: 0:02:36\n",
      "epochs_no_improve: 4/4\n",
      "Early stopping!\n"
     ]
    }
   ],
   "source": [
    "model = FSparseResNet().to(device)\n",
    "loss_fn = nn.CrossEntropyLoss()\n",
    "optimizer = optim.Adam(model.parameters(), lr=1e-4)\n",
    "scheduler = optim.lr_scheduler.ReduceLROnPlateau(optimizer, mode='min', min_lr=1e-7, patience=2, verbose=True)\n",
    "\n",
    "train_model(model, train_dl, valid_dl, optimizer, loss_fn, scheduler, epochs=30, sparse=True, device=device)\n",
    "torch.save(model.state_dict(), \"../saved/sparse_resnet_FReLU.pt\")"
   ]
  },
  {
   "cell_type": "code",
   "execution_count": 7,
   "metadata": {},
   "outputs": [],
   "source": []
  }
 ],
 "metadata": {
  "kernelspec": {
   "display_name": "Python 3",
   "language": "python",
   "name": "python3"
  },
  "language_info": {
   "codemirror_mode": {
    "name": "ipython",
    "version": 3
   },
   "file_extension": ".py",
   "mimetype": "text/x-python",
   "name": "python",
   "nbconvert_exporter": "python",
   "pygments_lexer": "ipython3",
   "version": "3.8.3"
  }
 },
 "nbformat": 4,
 "nbformat_minor": 4
}
