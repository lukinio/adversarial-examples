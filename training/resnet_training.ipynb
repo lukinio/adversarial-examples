{
 "cells": [
  {
   "cell_type": "markdown",
   "metadata": {},
   "source": [
    "# Training ResNet and SparseResNet on clean images"
   ]
  },
  {
   "cell_type": "code",
   "execution_count": 1,
   "metadata": {},
   "outputs": [],
   "source": [
    "import sys, os\n",
    "d = os.path.dirname(os.getcwd())\n",
    "sys.path.insert(0, d)"
   ]
  },
  {
   "cell_type": "code",
   "execution_count": 2,
   "metadata": {},
   "outputs": [],
   "source": [
    "import torch\n",
    "import torch.nn as nn\n",
    "import torch.nn.functional as F\n",
    "from torch import optim\n",
    "\n",
    "from torchvision.datasets import CIFAR10\n",
    "from torchvision import transforms\n",
    "from torch.utils.data import DataLoader\n",
    "\n",
    "from utils.train_utils import train_model\n",
    "from models.resnet import ResNet, SparseResNet\n",
    "from utils.attacks import pgd"
   ]
  },
  {
   "cell_type": "code",
   "execution_count": 3,
   "metadata": {},
   "outputs": [
    {
     "name": "stdout",
     "output_type": "stream",
     "text": [
      "cuda\n"
     ]
    }
   ],
   "source": [
    "device = torch.device(\"cuda\") if torch.cuda.is_available() else torch.device(\"cpu\")\n",
    "print(device)"
   ]
  },
  {
   "cell_type": "markdown",
   "metadata": {},
   "source": [
    "# Training on clean images"
   ]
  },
  {
   "cell_type": "code",
   "execution_count": 4,
   "metadata": {},
   "outputs": [
    {
     "name": "stdout",
     "output_type": "stream",
     "text": [
      "Files already downloaded and verified\n",
      "Files already downloaded and verified\n"
     ]
    }
   ],
   "source": [
    "tr_transform = transforms.Compose([\n",
    "    transforms.RandomCrop(32, padding=4, padding_mode='reflect'),\n",
    "    transforms.RandomHorizontalFlip(),\n",
    "    transforms.ToTensor()\n",
    "])\n",
    "vl_transform = transforms.Compose([\n",
    "    transforms.ToTensor()\n",
    "])\n",
    "\n",
    "ds = CIFAR10('../data', train=True, download=True, transform=tr_transform)\n",
    "ds_test = CIFAR10('../data', train=False, download=True, transform=vl_transform)\n",
    "\n",
    "batch_size = 200\n",
    "train_dl = DataLoader(ds, batch_size, shuffle=True)\n",
    "valid_dl = DataLoader(ds_test, batch_size, shuffle=True)"
   ]
  },
  {
   "cell_type": "markdown",
   "metadata": {},
   "source": [
    "### ResNet"
   ]
  },
  {
   "cell_type": "code",
   "execution_count": 5,
   "metadata": {},
   "outputs": [
    {
     "name": "stdout",
     "output_type": "stream",
     "text": [
      "Epoch: 1 Validation Loss: 1.4766 accuracy: 0.4274, time: 0:00:36\n",
      "Epoch: 2 Validation Loss: 1.1345 accuracy: 0.5900, time: 0:00:36\n",
      "Epoch: 3 Validation Loss: 0.8565 accuracy: 0.6918, time: 0:00:37\n",
      "Epoch: 4 Validation Loss: 0.7652 accuracy: 0.7332, time: 0:00:35\n",
      "Epoch: 5 Validation Loss: 0.6539 accuracy: 0.7715, time: 0:00:35\n",
      "Epoch: 6 Validation Loss: 0.5590 accuracy: 0.8077, time: 0:00:34\n",
      "Epoch: 7 Validation Loss: 0.5368 accuracy: 0.8133, time: 0:00:36\n",
      "Epoch: 8 Validation Loss: 0.5030 accuracy: 0.8248, time: 0:00:35\n",
      "Epoch: 9 Validation Loss: 0.4496 accuracy: 0.8486, time: 0:00:35\n",
      "Epoch: 10 Validation Loss: 0.4263 accuracy: 0.8566, time: 0:00:33\n",
      "Epoch: 11 Validation Loss: 0.4169 accuracy: 0.8651, time: 0:00:34\n",
      "Epoch: 12 Validation Loss: 0.4055 accuracy: 0.8677, time: 0:00:33\n",
      "Epoch: 13 Validation Loss: 0.3833 accuracy: 0.8702, time: 0:00:31\n",
      "Epoch: 14 Validation Loss: 0.3868 accuracy: 0.8749, time: 0:00:33\n",
      "epochs_no_improve: 1/4\n",
      "Epoch: 15 Validation Loss: 0.3866 accuracy: 0.8722, time: 0:00:35\n",
      "epochs_no_improve: 2/4\n",
      "Epoch: 16 Validation Loss: 0.3533 accuracy: 0.8862, time: 0:00:33\n",
      "Epoch: 17 Validation Loss: 0.3512 accuracy: 0.8849, time: 0:00:33\n",
      "Epoch: 18 Validation Loss: 0.3468 accuracy: 0.8895, time: 0:00:33\n",
      "Epoch: 19 Validation Loss: 0.3596 accuracy: 0.8893, time: 0:00:33\n",
      "epochs_no_improve: 1/4\n",
      "Epoch: 20 Validation Loss: 0.3290 accuracy: 0.8989, time: 0:00:32\n",
      "Epoch: 21 Validation Loss: 0.3386 accuracy: 0.8974, time: 0:00:33\n",
      "epochs_no_improve: 1/4\n",
      "Epoch: 22 Validation Loss: 0.3465 accuracy: 0.8979, time: 0:00:33\n",
      "epochs_no_improve: 2/4\n",
      "Epoch: 23 Validation Loss: 0.3263 accuracy: 0.9026, time: 0:00:31\n",
      "Epoch: 24 Validation Loss: 0.3133 accuracy: 0.9033, time: 0:00:33\n",
      "Epoch: 25 Validation Loss: 0.3422 accuracy: 0.8991, time: 0:00:32\n",
      "epochs_no_improve: 1/4\n",
      "Epoch: 26 Validation Loss: 0.3624 accuracy: 0.8982, time: 0:00:32\n",
      "epochs_no_improve: 2/4\n",
      "Epoch    27: reducing learning rate of group 0 to 1.0000e-04.\n",
      "Epoch: 27 Validation Loss: 0.3694 accuracy: 0.9012, time: 0:00:34\n",
      "epochs_no_improve: 3/4\n",
      "Epoch: 28 Validation Loss: 0.3016 accuracy: 0.9204, time: 0:00:33\n",
      "Epoch: 29 Validation Loss: 0.3073 accuracy: 0.9209, time: 0:00:32\n",
      "epochs_no_improve: 1/4\n",
      "Epoch: 30 Validation Loss: 0.3152 accuracy: 0.9223, time: 0:00:35\n",
      "epochs_no_improve: 2/4\n"
     ]
    }
   ],
   "source": [
    "model = ResNet().to(device)\n",
    "loss_fn = nn.CrossEntropyLoss()\n",
    "optimizer = optim.Adam(model.parameters(), lr=0.001)\n",
    "scheduler = optim.lr_scheduler.ReduceLROnPlateau(optimizer, mode='min', min_lr=1e-5, patience=2, verbose=True)\n",
    "\n",
    "train_model(model, train_dl, valid_dl, optimizer, loss_fn, scheduler, epochs=30, device=device)\n",
    "torch.save(model.state_dict(), \"../saved/resnet.pt\")"
   ]
  },
  {
   "cell_type": "markdown",
   "metadata": {},
   "source": [
    "### SparseResNet"
   ]
  },
  {
   "cell_type": "code",
   "execution_count": 6,
   "metadata": {},
   "outputs": [
    {
     "name": "stdout",
     "output_type": "stream",
     "text": [
      "Epoch: 1 Validation Loss: 1.4576 accuracy: 0.4182, time: 0:01:00\n",
      "Epoch: 2 Validation Loss: 1.1062 accuracy: 0.5980, time: 0:00:59\n",
      "Epoch: 3 Validation Loss: 0.9284 accuracy: 0.6793, time: 0:00:59\n",
      "Epoch: 4 Validation Loss: 0.7231 accuracy: 0.7517, time: 0:00:59\n",
      "Epoch: 5 Validation Loss: 0.6502 accuracy: 0.7781, time: 0:01:00\n",
      "Epoch: 6 Validation Loss: 0.5646 accuracy: 0.8058, time: 0:00:59\n",
      "Epoch: 7 Validation Loss: 0.5353 accuracy: 0.8172, time: 0:01:00\n",
      "Epoch: 8 Validation Loss: 0.4720 accuracy: 0.8390, time: 0:00:59\n",
      "Epoch: 9 Validation Loss: 0.4699 accuracy: 0.8412, time: 0:01:00\n",
      "Epoch: 10 Validation Loss: 0.4289 accuracy: 0.8564, time: 0:00:58\n",
      "Epoch: 11 Validation Loss: 0.4340 accuracy: 0.8565, time: 0:00:58\n",
      "epochs_no_improve: 1/4\n",
      "Epoch: 12 Validation Loss: 0.4114 accuracy: 0.8620, time: 0:00:59\n",
      "Epoch: 13 Validation Loss: 0.4157 accuracy: 0.8609, time: 0:00:58\n",
      "epochs_no_improve: 1/4\n",
      "Epoch: 14 Validation Loss: 0.3994 accuracy: 0.8658, time: 0:00:59\n",
      "Epoch: 15 Validation Loss: 0.4045 accuracy: 0.8669, time: 0:00:59\n",
      "epochs_no_improve: 1/4\n",
      "Epoch: 16 Validation Loss: 0.4050 accuracy: 0.8648, time: 0:01:00\n",
      "epochs_no_improve: 2/4\n",
      "Epoch: 17 Validation Loss: 0.3946 accuracy: 0.8674, time: 0:00:59\n",
      "Epoch: 18 Validation Loss: 0.4075 accuracy: 0.8745, time: 0:00:58\n",
      "epochs_no_improve: 1/4\n",
      "Epoch: 19 Validation Loss: 0.3845 accuracy: 0.8752, time: 0:01:01\n",
      "Epoch: 20 Validation Loss: 0.3911 accuracy: 0.8784, time: 0:00:59\n",
      "epochs_no_improve: 1/4\n",
      "Epoch: 21 Validation Loss: 0.3854 accuracy: 0.8800, time: 0:01:01\n",
      "epochs_no_improve: 2/4\n",
      "Epoch: 22 Validation Loss: 0.3701 accuracy: 0.8821, time: 0:01:02\n",
      "Epoch: 23 Validation Loss: 0.3833 accuracy: 0.8828, time: 0:00:57\n",
      "epochs_no_improve: 1/4\n",
      "Epoch: 24 Validation Loss: 0.3771 accuracy: 0.8804, time: 0:00:58\n",
      "epochs_no_improve: 2/4\n",
      "Epoch    25: reducing learning rate of group 0 to 1.0000e-04.\n",
      "Epoch: 25 Validation Loss: 0.3742 accuracy: 0.8917, time: 0:01:00\n",
      "epochs_no_improve: 3/4\n",
      "Epoch: 26 Validation Loss: 0.3447 accuracy: 0.8979, time: 0:00:59\n",
      "Epoch: 27 Validation Loss: 0.3568 accuracy: 0.9004, time: 0:00:58\n",
      "epochs_no_improve: 1/4\n",
      "Epoch: 28 Validation Loss: 0.3555 accuracy: 0.8991, time: 0:00:58\n",
      "epochs_no_improve: 2/4\n",
      "Epoch    29: reducing learning rate of group 0 to 1.0000e-05.\n",
      "Epoch: 29 Validation Loss: 0.3698 accuracy: 0.9004, time: 0:00:58\n",
      "epochs_no_improve: 3/4\n",
      "Epoch: 30 Validation Loss: 0.3711 accuracy: 0.9017, time: 0:01:01\n",
      "epochs_no_improve: 4/4\n",
      "Early stopping!\n"
     ]
    }
   ],
   "source": [
    "model = SparseResNet().to(device)\n",
    "loss_fn = nn.CrossEntropyLoss()\n",
    "optimizer = optim.Adam(model.parameters(), lr=0.001)\n",
    "scheduler = optim.lr_scheduler.ReduceLROnPlateau(optimizer, mode='min', min_lr=1e-5, patience=2, verbose=True)\n",
    "\n",
    "train_model(model, train_dl, valid_dl, optimizer, loss_fn, scheduler, epochs=30, sparse=True, device=device)\n",
    "torch.save(model.state_dict(), \"../saved/sparse_resnet.pt\")"
   ]
  },
  {
   "cell_type": "code",
   "execution_count": null,
   "metadata": {},
   "outputs": [],
   "source": []
  }
 ],
 "metadata": {
  "kernelspec": {
   "display_name": "Python 3",
   "language": "python",
   "name": "python3"
  },
  "language_info": {
   "codemirror_mode": {
    "name": "ipython",
    "version": 3
   },
   "file_extension": ".py",
   "mimetype": "text/x-python",
   "name": "python",
   "nbconvert_exporter": "python",
   "pygments_lexer": "ipython3",
   "version": "3.8.3"
  }
 },
 "nbformat": 4,
 "nbformat_minor": 4
}
