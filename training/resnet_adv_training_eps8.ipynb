{
 "cells": [
  {
   "cell_type": "markdown",
   "metadata": {},
   "source": [
    "# Adversarial Training of ResNet and SparseResNet"
   ]
  },
  {
   "cell_type": "code",
   "execution_count": 1,
   "metadata": {},
   "outputs": [],
   "source": [
    "import sys, os\n",
    "d = os.path.dirname(os.getcwd())\n",
    "sys.path.insert(0, d)"
   ]
  },
  {
   "cell_type": "code",
   "execution_count": 2,
   "metadata": {},
   "outputs": [],
   "source": [
    "import torch\n",
    "import torch.nn as nn\n",
    "import torch.nn.functional as F\n",
    "from torch import optim\n",
    "\n",
    "from torchvision.datasets import CIFAR10\n",
    "from torchvision import transforms\n",
    "from torch.utils.data import DataLoader\n",
    "\n",
    "from utils.train_utils import adv_train\n",
    "from models.resnet import ResNet, SparseResNet\n",
    "from utils.attacks import pgd"
   ]
  },
  {
   "cell_type": "code",
   "execution_count": 3,
   "metadata": {},
   "outputs": [
    {
     "name": "stdout",
     "output_type": "stream",
     "text": [
      "cuda\n"
     ]
    }
   ],
   "source": [
    "device = torch.device(\"cuda\") if torch.cuda.is_available() else torch.device(\"cpu\")\n",
    "print(device)"
   ]
  },
  {
   "cell_type": "code",
   "execution_count": 4,
   "metadata": {},
   "outputs": [
    {
     "name": "stdout",
     "output_type": "stream",
     "text": [
      "Files already downloaded and verified\n",
      "Files already downloaded and verified\n"
     ]
    }
   ],
   "source": [
    "tr_transform = transforms.Compose([\n",
    "    transforms.RandomCrop(32, padding=4, padding_mode='reflect'),\n",
    "    transforms.RandomHorizontalFlip(),\n",
    "    transforms.ToTensor(),\n",
    "])\n",
    "vl_transform = transforms.Compose([\n",
    "    transforms.ToTensor(),\n",
    "])\n",
    "\n",
    "ds = CIFAR10('../data', train=True, download=True, transform=tr_transform)\n",
    "ds_test = CIFAR10('../data', train=False, download=True, transform=vl_transform)\n",
    "\n",
    "batch_size = 200\n",
    "train_dl = DataLoader(ds, batch_size, shuffle=True)\n",
    "valid_dl = DataLoader(ds_test, batch_size, shuffle=True)"
   ]
  },
  {
   "cell_type": "code",
   "execution_count": 5,
   "metadata": {},
   "outputs": [],
   "source": [
    "attack_params = {\n",
    "    \"epsilon\": 8/225, \n",
    "    \"alpha\": 2/255,\n",
    "    \"num_iter\": 10\n",
    "}"
   ]
  },
  {
   "cell_type": "markdown",
   "metadata": {},
   "source": [
    "# ResNet"
   ]
  },
  {
   "cell_type": "code",
   "execution_count": 6,
   "metadata": {
    "scrolled": true
   },
   "outputs": [
    {
     "name": "stdout",
     "output_type": "stream",
     "text": [
      "Epoch: 1 Validation Loss: 1.7625 accuracy: 0.3541, time: 0:06:19\n",
      "Epoch: 2 Validation Loss: 1.6179 accuracy: 0.4141, time: 0:07:31\n",
      "Epoch: 3 Validation Loss: 1.5377 accuracy: 0.4515, time: 0:08:10\n",
      "Epoch: 4 Validation Loss: 1.4002 accuracy: 0.5042, time: 0:08:09\n",
      "Epoch: 5 Validation Loss: 1.3941 accuracy: 0.5346, time: 0:08:09\n",
      "Epoch: 6 Validation Loss: 1.2672 accuracy: 0.5629, time: 0:08:10\n",
      "Epoch: 7 Validation Loss: 1.1946 accuracy: 0.5653, time: 0:08:11\n",
      "Epoch: 8 Validation Loss: 1.1256 accuracy: 0.6137, time: 0:08:11\n",
      "Epoch: 9 Validation Loss: 1.1271 accuracy: 0.6239, time: 0:06:42\n",
      "epochs_no_improve: 1/4\n",
      "Epoch: 10 Validation Loss: 1.0724 accuracy: 0.6427, time: 0:08:10\n",
      "Epoch: 11 Validation Loss: 1.0670 accuracy: 0.6489, time: 0:05:19\n",
      "Epoch: 12 Validation Loss: 1.0112 accuracy: 0.6610, time: 0:03:57\n",
      "Epoch: 13 Validation Loss: 0.9697 accuracy: 0.6912, time: 0:03:58\n",
      "Epoch: 14 Validation Loss: 0.9708 accuracy: 0.6842, time: 0:03:57\n",
      "epochs_no_improve: 1/4\n",
      "Epoch: 15 Validation Loss: 0.9269 accuracy: 0.6999, time: 0:03:57\n",
      "Epoch: 16 Validation Loss: 0.9066 accuracy: 0.7010, time: 0:03:57\n",
      "Epoch: 17 Validation Loss: 0.9040 accuracy: 0.6955, time: 0:03:57\n",
      "Epoch: 18 Validation Loss: 0.8861 accuracy: 0.7247, time: 0:03:58\n",
      "Epoch: 19 Validation Loss: 0.9031 accuracy: 0.6880, time: 0:03:57\n",
      "epochs_no_improve: 1/4\n",
      "Epoch: 20 Validation Loss: 0.8595 accuracy: 0.7281, time: 0:03:58\n"
     ]
    }
   ],
   "source": [
    "model = ResNet().to(device)\n",
    "loss_fn = nn.CrossEntropyLoss()\n",
    "optimizer = optim.Adam(model.parameters(), lr=0.001)\n",
    "scheduler = optim.lr_scheduler.ReduceLROnPlateau(optimizer, mode='min', min_lr=1e-5, \n",
    "                                                 patience=2, verbose=True)\n",
    "\n",
    "adv_train(model, train_dl, valid_dl, pgd, attack_params, optimizer, loss_fn,\n",
    "          scheduler, epochs=20, device=device)\n",
    "torch.save(model.state_dict(), \"../saved/resnet_robust_eps8.pt\")"
   ]
  },
  {
   "cell_type": "markdown",
   "metadata": {},
   "source": [
    "# SparseResNet"
   ]
  },
  {
   "cell_type": "code",
   "execution_count": 7,
   "metadata": {},
   "outputs": [
    {
     "name": "stdout",
     "output_type": "stream",
     "text": [
      "Epoch: 1 Validation Loss: 1.7219 accuracy: 0.3552, time: 0:05:50\n",
      "Epoch: 2 Validation Loss: 1.4862 accuracy: 0.4510, time: 0:06:33\n",
      "Epoch: 3 Validation Loss: 1.3696 accuracy: 0.5237, time: 0:05:49\n",
      "Epoch: 4 Validation Loss: 1.1961 accuracy: 0.5626, time: 0:05:50\n",
      "Epoch: 5 Validation Loss: 1.0965 accuracy: 0.6089, time: 0:05:50\n",
      "Epoch: 6 Validation Loss: 1.0557 accuracy: 0.6313, time: 0:05:51\n",
      "Epoch: 7 Validation Loss: 0.9864 accuracy: 0.6513, time: 0:05:51\n",
      "Epoch: 8 Validation Loss: 0.9612 accuracy: 0.6690, time: 0:05:51\n",
      "Epoch: 9 Validation Loss: 0.9398 accuracy: 0.6692, time: 0:05:51\n",
      "Epoch: 10 Validation Loss: 0.8718 accuracy: 0.7021, time: 0:05:51\n",
      "Epoch: 11 Validation Loss: 0.9175 accuracy: 0.6930, time: 0:05:51\n",
      "epochs_no_improve: 1/4\n",
      "Epoch: 12 Validation Loss: 0.8842 accuracy: 0.6991, time: 0:05:51\n",
      "epochs_no_improve: 2/4\n",
      "Epoch: 13 Validation Loss: 0.8559 accuracy: 0.7193, time: 0:05:51\n",
      "Epoch: 14 Validation Loss: 0.8577 accuracy: 0.7215, time: 0:05:51\n",
      "epochs_no_improve: 1/4\n",
      "Epoch: 15 Validation Loss: 0.8160 accuracy: 0.7276, time: 0:05:51\n",
      "Epoch: 16 Validation Loss: 0.8708 accuracy: 0.7156, time: 0:05:50\n",
      "epochs_no_improve: 1/4\n",
      "Epoch: 17 Validation Loss: 0.8262 accuracy: 0.7355, time: 0:05:52\n",
      "epochs_no_improve: 2/4\n",
      "Epoch: 18 Validation Loss: 0.8087 accuracy: 0.7386, time: 0:05:51\n",
      "Epoch: 19 Validation Loss: 0.8042 accuracy: 0.7350, time: 0:05:52\n",
      "Epoch: 20 Validation Loss: 0.7794 accuracy: 0.7382, time: 0:05:52\n"
     ]
    }
   ],
   "source": [
    "model = SparseResNet().to(device)\n",
    "loss_fn = nn.CrossEntropyLoss()\n",
    "optimizer = optim.Adam(model.parameters(), lr=0.001)\n",
    "scheduler = optim.lr_scheduler.ReduceLROnPlateau(optimizer, mode='min', min_lr=1e-5, \n",
    "                                                 patience=2, verbose=True)\n",
    "\n",
    "adv_train(model, train_dl, valid_dl, pgd, attack_params, optimizer, \n",
    "          loss_fn, scheduler, epochs=20, sparse=True, device=device)\n",
    "torch.save(model.state_dict(), \"../saved/sparse_resnet_robust_eps8.pt\")"
   ]
  },
  {
   "cell_type": "code",
   "execution_count": null,
   "metadata": {},
   "outputs": [],
   "source": []
  }
 ],
 "metadata": {
  "kernelspec": {
   "display_name": "Python 3",
   "language": "python",
   "name": "python3"
  },
  "language_info": {
   "codemirror_mode": {
    "name": "ipython",
    "version": 3
   },
   "file_extension": ".py",
   "mimetype": "text/x-python",
   "name": "python",
   "nbconvert_exporter": "python",
   "pygments_lexer": "ipython3",
   "version": "3.8.3"
  }
 },
 "nbformat": 4,
 "nbformat_minor": 4
}
